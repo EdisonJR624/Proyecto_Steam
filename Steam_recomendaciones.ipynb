{
 "cells": [
  {
   "cell_type": "code",
   "execution_count": 1,
   "source": [
    "import numpy as np\r\n",
    "import pandas as pd\r\n",
    "import matplotlib.pyplot as plt\r\n",
    "import seaborn as sns\r\n",
    "\r\n",
    "## ram\r\n",
    "import gzip\r\n",
    "import gc #garbage collector\r\n",
    "\r\n",
    "# Surprise\r\n",
    "from surprise import Reader, Dataset, SVD, accuracy\r\n",
    "from surprise.model_selection import cross_validate"
   ],
   "outputs": [],
   "metadata": {}
  },
  {
   "cell_type": "code",
   "execution_count": 52,
   "source": [
    "## function para leer cada linea de los datos comprimidos\r\n",
    "def parse(path):\r\n",
    "    g = gzip.open(path, 'r')\r\n",
    "    for l in g:\r\n",
    "        yield eval(l)"
   ],
   "outputs": [],
   "metadata": {}
  },
  {
   "cell_type": "code",
   "execution_count": 53,
   "source": [
    "#### Importar los datos de las caracteristicas de los juegos\r\n",
    "\r\n",
    "## Funcion que da acamica para abrir solo cada cierta cantidad de datos.\r\n",
    "'''\r\n",
    "contador = 0\r\n",
    "data_reviews = []\r\n",
    "# Vamos a guardar una de cada 10 reviews para no llenar la memoria RAM. Si pones n = 3, \r\n",
    "# abrira uno de cada tres, y asi.\r\n",
    "n = 10\r\n",
    "for l in parse('steam_reviews.json.gz'):\r\n",
    "    if contador%n == 0:\r\n",
    "        data_reviews.append(l)\r\n",
    "    else:\r\n",
    "        pass\r\n",
    "    contador += 1\r\n",
    "'''\r\n",
    "## Funcion para coger solo una cantidad de datos en orden\r\n",
    "data_games = []\r\n",
    "num = 1000\r\n",
    "for i, l in enumerate(parse('datos\\steam_games.json.gz')):\r\n",
    "    data_games.append(l)\r\n",
    "    if i == num:\r\n",
    "        break"
   ],
   "outputs": [],
   "metadata": {}
  },
  {
   "cell_type": "code",
   "execution_count": 54,
   "source": [
    "#### Importar los datos de las reviews\r\n",
    "\r\n",
    "## Funcion que da acamica para abrir solo cada cierta cantidad de datos.\r\n",
    "'''\r\n",
    "contador = 0\r\n",
    "data_reviews = []\r\n",
    "# Vamos a guardar una de cada 10 reviews para no llenar la memoria RAM. Si pones n = 3, \r\n",
    "# abrira uno de cada tres, y asi.\r\n",
    "n = 10\r\n",
    "for l in parse('steam_reviews.json.gz'):\r\n",
    "    if contador%n == 0:\r\n",
    "        data_reviews.append(l)\r\n",
    "    else:\r\n",
    "        pass\r\n",
    "    contador += 1\r\n",
    "'''\r\n",
    "## Funcion para coger solo una cantidad de datos en orden\r\n",
    "data_reviews = []\r\n",
    "num = 1000\r\n",
    "for i, l in enumerate(parse('datos\\steam_reviews.json.gz')):\r\n",
    "    data_reviews.append(l)\r\n",
    "    if i == num:\r\n",
    "        break"
   ],
   "outputs": [],
   "metadata": {}
  },
  {
   "cell_type": "code",
   "execution_count": 62,
   "source": [
    "## Crear un data frame con los datos\r\n",
    "df_games = pd.DataFrame(data_games)\r\n",
    "df_rev = pd.DataFrame(data_reviews)\r\n",
    "# df_rev.head()\r\n",
    "# df_games.head()"
   ],
   "outputs": [],
   "metadata": {}
  },
  {
   "cell_type": "markdown",
   "source": [
    "# Analisis exploratorio de datos"
   ],
   "metadata": {}
  },
  {
   "cell_type": "code",
   "execution_count": 86,
   "source": [
    "df_games.info()"
   ],
   "outputs": [
    {
     "output_type": "stream",
     "name": "stdout",
     "text": [
      "<class 'pandas.core.frame.DataFrame'>\n",
      "RangeIndex: 1001 entries, 0 to 1000\n",
      "Data columns (total 16 columns):\n",
      " #   Column          Non-Null Count  Dtype  \n",
      "---  ------          --------------  -----  \n",
      " 0   publisher       974 non-null    object \n",
      " 1   genres          961 non-null    object \n",
      " 2   app_name        1000 non-null   object \n",
      " 3   title           990 non-null    object \n",
      " 4   url             1001 non-null   object \n",
      " 5   release_date    989 non-null    object \n",
      " 6   tags            986 non-null    object \n",
      " 7   discount_price  16 non-null     float64\n",
      " 8   reviews_url     1000 non-null   object \n",
      " 9   specs           997 non-null    object \n",
      " 10  price           957 non-null    object \n",
      " 11  early_access    1001 non-null   bool   \n",
      " 12  id              1000 non-null   object \n",
      " 13  developer       977 non-null    object \n",
      " 14  sentiment       905 non-null    object \n",
      " 15  metascore       406 non-null    object \n",
      "dtypes: bool(1), float64(1), object(14)\n",
      "memory usage: 118.4+ KB\n"
     ]
    }
   ],
   "metadata": {}
  },
  {
   "cell_type": "markdown",
   "source": [
    "## Analisis de datos de info games\r\n",
    "- Se ve que las variables de discount_price y las de metascore faltan mucho\r\n",
    "- Se observa que esta la feature \"sentiment\" que nos dice el rating general de el juego\r\n",
    "- El nombre del juego es la feature 'title' pero tambien \"app name\" se puede usar como substituto\r\n",
    "- los atributos generos y tags son muy parecidos entre si, solo que genero es solamente tiene los generos de los juegos, pero por esta razon tiene mas naans que tags\r\n",
    "- Hay caracteres no occidentales y emojis asi que hay que tener cuidado con los errores de encoding"
   ],
   "metadata": {}
  },
  {
   "cell_type": "code",
   "execution_count": 98,
   "source": [
    "df_rev.info()\r\n",
    "df_rev.head()"
   ],
   "outputs": [
    {
     "output_type": "stream",
     "name": "stdout",
     "text": [
      "<class 'pandas.core.frame.DataFrame'>\n",
      "RangeIndex: 1001 entries, 0 to 1000\n",
      "Data columns (total 12 columns):\n",
      " #   Column        Non-Null Count  Dtype  \n",
      "---  ------        --------------  -----  \n",
      " 0   username      1001 non-null   object \n",
      " 1   hours         1000 non-null   float64\n",
      " 2   products      1001 non-null   int64  \n",
      " 3   product_id    1001 non-null   object \n",
      " 4   page_order    1001 non-null   int64  \n",
      " 5   date          1001 non-null   object \n",
      " 6   text          1001 non-null   object \n",
      " 7   early_access  1001 non-null   bool   \n",
      " 8   page          1001 non-null   int64  \n",
      " 9   found_funny   207 non-null    float64\n",
      " 10  compensation  61 non-null     object \n",
      " 11  user_id       398 non-null    object \n",
      "dtypes: bool(1), float64(2), int64(3), object(6)\n",
      "memory usage: 87.1+ KB\n"
     ]
    },
    {
     "output_type": "execute_result",
     "data": {
      "text/plain": [
       "         username  hours  products product_id  page_order        date  \\\n",
       "0     Chaos Syren    0.1        41     725280           0  2017-12-17   \n",
       "1      ₮ʜᴇ Wᴀʀᴛᴏɴ   51.1       769     328100           0  2017-12-27   \n",
       "2         hello?<   14.6         2     328100           1  2017-10-16   \n",
       "3     Cyderine916    5.0        64      35140           0  2018-01-04   \n",
       "4  DarklyThinking   16.6       577      35140           1  2018-01-04   \n",
       "\n",
       "                                                text  early_access  page  \\\n",
       "0  This would not be acceptable as an entertainme...         False     1   \n",
       "1                         looks like a facebook game         False     1   \n",
       "2                              Better than Minecraft         False     1   \n",
       "3  I love and idolized Batman and this game is Ma...         False     1   \n",
       "4  Still worth playing in 2018.\\nProbably my favo...         False     1   \n",
       "\n",
       "   found_funny               compensation            user_id  \n",
       "0          NaN                        NaN                NaN  \n",
       "1          NaN                        NaN                NaN  \n",
       "2          2.0  Product received for free                NaN  \n",
       "3          NaN                        NaN                NaN  \n",
       "4          NaN                        NaN  76561198007483075  "
      ],
      "text/html": [
       "<div>\n",
       "<style scoped>\n",
       "    .dataframe tbody tr th:only-of-type {\n",
       "        vertical-align: middle;\n",
       "    }\n",
       "\n",
       "    .dataframe tbody tr th {\n",
       "        vertical-align: top;\n",
       "    }\n",
       "\n",
       "    .dataframe thead th {\n",
       "        text-align: right;\n",
       "    }\n",
       "</style>\n",
       "<table border=\"1\" class=\"dataframe\">\n",
       "  <thead>\n",
       "    <tr style=\"text-align: right;\">\n",
       "      <th></th>\n",
       "      <th>username</th>\n",
       "      <th>hours</th>\n",
       "      <th>products</th>\n",
       "      <th>product_id</th>\n",
       "      <th>page_order</th>\n",
       "      <th>date</th>\n",
       "      <th>text</th>\n",
       "      <th>early_access</th>\n",
       "      <th>page</th>\n",
       "      <th>found_funny</th>\n",
       "      <th>compensation</th>\n",
       "      <th>user_id</th>\n",
       "    </tr>\n",
       "  </thead>\n",
       "  <tbody>\n",
       "    <tr>\n",
       "      <th>0</th>\n",
       "      <td>Chaos Syren</td>\n",
       "      <td>0.1</td>\n",
       "      <td>41</td>\n",
       "      <td>725280</td>\n",
       "      <td>0</td>\n",
       "      <td>2017-12-17</td>\n",
       "      <td>This would not be acceptable as an entertainme...</td>\n",
       "      <td>False</td>\n",
       "      <td>1</td>\n",
       "      <td>NaN</td>\n",
       "      <td>NaN</td>\n",
       "      <td>NaN</td>\n",
       "    </tr>\n",
       "    <tr>\n",
       "      <th>1</th>\n",
       "      <td>₮ʜᴇ Wᴀʀᴛᴏɴ</td>\n",
       "      <td>51.1</td>\n",
       "      <td>769</td>\n",
       "      <td>328100</td>\n",
       "      <td>0</td>\n",
       "      <td>2017-12-27</td>\n",
       "      <td>looks like a facebook game</td>\n",
       "      <td>False</td>\n",
       "      <td>1</td>\n",
       "      <td>NaN</td>\n",
       "      <td>NaN</td>\n",
       "      <td>NaN</td>\n",
       "    </tr>\n",
       "    <tr>\n",
       "      <th>2</th>\n",
       "      <td>hello?&lt;</td>\n",
       "      <td>14.6</td>\n",
       "      <td>2</td>\n",
       "      <td>328100</td>\n",
       "      <td>1</td>\n",
       "      <td>2017-10-16</td>\n",
       "      <td>Better than Minecraft</td>\n",
       "      <td>False</td>\n",
       "      <td>1</td>\n",
       "      <td>2.0</td>\n",
       "      <td>Product received for free</td>\n",
       "      <td>NaN</td>\n",
       "    </tr>\n",
       "    <tr>\n",
       "      <th>3</th>\n",
       "      <td>Cyderine916</td>\n",
       "      <td>5.0</td>\n",
       "      <td>64</td>\n",
       "      <td>35140</td>\n",
       "      <td>0</td>\n",
       "      <td>2018-01-04</td>\n",
       "      <td>I love and idolized Batman and this game is Ma...</td>\n",
       "      <td>False</td>\n",
       "      <td>1</td>\n",
       "      <td>NaN</td>\n",
       "      <td>NaN</td>\n",
       "      <td>NaN</td>\n",
       "    </tr>\n",
       "    <tr>\n",
       "      <th>4</th>\n",
       "      <td>DarklyThinking</td>\n",
       "      <td>16.6</td>\n",
       "      <td>577</td>\n",
       "      <td>35140</td>\n",
       "      <td>1</td>\n",
       "      <td>2018-01-04</td>\n",
       "      <td>Still worth playing in 2018.\\nProbably my favo...</td>\n",
       "      <td>False</td>\n",
       "      <td>1</td>\n",
       "      <td>NaN</td>\n",
       "      <td>NaN</td>\n",
       "      <td>76561198007483075</td>\n",
       "    </tr>\n",
       "  </tbody>\n",
       "</table>\n",
       "</div>"
      ]
     },
     "metadata": {},
     "execution_count": 98
    }
   ],
   "metadata": {}
  },
  {
   "cell_type": "code",
   "execution_count": 105,
   "source": [
    "len(df_rev[df_rev.duplicated(subset=['username'],keep=False)])"
   ],
   "outputs": [
    {
     "output_type": "execute_result",
     "data": {
      "text/plain": [
       "27"
      ]
     },
     "metadata": {},
     "execution_count": 105
    }
   ],
   "metadata": {}
  },
  {
   "cell_type": "markdown",
   "source": [
    "# Analisis de Features datos de review\r\n",
    "- hay que usar los datos de username para identificar a los usuarios (creo que los nombres son unicos). Hay que ver de alguna manera si dos personas pueden tener el mismo username.\r\n",
    "- El 2.7 porciento del dataset es de personas que hacen varias reviews (Hacer graficos con el numero de reviews que hace una persona)\r\n",
    "- La feature \"text\" puede servir para hacer un analisis de sentimiento\r\n",
    "- El numero de horas jugadas puede encodearse para utilizarlo como un suplente de rating"
   ],
   "metadata": {}
  },
  {
   "cell_type": "code",
   "execution_count": null,
   "source": [],
   "outputs": [],
   "metadata": {}
  },
  {
   "cell_type": "markdown",
   "source": [
    "# Graficos\r\n",
    "- Coger mas datos a la manera de acamica. \r\n",
    "Para hacer estos graficos necesitamos una dataset mas grande y representativo. Tendremos que usar la funcion que lee una row del dataset cada cierto numero de lines(la funcion que nos da acamica) para evitar solo coger datos de cierto tipo de juegos. Como las reviews estan en un orden, al usar la funcion de datos podriamo accidentalmente, y si las suerte no nos acompaña, escoger un tipo de juego que no represente la totalidad de los juegos, por ejemplog, que en los 1000 datos ordenas cojamos solo los juegod free-to-play, o los juegos indies, que posiblemente tengan reviews mas bajas que otros..\r\n",
    "\r\n",
    "\r\n",
    "- Hacer un grafico de las horas jugadas del juego #todo\r\n",
    "- Hacer un grafico de el numero de reviews que hace la gente #todo"
   ],
   "metadata": {}
  },
  {
   "cell_type": "markdown",
   "source": [
    "## PARA HACER\r\n",
    "- Podemos usar el target como la combinacion de el numero de horas jugadas combinado con el analisis de sentimiento de la review. (primero hacer con el encoding ) #todo"
   ],
   "metadata": {}
  }
 ],
 "metadata": {
  "kernelspec": {
   "display_name": "Python 3 (ipykernel)",
   "language": "python",
   "name": "python3"
  },
  "language_info": {
   "codemirror_mode": {
    "name": "ipython",
    "version": 3
   },
   "file_extension": ".py",
   "mimetype": "text/x-python",
   "name": "python",
   "nbconvert_exporter": "python",
   "pygments_lexer": "ipython3",
   "version": "3.7.10"
  }
 },
 "nbformat": 4,
 "nbformat_minor": 5
}