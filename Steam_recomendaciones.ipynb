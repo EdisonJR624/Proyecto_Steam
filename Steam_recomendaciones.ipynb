{
 "cells": [
  {
   "cell_type": "markdown",
   "metadata": {},
   "source": [
    "# Proyecto 03 - Sistema de recomendación de videojuegos en Steam"
   ]
  },
  {
   "cell_type": "markdown",
   "metadata": {},
   "source": [
    "El objetivo del proyecto es crear un sistema de recomendación de videojuegos para la plataforma Steam, esto a partir de las reviews de los usuarios y los datos de los videojuegos."
   ]
  },
  {
   "cell_type": "markdown",
   "metadata": {},
   "source": [
    "## 0. Librerias y conformación de los datasets"
   ]
  },
  {
   "cell_type": "code",
   "execution_count": 1,
   "metadata": {},
   "outputs": [],
   "source": [
    "# Importamos la librerías a utilizar\n",
    "\n",
    "import numpy as np\n",
    "import pandas as pd\n",
    "import matplotlib.pyplot as plt\n",
    "import seaborn as sns\n",
    "\n",
    "# Librerías para optimizar el uso de la RAM\n",
    "import gzip\n",
    "import gc #garbage collector\n",
    "\n",
    "# Librerías para la predicción - Surprise\n",
    "from surprise import Reader, Dataset, SVD, accuracy\n",
    "from surprise.model_selection import cross_validate"
   ]
  },
  {
   "cell_type": "code",
   "execution_count": 2,
   "metadata": {},
   "outputs": [],
   "source": [
    "# Definimos una función para leer cada linea de los datos comprimidos\n",
    "def parse(path):\n",
    "    g = gzip.open(path, 'r')\n",
    "    for l in g:\n",
    "        yield eval(l)"
   ]
  },
  {
   "cell_type": "code",
   "execution_count": 3,
   "metadata": {},
   "outputs": [],
   "source": [
    "# Importar los datos de las caracteristicas de los juegos\n",
    "\n",
    "# Función para abrir solo cada cierta cantidad de datos.\n",
    "'''\n",
    "contador = 0\n",
    "data_reviews = []\n",
    "# Vamos a guardar una de cada 10 reviews para no llenar la memoria RAM. Si pones n = 3, \n",
    "# abrira uno de cada tres, y asi.\n",
    "n = 10\n",
    "for l in parse('steam_reviews.json.gz'):\n",
    "    if contador%n == 0:\n",
    "        data_reviews.append(l)\n",
    "    else:\n",
    "        pass\n",
    "    contador += 1\n",
    "'''\n",
    "# Funcion para coger solo una cantidad de datos en orden\n",
    "data_games = []\n",
    "num = 100000\n",
    "for i, l in enumerate(parse('datos\\steam_games.json.gz')):\n",
    "    data_games.append(l)\n",
    "    if i == num:\n",
    "        break"
   ]
  },
  {
   "cell_type": "code",
   "execution_count": 4,
   "metadata": {},
   "outputs": [],
   "source": [
    "# Importar los datos de las reviews\n",
    "\n",
    "# Funcion que da acamica para abrir solo cada cierta cantidad de datos.\n",
    "'''\n",
    "contador = 0\n",
    "data_reviews = []\n",
    "# Vamos a guardar una de cada 10 reviews para no llenar la memoria RAM. Si pones n = 3, \n",
    "# abrira uno de cada tres, y asi.\n",
    "n = 10\n",
    "for l in parse('steam_reviews.json.gz'):\n",
    "    if contador%n == 0:\n",
    "        data_reviews.append(l)\n",
    "    else:\n",
    "        pass\n",
    "    contador += 1\n",
    "'''\n",
    "# Funcion para coger solo una cantidad de datos en orden\n",
    "data_reviews = []\n",
    "num = 100000\n",
    "for i, l in enumerate(parse('datos\\steam_reviews.json.gz')):\n",
    "    data_reviews.append(l)\n",
    "    if i == num:\n",
    "        break"
   ]
  },
  {
   "cell_type": "code",
   "execution_count": 5,
   "metadata": {},
   "outputs": [],
   "source": [
    "# Crear un data frame con los datos\n",
    "df_games = pd.DataFrame(data_games)\n",
    "df_rev = pd.DataFrame(data_reviews)\n",
    "# df_rev.head()\n",
    "# df_games.head()"
   ]
  },
  {
   "cell_type": "code",
   "execution_count": 6,
   "metadata": {},
   "outputs": [
    {
     "output_type": "execute_result",
     "data": {
      "text/plain": [
       "         username  hours  products product_id  page_order        date  \\\n",
       "0     Chaos Syren    0.1      41.0     725280           0  2017-12-17   \n",
       "1      ₮ʜᴇ Wᴀʀᴛᴏɴ   51.1     769.0     328100           0  2017-12-27   \n",
       "2         hello?<   14.6       2.0     328100           1  2017-10-16   \n",
       "3     Cyderine916    5.0      64.0      35140           0  2018-01-04   \n",
       "4  DarklyThinking   16.6     577.0      35140           1  2018-01-04   \n",
       "\n",
       "                                                text  early_access  page  \\\n",
       "0  This would not be acceptable as an entertainme...         False     1   \n",
       "1                         looks like a facebook game         False     1   \n",
       "2                              Better than Minecraft         False     1   \n",
       "3  I love and idolized Batman and this game is Ma...         False     1   \n",
       "4  Still worth playing in 2018.\\nProbably my favo...         False     1   \n",
       "\n",
       "   found_funny               compensation            user_id  \n",
       "0          NaN                        NaN                NaN  \n",
       "1          NaN                        NaN                NaN  \n",
       "2          2.0  Product received for free                NaN  \n",
       "3          NaN                        NaN                NaN  \n",
       "4          NaN                        NaN  76561198007483075  "
      ],
      "text/html": "<div>\n<style scoped>\n    .dataframe tbody tr th:only-of-type {\n        vertical-align: middle;\n    }\n\n    .dataframe tbody tr th {\n        vertical-align: top;\n    }\n\n    .dataframe thead th {\n        text-align: right;\n    }\n</style>\n<table border=\"1\" class=\"dataframe\">\n  <thead>\n    <tr style=\"text-align: right;\">\n      <th></th>\n      <th>username</th>\n      <th>hours</th>\n      <th>products</th>\n      <th>product_id</th>\n      <th>page_order</th>\n      <th>date</th>\n      <th>text</th>\n      <th>early_access</th>\n      <th>page</th>\n      <th>found_funny</th>\n      <th>compensation</th>\n      <th>user_id</th>\n    </tr>\n  </thead>\n  <tbody>\n    <tr>\n      <th>0</th>\n      <td>Chaos Syren</td>\n      <td>0.1</td>\n      <td>41.0</td>\n      <td>725280</td>\n      <td>0</td>\n      <td>2017-12-17</td>\n      <td>This would not be acceptable as an entertainme...</td>\n      <td>False</td>\n      <td>1</td>\n      <td>NaN</td>\n      <td>NaN</td>\n      <td>NaN</td>\n    </tr>\n    <tr>\n      <th>1</th>\n      <td>₮ʜᴇ Wᴀʀᴛᴏɴ</td>\n      <td>51.1</td>\n      <td>769.0</td>\n      <td>328100</td>\n      <td>0</td>\n      <td>2017-12-27</td>\n      <td>looks like a facebook game</td>\n      <td>False</td>\n      <td>1</td>\n      <td>NaN</td>\n      <td>NaN</td>\n      <td>NaN</td>\n    </tr>\n    <tr>\n      <th>2</th>\n      <td>hello?&lt;</td>\n      <td>14.6</td>\n      <td>2.0</td>\n      <td>328100</td>\n      <td>1</td>\n      <td>2017-10-16</td>\n      <td>Better than Minecraft</td>\n      <td>False</td>\n      <td>1</td>\n      <td>2.0</td>\n      <td>Product received for free</td>\n      <td>NaN</td>\n    </tr>\n    <tr>\n      <th>3</th>\n      <td>Cyderine916</td>\n      <td>5.0</td>\n      <td>64.0</td>\n      <td>35140</td>\n      <td>0</td>\n      <td>2018-01-04</td>\n      <td>I love and idolized Batman and this game is Ma...</td>\n      <td>False</td>\n      <td>1</td>\n      <td>NaN</td>\n      <td>NaN</td>\n      <td>NaN</td>\n    </tr>\n    <tr>\n      <th>4</th>\n      <td>DarklyThinking</td>\n      <td>16.6</td>\n      <td>577.0</td>\n      <td>35140</td>\n      <td>1</td>\n      <td>2018-01-04</td>\n      <td>Still worth playing in 2018.\\nProbably my favo...</td>\n      <td>False</td>\n      <td>1</td>\n      <td>NaN</td>\n      <td>NaN</td>\n      <td>76561198007483075</td>\n    </tr>\n  </tbody>\n</table>\n</div>"
     },
     "metadata": {},
     "execution_count": 6
    }
   ],
   "source": [
    "df_rev.head()"
   ]
  },
  {
   "cell_type": "code",
   "execution_count": 7,
   "metadata": {},
   "outputs": [
    {
     "output_type": "execute_result",
     "data": {
      "text/plain": [
       "         username  hours  products product_id  page_order        date  \\\n",
       "1      ₮ʜᴇ Wᴀʀᴛᴏɴ   51.1     769.0     328100           0  2017-12-27   \n",
       "2225   ₮ʜᴇ Wᴀʀᴛᴏɴ    3.1     769.0     308040           0  2017-11-13   \n",
       "10875  ₮ʜᴇ Wᴀʀᴛᴏɴ    3.3     770.0     363490           0  2017-12-25   \n",
       "12893  ₮ʜᴇ Wᴀʀᴛᴏɴ  654.6     769.0       1840           3  2017-10-26   \n",
       "23136  ₮ʜᴇ Wᴀʀᴛᴏɴ    0.4     770.0     234710           5  2017-12-26   \n",
       "26164  ₮ʜᴇ Wᴀʀᴛᴏɴ    1.7     770.0     227940           4  2017-12-29   \n",
       "38927  ₮ʜᴇ Wᴀʀᴛᴏɴ   51.2     770.0     388160           1  2017-12-27   \n",
       "\n",
       "                                                    text  early_access  page  \\\n",
       "1                             looks like a facebook game         False     1   \n",
       "2225   WHAT ARE YOU DOING ON THE PC\\nGO BACK TO BED Y...         False    11   \n",
       "10875                                  escape this sh-it          True     1   \n",
       "12893                                                            False    46   \n",
       "23136  Every game will freeze in the end.\\n(Same As P...         False     2   \n",
       "26164                                      wasted talent         False    16   \n",
       "38927                                           oh god..         False     1   \n",
       "\n",
       "       found_funny compensation user_id  \n",
       "1              NaN          NaN     NaN  \n",
       "2225           NaN          NaN     NaN  \n",
       "10875          1.0          NaN     NaN  \n",
       "12893         82.0          NaN     NaN  \n",
       "23136          NaN          NaN     NaN  \n",
       "26164          NaN          NaN     NaN  \n",
       "38927          NaN          NaN     NaN  "
      ],
      "text/html": "<div>\n<style scoped>\n    .dataframe tbody tr th:only-of-type {\n        vertical-align: middle;\n    }\n\n    .dataframe tbody tr th {\n        vertical-align: top;\n    }\n\n    .dataframe thead th {\n        text-align: right;\n    }\n</style>\n<table border=\"1\" class=\"dataframe\">\n  <thead>\n    <tr style=\"text-align: right;\">\n      <th></th>\n      <th>username</th>\n      <th>hours</th>\n      <th>products</th>\n      <th>product_id</th>\n      <th>page_order</th>\n      <th>date</th>\n      <th>text</th>\n      <th>early_access</th>\n      <th>page</th>\n      <th>found_funny</th>\n      <th>compensation</th>\n      <th>user_id</th>\n    </tr>\n  </thead>\n  <tbody>\n    <tr>\n      <th>1</th>\n      <td>₮ʜᴇ Wᴀʀᴛᴏɴ</td>\n      <td>51.1</td>\n      <td>769.0</td>\n      <td>328100</td>\n      <td>0</td>\n      <td>2017-12-27</td>\n      <td>looks like a facebook game</td>\n      <td>False</td>\n      <td>1</td>\n      <td>NaN</td>\n      <td>NaN</td>\n      <td>NaN</td>\n    </tr>\n    <tr>\n      <th>2225</th>\n      <td>₮ʜᴇ Wᴀʀᴛᴏɴ</td>\n      <td>3.1</td>\n      <td>769.0</td>\n      <td>308040</td>\n      <td>0</td>\n      <td>2017-11-13</td>\n      <td>WHAT ARE YOU DOING ON THE PC\\nGO BACK TO BED Y...</td>\n      <td>False</td>\n      <td>11</td>\n      <td>NaN</td>\n      <td>NaN</td>\n      <td>NaN</td>\n    </tr>\n    <tr>\n      <th>10875</th>\n      <td>₮ʜᴇ Wᴀʀᴛᴏɴ</td>\n      <td>3.3</td>\n      <td>770.0</td>\n      <td>363490</td>\n      <td>0</td>\n      <td>2017-12-25</td>\n      <td>escape this sh-it</td>\n      <td>True</td>\n      <td>1</td>\n      <td>1.0</td>\n      <td>NaN</td>\n      <td>NaN</td>\n    </tr>\n    <tr>\n      <th>12893</th>\n      <td>₮ʜᴇ Wᴀʀᴛᴏɴ</td>\n      <td>654.6</td>\n      <td>769.0</td>\n      <td>1840</td>\n      <td>3</td>\n      <td>2017-10-26</td>\n      <td></td>\n      <td>False</td>\n      <td>46</td>\n      <td>82.0</td>\n      <td>NaN</td>\n      <td>NaN</td>\n    </tr>\n    <tr>\n      <th>23136</th>\n      <td>₮ʜᴇ Wᴀʀᴛᴏɴ</td>\n      <td>0.4</td>\n      <td>770.0</td>\n      <td>234710</td>\n      <td>5</td>\n      <td>2017-12-26</td>\n      <td>Every game will freeze in the end.\\n(Same As P...</td>\n      <td>False</td>\n      <td>2</td>\n      <td>NaN</td>\n      <td>NaN</td>\n      <td>NaN</td>\n    </tr>\n    <tr>\n      <th>26164</th>\n      <td>₮ʜᴇ Wᴀʀᴛᴏɴ</td>\n      <td>1.7</td>\n      <td>770.0</td>\n      <td>227940</td>\n      <td>4</td>\n      <td>2017-12-29</td>\n      <td>wasted talent</td>\n      <td>False</td>\n      <td>16</td>\n      <td>NaN</td>\n      <td>NaN</td>\n      <td>NaN</td>\n    </tr>\n    <tr>\n      <th>38927</th>\n      <td>₮ʜᴇ Wᴀʀᴛᴏɴ</td>\n      <td>51.2</td>\n      <td>770.0</td>\n      <td>388160</td>\n      <td>1</td>\n      <td>2017-12-27</td>\n      <td>oh god..</td>\n      <td>False</td>\n      <td>1</td>\n      <td>NaN</td>\n      <td>NaN</td>\n      <td>NaN</td>\n    </tr>\n  </tbody>\n</table>\n</div>"
     },
     "metadata": {},
     "execution_count": 7
    }
   ],
   "source": [
    "df_rev[df_rev['username']=='₮ʜᴇ Wᴀʀᴛᴏɴ']"
   ]
  },
  {
   "cell_type": "code",
   "execution_count": 8,
   "metadata": {},
   "outputs": [
    {
     "output_type": "execute_result",
     "data": {
      "text/plain": [
       "          publisher                                             genres  \\\n",
       "0         Kotoshiro      [Action, Casual, Indie, Simulation, Strategy]   \n",
       "1  Making Fun, Inc.               [Free to Play, Indie, RPG, Strategy]   \n",
       "2      Poolians.com  [Casual, Free to Play, Indie, Simulation, Sports]   \n",
       "3              彼岸领域                        [Action, Adventure, Casual]   \n",
       "4               NaN                                                NaN   \n",
       "\n",
       "                  app_name                    title  \\\n",
       "0      Lost Summoner Kitty      Lost Summoner Kitty   \n",
       "1                Ironbound                Ironbound   \n",
       "2  Real Pool 3D - Poolians  Real Pool 3D - Poolians   \n",
       "3                  弹炸人2222                  弹炸人2222   \n",
       "4            Log Challenge                      NaN   \n",
       "\n",
       "                                                 url release_date  \\\n",
       "0  http://store.steampowered.com/app/761140/Lost_...   2018-01-04   \n",
       "1  http://store.steampowered.com/app/643980/Ironb...   2018-01-04   \n",
       "2  http://store.steampowered.com/app/670290/Real_...   2017-07-24   \n",
       "3     http://store.steampowered.com/app/767400/2222/   2017-12-07   \n",
       "4  http://store.steampowered.com/app/773570/Log_C...          NaN   \n",
       "\n",
       "                                                tags  discount_price  \\\n",
       "0      [Strategy, Action, Indie, Casual, Simulation]            4.49   \n",
       "1  [Free to Play, Strategy, Indie, RPG, Card Game...             NaN   \n",
       "2  [Free to Play, Simulation, Sports, Casual, Ind...             NaN   \n",
       "3                        [Action, Adventure, Casual]            0.83   \n",
       "4                    [Action, Indie, Casual, Sports]            1.79   \n",
       "\n",
       "                                         reviews_url  \\\n",
       "0  http://steamcommunity.com/app/761140/reviews/?...   \n",
       "1  http://steamcommunity.com/app/643980/reviews/?...   \n",
       "2  http://steamcommunity.com/app/670290/reviews/?...   \n",
       "3  http://steamcommunity.com/app/767400/reviews/?...   \n",
       "4  http://steamcommunity.com/app/773570/reviews/?...   \n",
       "\n",
       "                                               specs         price  \\\n",
       "0                                    [Single-player]          4.99   \n",
       "1  [Single-player, Multi-player, Online Multi-Pla...  Free To Play   \n",
       "2  [Single-player, Multi-player, Online Multi-Pla...  Free to Play   \n",
       "3                                    [Single-player]          0.99   \n",
       "4  [Single-player, Full controller support, HTC V...          2.99   \n",
       "\n",
       "   early_access      id         developer        sentiment metascore  \n",
       "0         False  761140         Kotoshiro              NaN       NaN  \n",
       "1         False  643980  Secret Level SRL  Mostly Positive       NaN  \n",
       "2         False  670290      Poolians.com  Mostly Positive       NaN  \n",
       "3         False  767400              彼岸领域              NaN       NaN  \n",
       "4         False  773570               NaN              NaN       NaN  "
      ],
      "text/html": "<div>\n<style scoped>\n    .dataframe tbody tr th:only-of-type {\n        vertical-align: middle;\n    }\n\n    .dataframe tbody tr th {\n        vertical-align: top;\n    }\n\n    .dataframe thead th {\n        text-align: right;\n    }\n</style>\n<table border=\"1\" class=\"dataframe\">\n  <thead>\n    <tr style=\"text-align: right;\">\n      <th></th>\n      <th>publisher</th>\n      <th>genres</th>\n      <th>app_name</th>\n      <th>title</th>\n      <th>url</th>\n      <th>release_date</th>\n      <th>tags</th>\n      <th>discount_price</th>\n      <th>reviews_url</th>\n      <th>specs</th>\n      <th>price</th>\n      <th>early_access</th>\n      <th>id</th>\n      <th>developer</th>\n      <th>sentiment</th>\n      <th>metascore</th>\n    </tr>\n  </thead>\n  <tbody>\n    <tr>\n      <th>0</th>\n      <td>Kotoshiro</td>\n      <td>[Action, Casual, Indie, Simulation, Strategy]</td>\n      <td>Lost Summoner Kitty</td>\n      <td>Lost Summoner Kitty</td>\n      <td>http://store.steampowered.com/app/761140/Lost_...</td>\n      <td>2018-01-04</td>\n      <td>[Strategy, Action, Indie, Casual, Simulation]</td>\n      <td>4.49</td>\n      <td>http://steamcommunity.com/app/761140/reviews/?...</td>\n      <td>[Single-player]</td>\n      <td>4.99</td>\n      <td>False</td>\n      <td>761140</td>\n      <td>Kotoshiro</td>\n      <td>NaN</td>\n      <td>NaN</td>\n    </tr>\n    <tr>\n      <th>1</th>\n      <td>Making Fun, Inc.</td>\n      <td>[Free to Play, Indie, RPG, Strategy]</td>\n      <td>Ironbound</td>\n      <td>Ironbound</td>\n      <td>http://store.steampowered.com/app/643980/Ironb...</td>\n      <td>2018-01-04</td>\n      <td>[Free to Play, Strategy, Indie, RPG, Card Game...</td>\n      <td>NaN</td>\n      <td>http://steamcommunity.com/app/643980/reviews/?...</td>\n      <td>[Single-player, Multi-player, Online Multi-Pla...</td>\n      <td>Free To Play</td>\n      <td>False</td>\n      <td>643980</td>\n      <td>Secret Level SRL</td>\n      <td>Mostly Positive</td>\n      <td>NaN</td>\n    </tr>\n    <tr>\n      <th>2</th>\n      <td>Poolians.com</td>\n      <td>[Casual, Free to Play, Indie, Simulation, Sports]</td>\n      <td>Real Pool 3D - Poolians</td>\n      <td>Real Pool 3D - Poolians</td>\n      <td>http://store.steampowered.com/app/670290/Real_...</td>\n      <td>2017-07-24</td>\n      <td>[Free to Play, Simulation, Sports, Casual, Ind...</td>\n      <td>NaN</td>\n      <td>http://steamcommunity.com/app/670290/reviews/?...</td>\n      <td>[Single-player, Multi-player, Online Multi-Pla...</td>\n      <td>Free to Play</td>\n      <td>False</td>\n      <td>670290</td>\n      <td>Poolians.com</td>\n      <td>Mostly Positive</td>\n      <td>NaN</td>\n    </tr>\n    <tr>\n      <th>3</th>\n      <td>彼岸领域</td>\n      <td>[Action, Adventure, Casual]</td>\n      <td>弹炸人2222</td>\n      <td>弹炸人2222</td>\n      <td>http://store.steampowered.com/app/767400/2222/</td>\n      <td>2017-12-07</td>\n      <td>[Action, Adventure, Casual]</td>\n      <td>0.83</td>\n      <td>http://steamcommunity.com/app/767400/reviews/?...</td>\n      <td>[Single-player]</td>\n      <td>0.99</td>\n      <td>False</td>\n      <td>767400</td>\n      <td>彼岸领域</td>\n      <td>NaN</td>\n      <td>NaN</td>\n    </tr>\n    <tr>\n      <th>4</th>\n      <td>NaN</td>\n      <td>NaN</td>\n      <td>Log Challenge</td>\n      <td>NaN</td>\n      <td>http://store.steampowered.com/app/773570/Log_C...</td>\n      <td>NaN</td>\n      <td>[Action, Indie, Casual, Sports]</td>\n      <td>1.79</td>\n      <td>http://steamcommunity.com/app/773570/reviews/?...</td>\n      <td>[Single-player, Full controller support, HTC V...</td>\n      <td>2.99</td>\n      <td>False</td>\n      <td>773570</td>\n      <td>NaN</td>\n      <td>NaN</td>\n      <td>NaN</td>\n    </tr>\n  </tbody>\n</table>\n</div>"
     },
     "metadata": {},
     "execution_count": 8
    }
   ],
   "source": [
    "df_games.head()"
   ]
  },
  {
   "cell_type": "code",
   "execution_count": 9,
   "metadata": {},
   "outputs": [
    {
     "output_type": "execute_result",
     "data": {
      "text/plain": [
       "array([nan, 'Mostly Positive', 'Mixed', '1 user reviews',\n",
       "       '3 user reviews', '8 user reviews', 'Very Positive',\n",
       "       'Overwhelmingly Positive', '6 user reviews', '5 user reviews',\n",
       "       '2 user reviews', 'Very Negative', 'Positive', 'Mostly Negative',\n",
       "       '9 user reviews', 'Negative', '4 user reviews', '7 user reviews',\n",
       "       'Overwhelmingly Negative'], dtype=object)"
      ]
     },
     "metadata": {},
     "execution_count": 9
    }
   ],
   "source": [
    "df_games['sentiment'].unique()"
   ]
  },
  {
   "cell_type": "markdown",
   "metadata": {},
   "source": [
    "# Analisis exploratorio de datos"
   ]
  },
  {
   "cell_type": "code",
   "execution_count": 10,
   "metadata": {},
   "outputs": [
    {
     "output_type": "stream",
     "name": "stdout",
     "text": [
      "<class 'pandas.core.frame.DataFrame'>\nRangeIndex: 100001 entries, 0 to 100000\nData columns (total 12 columns):\n #   Column        Non-Null Count   Dtype  \n---  ------        --------------   -----  \n 0   username      100001 non-null  object \n 1   hours         99854 non-null   float64\n 2   products      99854 non-null   float64\n 3   product_id    100001 non-null  object \n 4   page_order    100001 non-null  int64  \n 5   date          100001 non-null  object \n 6   text          100001 non-null  object \n 7   early_access  100001 non-null  bool   \n 8   page          100001 non-null  int64  \n 9   found_funny   17263 non-null   float64\n 10  compensation  2523 non-null    object \n 11  user_id       39258 non-null   object \ndtypes: bool(1), float64(3), int64(2), object(6)\nmemory usage: 8.5+ MB\n"
     ]
    }
   ],
   "source": [
    "df_rev.info()"
   ]
  },
  {
   "cell_type": "markdown",
   "metadata": {},
   "source": [
    "## Analisis de datos de info games\n",
    "- Se ve que las variables de discount_price y las de metascore faltan mucho\n",
    "- Se observa que esta la feature \"sentiment\" que nos dice el rating general de el juego\n",
    "- El nombre del juego es la feature 'title' pero tambien \"app name\" se puede usar como substituto\n",
    "- los atributos generos y tags son muy parecidos entre si, solo que genero es solamente tiene los generos de los juegos, pero por esta razon tiene mas naans que tags\n",
    "- Hay caracteres no occidentales y emojis asi que hay que tener cuidado con los errores de encoding"
   ]
  },
  {
   "cell_type": "code",
   "execution_count": 11,
   "metadata": {},
   "outputs": [
    {
     "output_type": "stream",
     "name": "stdout",
     "text": [
      "<class 'pandas.core.frame.DataFrame'>\nRangeIndex: 100001 entries, 0 to 100000\nData columns (total 12 columns):\n #   Column        Non-Null Count   Dtype  \n---  ------        --------------   -----  \n 0   username      100001 non-null  object \n 1   hours         99854 non-null   float64\n 2   products      99854 non-null   float64\n 3   product_id    100001 non-null  object \n 4   page_order    100001 non-null  int64  \n 5   date          100001 non-null  object \n 6   text          100001 non-null  object \n 7   early_access  100001 non-null  bool   \n 8   page          100001 non-null  int64  \n 9   found_funny   17263 non-null   float64\n 10  compensation  2523 non-null    object \n 11  user_id       39258 non-null   object \ndtypes: bool(1), float64(3), int64(2), object(6)\nmemory usage: 8.5+ MB\n"
     ]
    },
    {
     "output_type": "execute_result",
     "data": {
      "text/plain": [
       "         username  hours  products product_id  page_order        date  \\\n",
       "0     Chaos Syren    0.1      41.0     725280           0  2017-12-17   \n",
       "1      ₮ʜᴇ Wᴀʀᴛᴏɴ   51.1     769.0     328100           0  2017-12-27   \n",
       "2         hello?<   14.6       2.0     328100           1  2017-10-16   \n",
       "3     Cyderine916    5.0      64.0      35140           0  2018-01-04   \n",
       "4  DarklyThinking   16.6     577.0      35140           1  2018-01-04   \n",
       "\n",
       "                                                text  early_access  page  \\\n",
       "0  This would not be acceptable as an entertainme...         False     1   \n",
       "1                         looks like a facebook game         False     1   \n",
       "2                              Better than Minecraft         False     1   \n",
       "3  I love and idolized Batman and this game is Ma...         False     1   \n",
       "4  Still worth playing in 2018.\\nProbably my favo...         False     1   \n",
       "\n",
       "   found_funny               compensation            user_id  \n",
       "0          NaN                        NaN                NaN  \n",
       "1          NaN                        NaN                NaN  \n",
       "2          2.0  Product received for free                NaN  \n",
       "3          NaN                        NaN                NaN  \n",
       "4          NaN                        NaN  76561198007483075  "
      ],
      "text/html": "<div>\n<style scoped>\n    .dataframe tbody tr th:only-of-type {\n        vertical-align: middle;\n    }\n\n    .dataframe tbody tr th {\n        vertical-align: top;\n    }\n\n    .dataframe thead th {\n        text-align: right;\n    }\n</style>\n<table border=\"1\" class=\"dataframe\">\n  <thead>\n    <tr style=\"text-align: right;\">\n      <th></th>\n      <th>username</th>\n      <th>hours</th>\n      <th>products</th>\n      <th>product_id</th>\n      <th>page_order</th>\n      <th>date</th>\n      <th>text</th>\n      <th>early_access</th>\n      <th>page</th>\n      <th>found_funny</th>\n      <th>compensation</th>\n      <th>user_id</th>\n    </tr>\n  </thead>\n  <tbody>\n    <tr>\n      <th>0</th>\n      <td>Chaos Syren</td>\n      <td>0.1</td>\n      <td>41.0</td>\n      <td>725280</td>\n      <td>0</td>\n      <td>2017-12-17</td>\n      <td>This would not be acceptable as an entertainme...</td>\n      <td>False</td>\n      <td>1</td>\n      <td>NaN</td>\n      <td>NaN</td>\n      <td>NaN</td>\n    </tr>\n    <tr>\n      <th>1</th>\n      <td>₮ʜᴇ Wᴀʀᴛᴏɴ</td>\n      <td>51.1</td>\n      <td>769.0</td>\n      <td>328100</td>\n      <td>0</td>\n      <td>2017-12-27</td>\n      <td>looks like a facebook game</td>\n      <td>False</td>\n      <td>1</td>\n      <td>NaN</td>\n      <td>NaN</td>\n      <td>NaN</td>\n    </tr>\n    <tr>\n      <th>2</th>\n      <td>hello?&lt;</td>\n      <td>14.6</td>\n      <td>2.0</td>\n      <td>328100</td>\n      <td>1</td>\n      <td>2017-10-16</td>\n      <td>Better than Minecraft</td>\n      <td>False</td>\n      <td>1</td>\n      <td>2.0</td>\n      <td>Product received for free</td>\n      <td>NaN</td>\n    </tr>\n    <tr>\n      <th>3</th>\n      <td>Cyderine916</td>\n      <td>5.0</td>\n      <td>64.0</td>\n      <td>35140</td>\n      <td>0</td>\n      <td>2018-01-04</td>\n      <td>I love and idolized Batman and this game is Ma...</td>\n      <td>False</td>\n      <td>1</td>\n      <td>NaN</td>\n      <td>NaN</td>\n      <td>NaN</td>\n    </tr>\n    <tr>\n      <th>4</th>\n      <td>DarklyThinking</td>\n      <td>16.6</td>\n      <td>577.0</td>\n      <td>35140</td>\n      <td>1</td>\n      <td>2018-01-04</td>\n      <td>Still worth playing in 2018.\\nProbably my favo...</td>\n      <td>False</td>\n      <td>1</td>\n      <td>NaN</td>\n      <td>NaN</td>\n      <td>76561198007483075</td>\n    </tr>\n  </tbody>\n</table>\n</div>"
     },
     "metadata": {},
     "execution_count": 11
    }
   ],
   "source": [
    "df_rev.info()\n",
    "df_rev.head()"
   ]
  },
  {
   "cell_type": "code",
   "execution_count": 12,
   "metadata": {},
   "outputs": [
    {
     "output_type": "execute_result",
     "data": {
      "text/plain": [
       "23665"
      ]
     },
     "metadata": {},
     "execution_count": 12
    }
   ],
   "source": [
    "len(df_rev[df_rev.duplicated(subset=['username'],keep=False)])"
   ]
  },
  {
   "cell_type": "markdown",
   "metadata": {},
   "source": [
    "# Analisis de Features datos de review\n",
    "- hay que usar los datos de username para identificar a los usuarios (creo que los nombres son unicos). Hay que ver de alguna manera si dos personas pueden tener el mismo username.\n",
    "- El 2.7 porciento del dataset es de personas que hacen varias reviews (Hacer graficos con el numero de reviews que hace una persona)\n",
    "- La feature \"text\" puede servir para hacer un analisis de sentimiento\n",
    "- El numero de horas jugadas puede encodearse para utilizarlo como un suplente de rating"
   ]
  },
  {
   "cell_type": "code",
   "execution_count": null,
   "metadata": {},
   "outputs": [],
   "source": []
  },
  {
   "cell_type": "markdown",
   "metadata": {},
   "source": [
    "# Graficos\n",
    "- Coger mas datos a la manera de acamica. \n",
    "Para hacer estos graficos necesitamos una dataset mas grande y representativo. Tendremos que usar la funcion que lee una row del dataset cada cierto numero de lines(la funcion que nos da acamica) para evitar solo coger datos de cierto tipo de juegos. Como las reviews estan en un orden, al usar la funcion de datos podriamo accidentalmente, y si las suerte no nos acompaña, escoger un tipo de juego que no represente la totalidad de los juegos, por ejemplog, que en los 1000 datos ordenas cojamos solo los juegod free-to-play, o los juegos indies, que posiblemente tengan reviews mas bajas que otros..\n",
    "\n",
    "\n",
    "- Hacer un grafico de las horas jugadas del juego #todo\n",
    "- Hacer un grafico de el numero de reviews que hace la gente #todo"
   ]
  },
  {
   "cell_type": "markdown",
   "metadata": {},
   "source": [
    "## PARA HACER\n",
    "- Podemos usar el target como la combinacion de el numero de horas jugadas combinado con el analisis de sentimiento de la review. (primero hacer con el encoding ) #todo"
   ]
  },
  {
   "cell_type": "code",
   "execution_count": 13,
   "metadata": {},
   "outputs": [],
   "source": [
    "### borrar los nan en horas jugadas\n",
    "df_rev.hours.isna().sum()\n",
    "df_rev.dropna(subset=['hours'], inplace=True)"
   ]
  },
  {
   "cell_type": "code",
   "execution_count": 14,
   "metadata": {},
   "outputs": [],
   "source": [
    "df_rev = df_rev[~(df_rev['hours']==0)]\n"
   ]
  },
  {
   "cell_type": "code",
   "execution_count": 15,
   "metadata": {},
   "outputs": [
    {
     "output_type": "execute_result",
     "data": {
      "text/plain": [
       "0"
      ]
     },
     "metadata": {},
     "execution_count": 15
    }
   ],
   "source": [
    "df_rev.hours.isna().sum()"
   ]
  },
  {
   "cell_type": "code",
   "execution_count": 16,
   "metadata": {},
   "outputs": [
    {
     "output_type": "execute_result",
     "data": {
      "text/plain": [
       "(0.0, 100.0)"
      ]
     },
     "metadata": {},
     "execution_count": 16
    },
    {
     "output_type": "display_data",
     "data": {
      "text/plain": "<Figure size 432x288 with 1 Axes>",
      "image/svg+xml": "<?xml version=\"1.0\" encoding=\"utf-8\" standalone=\"no\"?>\r\n<!DOCTYPE svg PUBLIC \"-//W3C//DTD SVG 1.1//EN\"\r\n  \"http://www.w3.org/Graphics/SVG/1.1/DTD/svg11.dtd\">\r\n<svg height=\"248.518125pt\" version=\"1.1\" viewBox=\"0 0 394.371875 248.518125\" width=\"394.371875pt\" xmlns=\"http://www.w3.org/2000/svg\" xmlns:xlink=\"http://www.w3.org/1999/xlink\">\r\n <metadata>\r\n  <rdf:RDF xmlns:cc=\"http://creativecommons.org/ns#\" xmlns:dc=\"http://purl.org/dc/elements/1.1/\" xmlns:rdf=\"http://www.w3.org/1999/02/22-rdf-syntax-ns#\">\r\n   <cc:Work>\r\n    <dc:type rdf:resource=\"http://purl.org/dc/dcmitype/StillImage\"/>\r\n    <dc:date>2021-07-27T14:59:50.297277</dc:date>\r\n    <dc:format>image/svg+xml</dc:format>\r\n    <dc:creator>\r\n     <cc:Agent>\r\n      <dc:title>Matplotlib v3.4.2, https://matplotlib.org/</dc:title>\r\n     </cc:Agent>\r\n    </dc:creator>\r\n   </cc:Work>\r\n  </rdf:RDF>\r\n </metadata>\r\n <defs>\r\n  <style type=\"text/css\">*{stroke-linecap:butt;stroke-linejoin:round;}</style>\r\n </defs>\r\n <g id=\"figure_1\">\r\n  <g id=\"patch_1\">\r\n   <path d=\"M 0 248.518125 \r\nL 394.371875 248.518125 \r\nL 394.371875 0 \r\nL 0 0 \r\nz\r\n\" style=\"fill:none;\"/>\r\n  </g>\r\n  <g id=\"axes_1\">\r\n   <g id=\"patch_2\">\r\n    <path d=\"M 42.828125 224.64 \r\nL 377.628125 224.64 \r\nL 377.628125 7.2 \r\nL 42.828125 7.2 \r\nz\r\n\" style=\"fill:#ffffff;\"/>\r\n   </g>\r\n   <g id=\"patch_3\">\r\n    <path clip-path=\"url(#p96da9c5ca4)\" d=\"M 42.828125 224.64 \r\nL 46.176125 224.64 \r\nL 46.176125 17.554286 \r\nL 42.828125 17.554286 \r\nz\r\n\" style=\"fill:#1f77b4;\"/>\r\n   </g>\r\n   <g id=\"patch_4\">\r\n    <path clip-path=\"url(#p96da9c5ca4)\" d=\"M 46.176125 224.64 \r\nL 49.524125 224.64 \r\nL 49.524125 113.282461 \r\nL 46.176125 113.282461 \r\nz\r\n\" style=\"fill:#1f77b4;\"/>\r\n   </g>\r\n   <g id=\"patch_5\">\r\n    <path clip-path=\"url(#p96da9c5ca4)\" d=\"M 49.524125 224.64 \r\nL 52.872125 224.64 \r\nL 52.872125 143.989248 \r\nL 49.524125 143.989248 \r\nz\r\n\" style=\"fill:#1f77b4;\"/>\r\n   </g>\r\n   <g id=\"patch_6\">\r\n    <path clip-path=\"url(#p96da9c5ca4)\" d=\"M 52.872125 224.64 \r\nL 56.220125 224.64 \r\nL 56.220125 160.507104 \r\nL 52.872125 160.507104 \r\nz\r\n\" style=\"fill:#1f77b4;\"/>\r\n   </g>\r\n   <g id=\"patch_7\">\r\n    <path clip-path=\"url(#p96da9c5ca4)\" d=\"M 56.220125 224.64 \r\nL 59.568125 224.64 \r\nL 59.568125 172.95944 \r\nL 56.220125 172.95944 \r\nz\r\n\" style=\"fill:#1f77b4;\"/>\r\n   </g>\r\n   <g id=\"patch_8\">\r\n    <path clip-path=\"url(#p96da9c5ca4)\" d=\"M 59.568125 224.64 \r\nL 62.916125 224.64 \r\nL 62.916125 181.265485 \r\nL 59.568125 181.265485 \r\nz\r\n\" style=\"fill:#1f77b4;\"/>\r\n   </g>\r\n   <g id=\"patch_9\">\r\n    <path clip-path=\"url(#p96da9c5ca4)\" d=\"M 62.916125 224.64 \r\nL 66.264125 224.64 \r\nL 66.264125 187.740699 \r\nL 62.916125 187.740699 \r\nz\r\n\" style=\"fill:#1f77b4;\"/>\r\n   </g>\r\n   <g id=\"patch_10\">\r\n    <path clip-path=\"url(#p96da9c5ca4)\" d=\"M 66.264125 224.64 \r\nL 69.612125 224.64 \r\nL 69.612125 188.979202 \r\nL 66.264125 188.979202 \r\nz\r\n\" style=\"fill:#1f77b4;\"/>\r\n   </g>\r\n   <g id=\"patch_11\">\r\n    <path clip-path=\"url(#p96da9c5ca4)\" d=\"M 69.612125 224.64 \r\nL 72.960125 224.64 \r\nL 72.960125 190.850418 \r\nL 69.612125 190.850418 \r\nz\r\n\" style=\"fill:#1f77b4;\"/>\r\n   </g>\r\n   <g id=\"patch_12\">\r\n    <path clip-path=\"url(#p96da9c5ca4)\" d=\"M 72.960125 224.64 \r\nL 76.308125 224.64 \r\nL 76.308125 192.129306 \r\nL 72.960125 192.129306 \r\nz\r\n\" style=\"fill:#1f77b4;\"/>\r\n   </g>\r\n   <g id=\"patch_13\">\r\n    <path clip-path=\"url(#p96da9c5ca4)\" d=\"M 76.308125 224.64 \r\nL 79.656125 224.64 \r\nL 79.656125 194.889013 \r\nL 76.308125 194.889013 \r\nz\r\n\" style=\"fill:#1f77b4;\"/>\r\n   </g>\r\n   <g id=\"patch_14\">\r\n    <path clip-path=\"url(#p96da9c5ca4)\" d=\"M 79.656125 224.64 \r\nL 83.004125 224.64 \r\nL 83.004125 195.68327 \r\nL 79.656125 195.68327 \r\nz\r\n\" style=\"fill:#1f77b4;\"/>\r\n   </g>\r\n   <g id=\"patch_15\">\r\n    <path clip-path=\"url(#p96da9c5ca4)\" d=\"M 83.004125 224.64 \r\nL 86.352125 224.64 \r\nL 86.352125 198.294895 \r\nL 83.004125 198.294895 \r\nz\r\n\" style=\"fill:#1f77b4;\"/>\r\n   </g>\r\n   <g id=\"patch_16\">\r\n    <path clip-path=\"url(#p96da9c5ca4)\" d=\"M 86.352125 224.64 \r\nL 89.700125 224.64 \r\nL 89.700125 200.408427 \r\nL 86.352125 200.408427 \r\nz\r\n\" style=\"fill:#1f77b4;\"/>\r\n   </g>\r\n   <g id=\"patch_17\">\r\n    <path clip-path=\"url(#p96da9c5ca4)\" d=\"M 89.700125 224.64 \r\nL 93.048125 224.64 \r\nL 93.048125 202.898894 \r\nL 89.700125 202.898894 \r\nz\r\n\" style=\"fill:#1f77b4;\"/>\r\n   </g>\r\n   <g id=\"patch_18\">\r\n    <path clip-path=\"url(#p96da9c5ca4)\" d=\"M 93.048125 224.64 \r\nL 96.396125 224.64 \r\nL 96.396125 205.362438 \r\nL 93.048125 205.362438 \r\nz\r\n\" style=\"fill:#1f77b4;\"/>\r\n   </g>\r\n   <g id=\"patch_19\">\r\n    <path clip-path=\"url(#p96da9c5ca4)\" d=\"M 96.396125 224.64 \r\nL 99.744125 224.64 \r\nL 99.744125 205.133584 \r\nL 96.396125 205.133584 \r\nz\r\n\" style=\"fill:#1f77b4;\"/>\r\n   </g>\r\n   <g id=\"patch_20\">\r\n    <path clip-path=\"url(#p96da9c5ca4)\" d=\"M 99.744125 224.64 \r\nL 103.092125 224.64 \r\nL 103.092125 208.552928 \r\nL 99.744125 208.552928 \r\nz\r\n\" style=\"fill:#1f77b4;\"/>\r\n   </g>\r\n   <g id=\"patch_21\">\r\n    <path clip-path=\"url(#p96da9c5ca4)\" d=\"M 103.092125 224.64 \r\nL 106.440125 224.64 \r\nL 106.440125 209.252951 \r\nL 103.092125 209.252951 \r\nz\r\n\" style=\"fill:#1f77b4;\"/>\r\n   </g>\r\n   <g id=\"patch_22\">\r\n    <path clip-path=\"url(#p96da9c5ca4)\" d=\"M 106.440125 224.64 \r\nL 109.788125 224.64 \r\nL 109.788125 210.679922 \r\nL 106.440125 210.679922 \r\nz\r\n\" style=\"fill:#1f77b4;\"/>\r\n   </g>\r\n   <g id=\"patch_23\">\r\n    <path clip-path=\"url(#p96da9c5ca4)\" d=\"M 109.788125 224.64 \r\nL 113.136125 224.64 \r\nL 113.136125 211.985734 \r\nL 109.788125 211.985734 \r\nz\r\n\" style=\"fill:#1f77b4;\"/>\r\n   </g>\r\n   <g id=\"patch_24\">\r\n    <path clip-path=\"url(#p96da9c5ca4)\" d=\"M 113.136125 224.64 \r\nL 116.484125 224.64 \r\nL 116.484125 212.335746 \r\nL 113.136125 212.335746 \r\nz\r\n\" style=\"fill:#1f77b4;\"/>\r\n   </g>\r\n   <g id=\"patch_25\">\r\n    <path clip-path=\"url(#p96da9c5ca4)\" d=\"M 116.484125 224.64 \r\nL 119.832125 224.64 \r\nL 119.832125 212.860763 \r\nL 116.484125 212.860763 \r\nz\r\n\" style=\"fill:#1f77b4;\"/>\r\n   </g>\r\n   <g id=\"patch_26\">\r\n    <path clip-path=\"url(#p96da9c5ca4)\" d=\"M 119.832125 224.64 \r\nL 123.180125 224.64 \r\nL 123.180125 213.72233 \r\nL 119.832125 213.72233 \r\nz\r\n\" style=\"fill:#1f77b4;\"/>\r\n   </g>\r\n   <g id=\"patch_27\">\r\n    <path clip-path=\"url(#p96da9c5ca4)\" d=\"M 123.180125 224.64 \r\nL 126.528125 224.64 \r\nL 126.528125 214.880061 \r\nL 123.180125 214.880061 \r\nz\r\n\" style=\"fill:#1f77b4;\"/>\r\n   </g>\r\n   <g id=\"patch_28\">\r\n    <path clip-path=\"url(#p96da9c5ca4)\" d=\"M 126.528125 224.64 \r\nL 129.876125 224.64 \r\nL 129.876125 214.651207 \r\nL 126.528125 214.651207 \r\nz\r\n\" style=\"fill:#1f77b4;\"/>\r\n   </g>\r\n   <g id=\"patch_29\">\r\n    <path clip-path=\"url(#p96da9c5ca4)\" d=\"M 129.876125 224.64 \r\nL 133.224125 224.64 \r\nL 133.224125 216.132026 \r\nL 129.876125 216.132026 \r\nz\r\n\" style=\"fill:#1f77b4;\"/>\r\n   </g>\r\n   <g id=\"patch_30\">\r\n    <path clip-path=\"url(#p96da9c5ca4)\" d=\"M 133.224125 224.64 \r\nL 136.572125 224.64 \r\nL 136.572125 216.226259 \r\nL 133.224125 216.226259 \r\nz\r\n\" style=\"fill:#1f77b4;\"/>\r\n   </g>\r\n   <g id=\"patch_31\">\r\n    <path clip-path=\"url(#p96da9c5ca4)\" d=\"M 136.572125 224.64 \r\nL 139.920125 224.64 \r\nL 139.920125 216.508961 \r\nL 136.572125 216.508961 \r\nz\r\n\" style=\"fill:#1f77b4;\"/>\r\n   </g>\r\n   <g id=\"patch_32\">\r\n    <path clip-path=\"url(#p96da9c5ca4)\" d=\"M 139.920125 224.64 \r\nL 143.268125 224.64 \r\nL 143.268125 216.858973 \r\nL 139.920125 216.858973 \r\nz\r\n\" style=\"fill:#1f77b4;\"/>\r\n   </g>\r\n   <g id=\"patch_33\">\r\n    <path clip-path=\"url(#p96da9c5ca4)\" d=\"M 143.268125 224.64 \r\nL 146.616125 224.64 \r\nL 146.616125 216.751277 \r\nL 143.268125 216.751277 \r\nz\r\n\" style=\"fill:#1f77b4;\"/>\r\n   </g>\r\n   <g id=\"patch_34\">\r\n    <path clip-path=\"url(#p96da9c5ca4)\" d=\"M 146.616125 224.64 \r\nL 149.964125 224.64 \r\nL 149.964125 217.599382 \r\nL 146.616125 217.599382 \r\nz\r\n\" style=\"fill:#1f77b4;\"/>\r\n   </g>\r\n   <g id=\"patch_35\">\r\n    <path clip-path=\"url(#p96da9c5ca4)\" d=\"M 149.964125 224.64 \r\nL 153.312125 224.64 \r\nL 153.312125 218.447487 \r\nL 149.964125 218.447487 \r\nz\r\n\" style=\"fill:#1f77b4;\"/>\r\n   </g>\r\n   <g id=\"patch_36\">\r\n    <path clip-path=\"url(#p96da9c5ca4)\" d=\"M 153.312125 224.64 \r\nL 156.660125 224.64 \r\nL 156.660125 218.649417 \r\nL 153.312125 218.649417 \r\nz\r\n\" style=\"fill:#1f77b4;\"/>\r\n   </g>\r\n   <g id=\"patch_37\">\r\n    <path clip-path=\"url(#p96da9c5ca4)\" d=\"M 156.660125 224.64 \r\nL 160.008125 224.64 \r\nL 160.008125 218.918656 \r\nL 156.660125 218.918656 \r\nz\r\n\" style=\"fill:#1f77b4;\"/>\r\n   </g>\r\n   <g id=\"patch_38\">\r\n    <path clip-path=\"url(#p96da9c5ca4)\" d=\"M 160.008125 224.64 \r\nL 163.356125 224.64 \r\nL 163.356125 218.474411 \r\nL 160.008125 218.474411 \r\nz\r\n\" style=\"fill:#1f77b4;\"/>\r\n   </g>\r\n   <g id=\"patch_39\">\r\n    <path clip-path=\"url(#p96da9c5ca4)\" d=\"M 163.356125 224.64 \r\nL 166.704125 224.64 \r\nL 166.704125 219.457136 \r\nL 163.356125 219.457136 \r\nz\r\n\" style=\"fill:#1f77b4;\"/>\r\n   </g>\r\n   <g id=\"patch_40\">\r\n    <path clip-path=\"url(#p96da9c5ca4)\" d=\"M 166.704125 224.64 \r\nL 170.052125 224.64 \r\nL 170.052125 219.309054 \r\nL 166.704125 219.309054 \r\nz\r\n\" style=\"fill:#1f77b4;\"/>\r\n   </g>\r\n   <g id=\"patch_41\">\r\n    <path clip-path=\"url(#p96da9c5ca4)\" d=\"M 170.052125 224.64 \r\nL 173.400125 224.64 \r\nL 173.400125 219.726375 \r\nL 170.052125 219.726375 \r\nz\r\n\" style=\"fill:#1f77b4;\"/>\r\n   </g>\r\n   <g id=\"patch_42\">\r\n    <path clip-path=\"url(#p96da9c5ca4)\" d=\"M 173.400125 224.64 \r\nL 176.748125 224.64 \r\nL 176.748125 219.753299 \r\nL 173.400125 219.753299 \r\nz\r\n\" style=\"fill:#1f77b4;\"/>\r\n   </g>\r\n   <g id=\"patch_43\">\r\n    <path clip-path=\"url(#p96da9c5ca4)\" d=\"M 176.748125 224.64 \r\nL 180.096125 224.64 \r\nL 180.096125 219.41675 \r\nL 176.748125 219.41675 \r\nz\r\n\" style=\"fill:#1f77b4;\"/>\r\n   </g>\r\n   <g id=\"patch_44\">\r\n    <path clip-path=\"url(#p96da9c5ca4)\" d=\"M 180.096125 224.64 \r\nL 183.444125 224.64 \r\nL 183.444125 220.493709 \r\nL 180.096125 220.493709 \r\nz\r\n\" style=\"fill:#1f77b4;\"/>\r\n   </g>\r\n   <g id=\"patch_45\">\r\n    <path clip-path=\"url(#p96da9c5ca4)\" d=\"M 183.444125 224.64 \r\nL 186.792125 224.64 \r\nL 186.792125 220.359089 \r\nL 183.444125 220.359089 \r\nz\r\n\" style=\"fill:#1f77b4;\"/>\r\n   </g>\r\n   <g id=\"patch_46\">\r\n    <path clip-path=\"url(#p96da9c5ca4)\" d=\"M 186.792125 224.64 \r\nL 190.140125 224.64 \r\nL 190.140125 220.7091 \r\nL 186.792125 220.7091 \r\nz\r\n\" style=\"fill:#1f77b4;\"/>\r\n   </g>\r\n   <g id=\"patch_47\">\r\n    <path clip-path=\"url(#p96da9c5ca4)\" d=\"M 190.140125 224.64 \r\nL 193.488125 224.64 \r\nL 193.488125 220.695638 \r\nL 190.140125 220.695638 \r\nz\r\n\" style=\"fill:#1f77b4;\"/>\r\n   </g>\r\n   <g id=\"patch_48\">\r\n    <path clip-path=\"url(#p96da9c5ca4)\" d=\"M 193.488125 224.64 \r\nL 196.836125 224.64 \r\nL 196.836125 220.749486 \r\nL 193.488125 220.749486 \r\nz\r\n\" style=\"fill:#1f77b4;\"/>\r\n   </g>\r\n   <g id=\"patch_49\">\r\n    <path clip-path=\"url(#p96da9c5ca4)\" d=\"M 196.836125 224.64 \r\nL 200.184125 224.64 \r\nL 200.184125 221.11296 \r\nL 196.836125 221.11296 \r\nz\r\n\" style=\"fill:#1f77b4;\"/>\r\n   </g>\r\n   <g id=\"patch_50\">\r\n    <path clip-path=\"url(#p96da9c5ca4)\" d=\"M 200.184125 224.64 \r\nL 203.532125 224.64 \r\nL 203.532125 221.301428 \r\nL 200.184125 221.301428 \r\nz\r\n\" style=\"fill:#1f77b4;\"/>\r\n   </g>\r\n   <g id=\"patch_51\">\r\n    <path clip-path=\"url(#p96da9c5ca4)\" d=\"M 203.532125 224.64 \r\nL 206.880125 224.64 \r\nL 206.880125 221.099498 \r\nL 203.532125 221.099498 \r\nz\r\n\" style=\"fill:#1f77b4;\"/>\r\n   </g>\r\n   <g id=\"patch_52\">\r\n    <path clip-path=\"url(#p96da9c5ca4)\" d=\"M 206.880125 224.64 \r\nL 210.228125 224.64 \r\nL 210.228125 221.597591 \r\nL 206.880125 221.597591 \r\nz\r\n\" style=\"fill:#1f77b4;\"/>\r\n   </g>\r\n   <g id=\"patch_53\">\r\n    <path clip-path=\"url(#p96da9c5ca4)\" d=\"M 210.228125 224.64 \r\nL 213.576125 224.64 \r\nL 213.576125 221.274504 \r\nL 210.228125 221.274504 \r\nz\r\n\" style=\"fill:#1f77b4;\"/>\r\n   </g>\r\n   <g id=\"patch_54\">\r\n    <path clip-path=\"url(#p96da9c5ca4)\" d=\"M 213.576125 224.64 \r\nL 216.924125 224.64 \r\nL 216.924125 221.274504 \r\nL 213.576125 221.274504 \r\nz\r\n\" style=\"fill:#1f77b4;\"/>\r\n   </g>\r\n   <g id=\"patch_55\">\r\n    <path clip-path=\"url(#p96da9c5ca4)\" d=\"M 216.924125 224.64 \r\nL 220.272125 224.64 \r\nL 220.272125 221.987989 \r\nL 216.924125 221.987989 \r\nz\r\n\" style=\"fill:#1f77b4;\"/>\r\n   </g>\r\n   <g id=\"patch_56\">\r\n    <path clip-path=\"url(#p96da9c5ca4)\" d=\"M 220.272125 224.64 \r\nL 223.620125 224.64 \r\nL 223.620125 221.759135 \r\nL 220.272125 221.759135 \r\nz\r\n\" style=\"fill:#1f77b4;\"/>\r\n   </g>\r\n   <g id=\"patch_57\">\r\n    <path clip-path=\"url(#p96da9c5ca4)\" d=\"M 223.620125 224.64 \r\nL 226.968125 224.64 \r\nL 226.968125 221.611053 \r\nL 223.620125 221.611053 \r\nz\r\n\" style=\"fill:#1f77b4;\"/>\r\n   </g>\r\n   <g id=\"patch_58\">\r\n    <path clip-path=\"url(#p96da9c5ca4)\" d=\"M 226.968125 224.64 \r\nL 230.316125 224.64 \r\nL 230.316125 222.082223 \r\nL 226.968125 222.082223 \r\nz\r\n\" style=\"fill:#1f77b4;\"/>\r\n   </g>\r\n   <g id=\"patch_59\">\r\n    <path clip-path=\"url(#p96da9c5ca4)\" d=\"M 230.316125 224.64 \r\nL 233.664125 224.64 \r\nL 233.664125 222.082223 \r\nL 230.316125 222.082223 \r\nz\r\n\" style=\"fill:#1f77b4;\"/>\r\n   </g>\r\n   <g id=\"patch_60\">\r\n    <path clip-path=\"url(#p96da9c5ca4)\" d=\"M 233.664125 224.64 \r\nL 237.012125 224.64 \r\nL 237.012125 222.338001 \r\nL 233.664125 222.338001 \r\nz\r\n\" style=\"fill:#1f77b4;\"/>\r\n   </g>\r\n   <g id=\"patch_61\">\r\n    <path clip-path=\"url(#p96da9c5ca4)\" d=\"M 237.012125 224.64 \r\nL 240.360125 224.64 \r\nL 240.360125 222.095685 \r\nL 237.012125 222.095685 \r\nz\r\n\" style=\"fill:#1f77b4;\"/>\r\n   </g>\r\n   <g id=\"patch_62\">\r\n    <path clip-path=\"url(#p96da9c5ca4)\" d=\"M 240.360125 224.64 \r\nL 243.708125 224.64 \r\nL 243.708125 222.297615 \r\nL 240.360125 222.297615 \r\nz\r\n\" style=\"fill:#1f77b4;\"/>\r\n   </g>\r\n   <g id=\"patch_63\">\r\n    <path clip-path=\"url(#p96da9c5ca4)\" d=\"M 243.708125 224.64 \r\nL 247.056125 224.64 \r\nL 247.056125 222.47262 \r\nL 243.708125 222.47262 \r\nz\r\n\" style=\"fill:#1f77b4;\"/>\r\n   </g>\r\n   <g id=\"patch_64\">\r\n    <path clip-path=\"url(#p96da9c5ca4)\" d=\"M 247.056125 224.64 \r\nL 250.404125 224.64 \r\nL 250.404125 222.189919 \r\nL 247.056125 222.189919 \r\nz\r\n\" style=\"fill:#1f77b4;\"/>\r\n   </g>\r\n   <g id=\"patch_65\">\r\n    <path clip-path=\"url(#p96da9c5ca4)\" d=\"M 250.404125 224.64 \r\nL 253.752125 224.64 \r\nL 253.752125 222.432234 \r\nL 250.404125 222.432234 \r\nz\r\n\" style=\"fill:#1f77b4;\"/>\r\n   </g>\r\n   <g id=\"patch_66\">\r\n    <path clip-path=\"url(#p96da9c5ca4)\" d=\"M 253.752125 224.64 \r\nL 257.100125 224.64 \r\nL 257.100125 222.47262 \r\nL 253.752125 222.47262 \r\nz\r\n\" style=\"fill:#1f77b4;\"/>\r\n   </g>\r\n   <g id=\"patch_67\">\r\n    <path clip-path=\"url(#p96da9c5ca4)\" d=\"M 257.100125 224.64 \r\nL 260.448125 224.64 \r\nL 260.448125 222.486082 \r\nL 257.100125 222.486082 \r\nz\r\n\" style=\"fill:#1f77b4;\"/>\r\n   </g>\r\n   <g id=\"patch_68\">\r\n    <path clip-path=\"url(#p96da9c5ca4)\" d=\"M 260.448125 224.64 \r\nL 263.796125 224.64 \r\nL 263.796125 222.634164 \r\nL 260.448125 222.634164 \r\nz\r\n\" style=\"fill:#1f77b4;\"/>\r\n   </g>\r\n   <g id=\"patch_69\">\r\n    <path clip-path=\"url(#p96da9c5ca4)\" d=\"M 263.796125 224.64 \r\nL 267.144125 224.64 \r\nL 267.144125 222.957252 \r\nL 263.796125 222.957252 \r\nz\r\n\" style=\"fill:#1f77b4;\"/>\r\n   </g>\r\n   <g id=\"patch_70\">\r\n    <path clip-path=\"url(#p96da9c5ca4)\" d=\"M 267.144125 224.64 \r\nL 270.492125 224.64 \r\nL 270.492125 222.903404 \r\nL 267.144125 222.903404 \r\nz\r\n\" style=\"fill:#1f77b4;\"/>\r\n   </g>\r\n   <g id=\"patch_71\">\r\n    <path clip-path=\"url(#p96da9c5ca4)\" d=\"M 270.492125 224.64 \r\nL 273.840125 224.64 \r\nL 273.840125 222.80917 \r\nL 270.492125 222.80917 \r\nz\r\n\" style=\"fill:#1f77b4;\"/>\r\n   </g>\r\n   <g id=\"patch_72\">\r\n    <path clip-path=\"url(#p96da9c5ca4)\" d=\"M 273.840125 224.64 \r\nL 277.188125 224.64 \r\nL 277.188125 222.822632 \r\nL 273.840125 222.822632 \r\nz\r\n\" style=\"fill:#1f77b4;\"/>\r\n   </g>\r\n   <g id=\"patch_73\">\r\n    <path clip-path=\"url(#p96da9c5ca4)\" d=\"M 277.188125 224.64 \r\nL 280.536125 224.64 \r\nL 280.536125 222.566854 \r\nL 277.188125 222.566854 \r\nz\r\n\" style=\"fill:#1f77b4;\"/>\r\n   </g>\r\n   <g id=\"patch_74\">\r\n    <path clip-path=\"url(#p96da9c5ca4)\" d=\"M 280.536125 224.64 \r\nL 283.884125 224.64 \r\nL 283.884125 222.889942 \r\nL 280.536125 222.889942 \r\nz\r\n\" style=\"fill:#1f77b4;\"/>\r\n   </g>\r\n   <g id=\"patch_75\">\r\n    <path clip-path=\"url(#p96da9c5ca4)\" d=\"M 283.884125 224.64 \r\nL 287.232125 224.64 \r\nL 287.232125 222.782246 \r\nL 283.884125 222.782246 \r\nz\r\n\" style=\"fill:#1f77b4;\"/>\r\n   </g>\r\n   <g id=\"patch_76\">\r\n    <path clip-path=\"url(#p96da9c5ca4)\" d=\"M 287.232125 224.64 \r\nL 290.580125 224.64 \r\nL 290.580125 222.94379 \r\nL 287.232125 222.94379 \r\nz\r\n\" style=\"fill:#1f77b4;\"/>\r\n   </g>\r\n   <g id=\"patch_77\">\r\n    <path clip-path=\"url(#p96da9c5ca4)\" d=\"M 290.580125 224.64 \r\nL 293.928125 224.64 \r\nL 293.928125 223.038024 \r\nL 290.580125 223.038024 \r\nz\r\n\" style=\"fill:#1f77b4;\"/>\r\n   </g>\r\n   <g id=\"patch_78\">\r\n    <path clip-path=\"url(#p96da9c5ca4)\" d=\"M 293.928125 224.64 \r\nL 297.276125 224.64 \r\nL 297.276125 223.07841 \r\nL 293.928125 223.07841 \r\nz\r\n\" style=\"fill:#1f77b4;\"/>\r\n   </g>\r\n   <g id=\"patch_79\">\r\n    <path clip-path=\"url(#p96da9c5ca4)\" d=\"M 297.276125 224.64 \r\nL 300.624125 224.64 \r\nL 300.624125 222.930328 \r\nL 297.276125 222.930328 \r\nz\r\n\" style=\"fill:#1f77b4;\"/>\r\n   </g>\r\n   <g id=\"patch_80\">\r\n    <path clip-path=\"url(#p96da9c5ca4)\" d=\"M 300.624125 224.64 \r\nL 303.972125 224.64 \r\nL 303.972125 223.091872 \r\nL 300.624125 223.091872 \r\nz\r\n\" style=\"fill:#1f77b4;\"/>\r\n   </g>\r\n   <g id=\"patch_81\">\r\n    <path clip-path=\"url(#p96da9c5ca4)\" d=\"M 303.972125 224.64 \r\nL 307.320125 224.64 \r\nL 307.320125 223.253416 \r\nL 303.972125 223.253416 \r\nz\r\n\" style=\"fill:#1f77b4;\"/>\r\n   </g>\r\n   <g id=\"patch_82\">\r\n    <path clip-path=\"url(#p96da9c5ca4)\" d=\"M 307.320125 224.64 \r\nL 310.668125 224.64 \r\nL 310.668125 223.374573 \r\nL 307.320125 223.374573 \r\nz\r\n\" style=\"fill:#1f77b4;\"/>\r\n   </g>\r\n   <g id=\"patch_83\">\r\n    <path clip-path=\"url(#p96da9c5ca4)\" d=\"M 310.668125 224.64 \r\nL 314.016125 224.64 \r\nL 314.016125 223.293802 \r\nL 310.668125 223.293802 \r\nz\r\n\" style=\"fill:#1f77b4;\"/>\r\n   </g>\r\n   <g id=\"patch_84\">\r\n    <path clip-path=\"url(#p96da9c5ca4)\" d=\"M 314.016125 224.64 \r\nL 317.364125 224.64 \r\nL 317.364125 223.118796 \r\nL 314.016125 223.118796 \r\nz\r\n\" style=\"fill:#1f77b4;\"/>\r\n   </g>\r\n   <g id=\"patch_85\">\r\n    <path clip-path=\"url(#p96da9c5ca4)\" d=\"M 317.364125 224.64 \r\nL 320.712125 224.64 \r\nL 320.712125 223.0111 \r\nL 317.364125 223.0111 \r\nz\r\n\" style=\"fill:#1f77b4;\"/>\r\n   </g>\r\n   <g id=\"patch_86\">\r\n    <path clip-path=\"url(#p96da9c5ca4)\" d=\"M 320.712125 224.64 \r\nL 324.060125 224.64 \r\nL 324.060125 223.186106 \r\nL 320.712125 223.186106 \r\nz\r\n\" style=\"fill:#1f77b4;\"/>\r\n   </g>\r\n   <g id=\"patch_87\">\r\n    <path clip-path=\"url(#p96da9c5ca4)\" d=\"M 324.060125 224.64 \r\nL 327.408125 224.64 \r\nL 327.408125 223.132258 \r\nL 324.060125 223.132258 \r\nz\r\n\" style=\"fill:#1f77b4;\"/>\r\n   </g>\r\n   <g id=\"patch_88\">\r\n    <path clip-path=\"url(#p96da9c5ca4)\" d=\"M 327.408125 224.64 \r\nL 330.756125 224.64 \r\nL 330.756125 223.643813 \r\nL 327.408125 223.643813 \r\nz\r\n\" style=\"fill:#1f77b4;\"/>\r\n   </g>\r\n   <g id=\"patch_89\">\r\n    <path clip-path=\"url(#p96da9c5ca4)\" d=\"M 330.756125 224.64 \r\nL 334.104125 224.64 \r\nL 334.104125 223.320725 \r\nL 330.756125 223.320725 \r\nz\r\n\" style=\"fill:#1f77b4;\"/>\r\n   </g>\r\n   <g id=\"patch_90\">\r\n    <path clip-path=\"url(#p96da9c5ca4)\" d=\"M 334.104125 224.64 \r\nL 337.452125 224.64 \r\nL 337.452125 223.199568 \r\nL 334.104125 223.199568 \r\nz\r\n\" style=\"fill:#1f77b4;\"/>\r\n   </g>\r\n   <g id=\"patch_91\">\r\n    <path clip-path=\"url(#p96da9c5ca4)\" d=\"M 337.452125 224.64 \r\nL 340.800125 224.64 \r\nL 340.800125 223.374573 \r\nL 337.452125 223.374573 \r\nz\r\n\" style=\"fill:#1f77b4;\"/>\r\n   </g>\r\n   <g id=\"patch_92\">\r\n    <path clip-path=\"url(#p96da9c5ca4)\" d=\"M 340.800125 224.64 \r\nL 344.148125 224.64 \r\nL 344.148125 223.670737 \r\nL 340.800125 223.670737 \r\nz\r\n\" style=\"fill:#1f77b4;\"/>\r\n   </g>\r\n   <g id=\"patch_93\">\r\n    <path clip-path=\"url(#p96da9c5ca4)\" d=\"M 344.148125 224.64 \r\nL 347.496125 224.64 \r\nL 347.496125 223.455345 \r\nL 344.148125 223.455345 \r\nz\r\n\" style=\"fill:#1f77b4;\"/>\r\n   </g>\r\n   <g id=\"patch_94\">\r\n    <path clip-path=\"url(#p96da9c5ca4)\" d=\"M 347.496125 224.64 \r\nL 350.844125 224.64 \r\nL 350.844125 223.468807 \r\nL 347.496125 223.468807 \r\nz\r\n\" style=\"fill:#1f77b4;\"/>\r\n   </g>\r\n   <g id=\"patch_95\">\r\n    <path clip-path=\"url(#p96da9c5ca4)\" d=\"M 350.844125 224.64 \r\nL 354.192125 224.64 \r\nL 354.192125 223.509193 \r\nL 350.844125 223.509193 \r\nz\r\n\" style=\"fill:#1f77b4;\"/>\r\n   </g>\r\n   <g id=\"patch_96\">\r\n    <path clip-path=\"url(#p96da9c5ca4)\" d=\"M 354.192125 224.64 \r\nL 357.540125 224.64 \r\nL 357.540125 223.603427 \r\nL 354.192125 223.603427 \r\nz\r\n\" style=\"fill:#1f77b4;\"/>\r\n   </g>\r\n   <g id=\"patch_97\">\r\n    <path clip-path=\"url(#p96da9c5ca4)\" d=\"M 357.540125 224.64 \r\nL 360.888125 224.64 \r\nL 360.888125 223.536117 \r\nL 357.540125 223.536117 \r\nz\r\n\" style=\"fill:#1f77b4;\"/>\r\n   </g>\r\n   <g id=\"patch_98\">\r\n    <path clip-path=\"url(#p96da9c5ca4)\" d=\"M 360.888125 224.64 \r\nL 364.236125 224.64 \r\nL 364.236125 223.347649 \r\nL 360.888125 223.347649 \r\nz\r\n\" style=\"fill:#1f77b4;\"/>\r\n   </g>\r\n   <g id=\"patch_99\">\r\n    <path clip-path=\"url(#p96da9c5ca4)\" d=\"M 364.236125 224.64 \r\nL 367.584125 224.64 \r\nL 367.584125 223.455345 \r\nL 364.236125 223.455345 \r\nz\r\n\" style=\"fill:#1f77b4;\"/>\r\n   </g>\r\n   <g id=\"patch_100\">\r\n    <path clip-path=\"url(#p96da9c5ca4)\" d=\"M 367.584125 224.64 \r\nL 370.932125 224.64 \r\nL 370.932125 223.468807 \r\nL 367.584125 223.468807 \r\nz\r\n\" style=\"fill:#1f77b4;\"/>\r\n   </g>\r\n   <g id=\"patch_101\">\r\n    <path clip-path=\"url(#p96da9c5ca4)\" d=\"M 370.932125 224.64 \r\nL 374.280125 224.64 \r\nL 374.280125 223.657275 \r\nL 370.932125 223.657275 \r\nz\r\n\" style=\"fill:#1f77b4;\"/>\r\n   </g>\r\n   <g id=\"patch_102\">\r\n    <path clip-path=\"url(#p96da9c5ca4)\" d=\"M 374.280125 224.64 \r\nL 377.628125 224.64 \r\nL 377.628125 223.509193 \r\nL 374.280125 223.509193 \r\nz\r\n\" style=\"fill:#1f77b4;\"/>\r\n   </g>\r\n   <g id=\"matplotlib.axis_1\">\r\n    <g id=\"xtick_1\">\r\n     <g id=\"line2d_1\">\r\n      <defs>\r\n       <path d=\"M 0 0 \r\nL 0 3.5 \r\n\" id=\"m650bd022dd\" style=\"stroke:#000000;stroke-width:0.8;\"/>\r\n      </defs>\r\n      <g>\r\n       <use style=\"stroke:#000000;stroke-width:0.8;\" x=\"42.828125\" xlink:href=\"#m650bd022dd\" y=\"224.64\"/>\r\n      </g>\r\n     </g>\r\n     <g id=\"text_1\">\r\n      <!-- 0 -->\r\n      <g transform=\"translate(39.646875 239.238437)scale(0.1 -0.1)\">\r\n       <defs>\r\n        <path d=\"M 2034 4250 \r\nQ 1547 4250 1301 3770 \r\nQ 1056 3291 1056 2328 \r\nQ 1056 1369 1301 889 \r\nQ 1547 409 2034 409 \r\nQ 2525 409 2770 889 \r\nQ 3016 1369 3016 2328 \r\nQ 3016 3291 2770 3770 \r\nQ 2525 4250 2034 4250 \r\nz\r\nM 2034 4750 \r\nQ 2819 4750 3233 4129 \r\nQ 3647 3509 3647 2328 \r\nQ 3647 1150 3233 529 \r\nQ 2819 -91 2034 -91 \r\nQ 1250 -91 836 529 \r\nQ 422 1150 422 2328 \r\nQ 422 3509 836 4129 \r\nQ 1250 4750 2034 4750 \r\nz\r\n\" id=\"DejaVuSans-30\" transform=\"scale(0.015625)\"/>\r\n       </defs>\r\n       <use xlink:href=\"#DejaVuSans-30\"/>\r\n      </g>\r\n     </g>\r\n    </g>\r\n    <g id=\"xtick_2\">\r\n     <g id=\"line2d_2\">\r\n      <g>\r\n       <use style=\"stroke:#000000;stroke-width:0.8;\" x=\"109.788125\" xlink:href=\"#m650bd022dd\" y=\"224.64\"/>\r\n      </g>\r\n     </g>\r\n     <g id=\"text_2\">\r\n      <!-- 20 -->\r\n      <g transform=\"translate(103.425625 239.238437)scale(0.1 -0.1)\">\r\n       <defs>\r\n        <path d=\"M 1228 531 \r\nL 3431 531 \r\nL 3431 0 \r\nL 469 0 \r\nL 469 531 \r\nQ 828 903 1448 1529 \r\nQ 2069 2156 2228 2338 \r\nQ 2531 2678 2651 2914 \r\nQ 2772 3150 2772 3378 \r\nQ 2772 3750 2511 3984 \r\nQ 2250 4219 1831 4219 \r\nQ 1534 4219 1204 4116 \r\nQ 875 4013 500 3803 \r\nL 500 4441 \r\nQ 881 4594 1212 4672 \r\nQ 1544 4750 1819 4750 \r\nQ 2544 4750 2975 4387 \r\nQ 3406 4025 3406 3419 \r\nQ 3406 3131 3298 2873 \r\nQ 3191 2616 2906 2266 \r\nQ 2828 2175 2409 1742 \r\nQ 1991 1309 1228 531 \r\nz\r\n\" id=\"DejaVuSans-32\" transform=\"scale(0.015625)\"/>\r\n       </defs>\r\n       <use xlink:href=\"#DejaVuSans-32\"/>\r\n       <use x=\"63.623047\" xlink:href=\"#DejaVuSans-30\"/>\r\n      </g>\r\n     </g>\r\n    </g>\r\n    <g id=\"xtick_3\">\r\n     <g id=\"line2d_3\">\r\n      <g>\r\n       <use style=\"stroke:#000000;stroke-width:0.8;\" x=\"176.748125\" xlink:href=\"#m650bd022dd\" y=\"224.64\"/>\r\n      </g>\r\n     </g>\r\n     <g id=\"text_3\">\r\n      <!-- 40 -->\r\n      <g transform=\"translate(170.385625 239.238437)scale(0.1 -0.1)\">\r\n       <defs>\r\n        <path d=\"M 2419 4116 \r\nL 825 1625 \r\nL 2419 1625 \r\nL 2419 4116 \r\nz\r\nM 2253 4666 \r\nL 3047 4666 \r\nL 3047 1625 \r\nL 3713 1625 \r\nL 3713 1100 \r\nL 3047 1100 \r\nL 3047 0 \r\nL 2419 0 \r\nL 2419 1100 \r\nL 313 1100 \r\nL 313 1709 \r\nL 2253 4666 \r\nz\r\n\" id=\"DejaVuSans-34\" transform=\"scale(0.015625)\"/>\r\n       </defs>\r\n       <use xlink:href=\"#DejaVuSans-34\"/>\r\n       <use x=\"63.623047\" xlink:href=\"#DejaVuSans-30\"/>\r\n      </g>\r\n     </g>\r\n    </g>\r\n    <g id=\"xtick_4\">\r\n     <g id=\"line2d_4\">\r\n      <g>\r\n       <use style=\"stroke:#000000;stroke-width:0.8;\" x=\"243.708125\" xlink:href=\"#m650bd022dd\" y=\"224.64\"/>\r\n      </g>\r\n     </g>\r\n     <g id=\"text_4\">\r\n      <!-- 60 -->\r\n      <g transform=\"translate(237.345625 239.238437)scale(0.1 -0.1)\">\r\n       <defs>\r\n        <path d=\"M 2113 2584 \r\nQ 1688 2584 1439 2293 \r\nQ 1191 2003 1191 1497 \r\nQ 1191 994 1439 701 \r\nQ 1688 409 2113 409 \r\nQ 2538 409 2786 701 \r\nQ 3034 994 3034 1497 \r\nQ 3034 2003 2786 2293 \r\nQ 2538 2584 2113 2584 \r\nz\r\nM 3366 4563 \r\nL 3366 3988 \r\nQ 3128 4100 2886 4159 \r\nQ 2644 4219 2406 4219 \r\nQ 1781 4219 1451 3797 \r\nQ 1122 3375 1075 2522 \r\nQ 1259 2794 1537 2939 \r\nQ 1816 3084 2150 3084 \r\nQ 2853 3084 3261 2657 \r\nQ 3669 2231 3669 1497 \r\nQ 3669 778 3244 343 \r\nQ 2819 -91 2113 -91 \r\nQ 1303 -91 875 529 \r\nQ 447 1150 447 2328 \r\nQ 447 3434 972 4092 \r\nQ 1497 4750 2381 4750 \r\nQ 2619 4750 2861 4703 \r\nQ 3103 4656 3366 4563 \r\nz\r\n\" id=\"DejaVuSans-36\" transform=\"scale(0.015625)\"/>\r\n       </defs>\r\n       <use xlink:href=\"#DejaVuSans-36\"/>\r\n       <use x=\"63.623047\" xlink:href=\"#DejaVuSans-30\"/>\r\n      </g>\r\n     </g>\r\n    </g>\r\n    <g id=\"xtick_5\">\r\n     <g id=\"line2d_5\">\r\n      <g>\r\n       <use style=\"stroke:#000000;stroke-width:0.8;\" x=\"310.668125\" xlink:href=\"#m650bd022dd\" y=\"224.64\"/>\r\n      </g>\r\n     </g>\r\n     <g id=\"text_5\">\r\n      <!-- 80 -->\r\n      <g transform=\"translate(304.305625 239.238437)scale(0.1 -0.1)\">\r\n       <defs>\r\n        <path d=\"M 2034 2216 \r\nQ 1584 2216 1326 1975 \r\nQ 1069 1734 1069 1313 \r\nQ 1069 891 1326 650 \r\nQ 1584 409 2034 409 \r\nQ 2484 409 2743 651 \r\nQ 3003 894 3003 1313 \r\nQ 3003 1734 2745 1975 \r\nQ 2488 2216 2034 2216 \r\nz\r\nM 1403 2484 \r\nQ 997 2584 770 2862 \r\nQ 544 3141 544 3541 \r\nQ 544 4100 942 4425 \r\nQ 1341 4750 2034 4750 \r\nQ 2731 4750 3128 4425 \r\nQ 3525 4100 3525 3541 \r\nQ 3525 3141 3298 2862 \r\nQ 3072 2584 2669 2484 \r\nQ 3125 2378 3379 2068 \r\nQ 3634 1759 3634 1313 \r\nQ 3634 634 3220 271 \r\nQ 2806 -91 2034 -91 \r\nQ 1263 -91 848 271 \r\nQ 434 634 434 1313 \r\nQ 434 1759 690 2068 \r\nQ 947 2378 1403 2484 \r\nz\r\nM 1172 3481 \r\nQ 1172 3119 1398 2916 \r\nQ 1625 2713 2034 2713 \r\nQ 2441 2713 2670 2916 \r\nQ 2900 3119 2900 3481 \r\nQ 2900 3844 2670 4047 \r\nQ 2441 4250 2034 4250 \r\nQ 1625 4250 1398 4047 \r\nQ 1172 3844 1172 3481 \r\nz\r\n\" id=\"DejaVuSans-38\" transform=\"scale(0.015625)\"/>\r\n       </defs>\r\n       <use xlink:href=\"#DejaVuSans-38\"/>\r\n       <use x=\"63.623047\" xlink:href=\"#DejaVuSans-30\"/>\r\n      </g>\r\n     </g>\r\n    </g>\r\n    <g id=\"xtick_6\">\r\n     <g id=\"line2d_6\">\r\n      <g>\r\n       <use style=\"stroke:#000000;stroke-width:0.8;\" x=\"377.628125\" xlink:href=\"#m650bd022dd\" y=\"224.64\"/>\r\n      </g>\r\n     </g>\r\n     <g id=\"text_6\">\r\n      <!-- 100 -->\r\n      <g transform=\"translate(368.084375 239.238437)scale(0.1 -0.1)\">\r\n       <defs>\r\n        <path d=\"M 794 531 \r\nL 1825 531 \r\nL 1825 4091 \r\nL 703 3866 \r\nL 703 4441 \r\nL 1819 4666 \r\nL 2450 4666 \r\nL 2450 531 \r\nL 3481 531 \r\nL 3481 0 \r\nL 794 0 \r\nL 794 531 \r\nz\r\n\" id=\"DejaVuSans-31\" transform=\"scale(0.015625)\"/>\r\n       </defs>\r\n       <use xlink:href=\"#DejaVuSans-31\"/>\r\n       <use x=\"63.623047\" xlink:href=\"#DejaVuSans-30\"/>\r\n       <use x=\"127.246094\" xlink:href=\"#DejaVuSans-30\"/>\r\n      </g>\r\n     </g>\r\n    </g>\r\n   </g>\r\n   <g id=\"matplotlib.axis_2\">\r\n    <g id=\"ytick_1\">\r\n     <g id=\"line2d_7\">\r\n      <defs>\r\n       <path d=\"M 0 0 \r\nL -3.5 0 \r\n\" id=\"m77d842b863\" style=\"stroke:#000000;stroke-width:0.8;\"/>\r\n      </defs>\r\n      <g>\r\n       <use style=\"stroke:#000000;stroke-width:0.8;\" x=\"42.828125\" xlink:href=\"#m77d842b863\" y=\"224.64\"/>\r\n      </g>\r\n     </g>\r\n     <g id=\"text_7\">\r\n      <!-- 0.000 -->\r\n      <g transform=\"translate(7.2 228.439219)scale(0.1 -0.1)\">\r\n       <defs>\r\n        <path d=\"M 684 794 \r\nL 1344 794 \r\nL 1344 0 \r\nL 684 0 \r\nL 684 794 \r\nz\r\n\" id=\"DejaVuSans-2e\" transform=\"scale(0.015625)\"/>\r\n       </defs>\r\n       <use xlink:href=\"#DejaVuSans-30\"/>\r\n       <use x=\"63.623047\" xlink:href=\"#DejaVuSans-2e\"/>\r\n       <use x=\"95.410156\" xlink:href=\"#DejaVuSans-30\"/>\r\n       <use x=\"159.033203\" xlink:href=\"#DejaVuSans-30\"/>\r\n       <use x=\"222.65625\" xlink:href=\"#DejaVuSans-30\"/>\r\n      </g>\r\n     </g>\r\n    </g>\r\n    <g id=\"ytick_2\">\r\n     <g id=\"line2d_8\">\r\n      <g>\r\n       <use style=\"stroke:#000000;stroke-width:0.8;\" x=\"42.828125\" xlink:href=\"#m77d842b863\" y=\"194.642322\"/>\r\n      </g>\r\n     </g>\r\n     <g id=\"text_8\">\r\n      <!-- 0.025 -->\r\n      <g transform=\"translate(7.2 198.441541)scale(0.1 -0.1)\">\r\n       <defs>\r\n        <path d=\"M 691 4666 \r\nL 3169 4666 \r\nL 3169 4134 \r\nL 1269 4134 \r\nL 1269 2991 \r\nQ 1406 3038 1543 3061 \r\nQ 1681 3084 1819 3084 \r\nQ 2600 3084 3056 2656 \r\nQ 3513 2228 3513 1497 \r\nQ 3513 744 3044 326 \r\nQ 2575 -91 1722 -91 \r\nQ 1428 -91 1123 -41 \r\nQ 819 9 494 109 \r\nL 494 744 \r\nQ 775 591 1075 516 \r\nQ 1375 441 1709 441 \r\nQ 2250 441 2565 725 \r\nQ 2881 1009 2881 1497 \r\nQ 2881 1984 2565 2268 \r\nQ 2250 2553 1709 2553 \r\nQ 1456 2553 1204 2497 \r\nQ 953 2441 691 2322 \r\nL 691 4666 \r\nz\r\n\" id=\"DejaVuSans-35\" transform=\"scale(0.015625)\"/>\r\n       </defs>\r\n       <use xlink:href=\"#DejaVuSans-30\"/>\r\n       <use x=\"63.623047\" xlink:href=\"#DejaVuSans-2e\"/>\r\n       <use x=\"95.410156\" xlink:href=\"#DejaVuSans-30\"/>\r\n       <use x=\"159.033203\" xlink:href=\"#DejaVuSans-32\"/>\r\n       <use x=\"222.65625\" xlink:href=\"#DejaVuSans-35\"/>\r\n      </g>\r\n     </g>\r\n    </g>\r\n    <g id=\"ytick_3\">\r\n     <g id=\"line2d_9\">\r\n      <g>\r\n       <use style=\"stroke:#000000;stroke-width:0.8;\" x=\"42.828125\" xlink:href=\"#m77d842b863\" y=\"164.644645\"/>\r\n      </g>\r\n     </g>\r\n     <g id=\"text_9\">\r\n      <!-- 0.050 -->\r\n      <g transform=\"translate(7.2 168.443864)scale(0.1 -0.1)\">\r\n       <use xlink:href=\"#DejaVuSans-30\"/>\r\n       <use x=\"63.623047\" xlink:href=\"#DejaVuSans-2e\"/>\r\n       <use x=\"95.410156\" xlink:href=\"#DejaVuSans-30\"/>\r\n       <use x=\"159.033203\" xlink:href=\"#DejaVuSans-35\"/>\r\n       <use x=\"222.65625\" xlink:href=\"#DejaVuSans-30\"/>\r\n      </g>\r\n     </g>\r\n    </g>\r\n    <g id=\"ytick_4\">\r\n     <g id=\"line2d_10\">\r\n      <g>\r\n       <use style=\"stroke:#000000;stroke-width:0.8;\" x=\"42.828125\" xlink:href=\"#m77d842b863\" y=\"134.646967\"/>\r\n      </g>\r\n     </g>\r\n     <g id=\"text_10\">\r\n      <!-- 0.075 -->\r\n      <g transform=\"translate(7.2 138.446186)scale(0.1 -0.1)\">\r\n       <defs>\r\n        <path d=\"M 525 4666 \r\nL 3525 4666 \r\nL 3525 4397 \r\nL 1831 0 \r\nL 1172 0 \r\nL 2766 4134 \r\nL 525 4134 \r\nL 525 4666 \r\nz\r\n\" id=\"DejaVuSans-37\" transform=\"scale(0.015625)\"/>\r\n       </defs>\r\n       <use xlink:href=\"#DejaVuSans-30\"/>\r\n       <use x=\"63.623047\" xlink:href=\"#DejaVuSans-2e\"/>\r\n       <use x=\"95.410156\" xlink:href=\"#DejaVuSans-30\"/>\r\n       <use x=\"159.033203\" xlink:href=\"#DejaVuSans-37\"/>\r\n       <use x=\"222.65625\" xlink:href=\"#DejaVuSans-35\"/>\r\n      </g>\r\n     </g>\r\n    </g>\r\n    <g id=\"ytick_5\">\r\n     <g id=\"line2d_11\">\r\n      <g>\r\n       <use style=\"stroke:#000000;stroke-width:0.8;\" x=\"42.828125\" xlink:href=\"#m77d842b863\" y=\"104.64929\"/>\r\n      </g>\r\n     </g>\r\n     <g id=\"text_11\">\r\n      <!-- 0.100 -->\r\n      <g transform=\"translate(7.2 108.448508)scale(0.1 -0.1)\">\r\n       <use xlink:href=\"#DejaVuSans-30\"/>\r\n       <use x=\"63.623047\" xlink:href=\"#DejaVuSans-2e\"/>\r\n       <use x=\"95.410156\" xlink:href=\"#DejaVuSans-31\"/>\r\n       <use x=\"159.033203\" xlink:href=\"#DejaVuSans-30\"/>\r\n       <use x=\"222.65625\" xlink:href=\"#DejaVuSans-30\"/>\r\n      </g>\r\n     </g>\r\n    </g>\r\n    <g id=\"ytick_6\">\r\n     <g id=\"line2d_12\">\r\n      <g>\r\n       <use style=\"stroke:#000000;stroke-width:0.8;\" x=\"42.828125\" xlink:href=\"#m77d842b863\" y=\"74.651612\"/>\r\n      </g>\r\n     </g>\r\n     <g id=\"text_12\">\r\n      <!-- 0.125 -->\r\n      <g transform=\"translate(7.2 78.450831)scale(0.1 -0.1)\">\r\n       <use xlink:href=\"#DejaVuSans-30\"/>\r\n       <use x=\"63.623047\" xlink:href=\"#DejaVuSans-2e\"/>\r\n       <use x=\"95.410156\" xlink:href=\"#DejaVuSans-31\"/>\r\n       <use x=\"159.033203\" xlink:href=\"#DejaVuSans-32\"/>\r\n       <use x=\"222.65625\" xlink:href=\"#DejaVuSans-35\"/>\r\n      </g>\r\n     </g>\r\n    </g>\r\n    <g id=\"ytick_7\">\r\n     <g id=\"line2d_13\">\r\n      <g>\r\n       <use style=\"stroke:#000000;stroke-width:0.8;\" x=\"42.828125\" xlink:href=\"#m77d842b863\" y=\"44.653934\"/>\r\n      </g>\r\n     </g>\r\n     <g id=\"text_13\">\r\n      <!-- 0.150 -->\r\n      <g transform=\"translate(7.2 48.453153)scale(0.1 -0.1)\">\r\n       <use xlink:href=\"#DejaVuSans-30\"/>\r\n       <use x=\"63.623047\" xlink:href=\"#DejaVuSans-2e\"/>\r\n       <use x=\"95.410156\" xlink:href=\"#DejaVuSans-31\"/>\r\n       <use x=\"159.033203\" xlink:href=\"#DejaVuSans-35\"/>\r\n       <use x=\"222.65625\" xlink:href=\"#DejaVuSans-30\"/>\r\n      </g>\r\n     </g>\r\n    </g>\r\n    <g id=\"ytick_8\">\r\n     <g id=\"line2d_14\">\r\n      <g>\r\n       <use style=\"stroke:#000000;stroke-width:0.8;\" x=\"42.828125\" xlink:href=\"#m77d842b863\" y=\"14.656257\"/>\r\n      </g>\r\n     </g>\r\n     <g id=\"text_14\">\r\n      <!-- 0.175 -->\r\n      <g transform=\"translate(7.2 18.455476)scale(0.1 -0.1)\">\r\n       <use xlink:href=\"#DejaVuSans-30\"/>\r\n       <use x=\"63.623047\" xlink:href=\"#DejaVuSans-2e\"/>\r\n       <use x=\"95.410156\" xlink:href=\"#DejaVuSans-31\"/>\r\n       <use x=\"159.033203\" xlink:href=\"#DejaVuSans-37\"/>\r\n       <use x=\"222.65625\" xlink:href=\"#DejaVuSans-35\"/>\r\n      </g>\r\n     </g>\r\n    </g>\r\n   </g>\r\n   <g id=\"patch_103\">\r\n    <path d=\"M 42.828125 224.64 \r\nL 42.828125 7.2 \r\n\" style=\"fill:none;stroke:#000000;stroke-linecap:square;stroke-linejoin:miter;stroke-width:0.8;\"/>\r\n   </g>\r\n   <g id=\"patch_104\">\r\n    <path d=\"M 377.628125 224.64 \r\nL 377.628125 7.2 \r\n\" style=\"fill:none;stroke:#000000;stroke-linecap:square;stroke-linejoin:miter;stroke-width:0.8;\"/>\r\n   </g>\r\n   <g id=\"patch_105\">\r\n    <path d=\"M 42.828125 224.64 \r\nL 377.628125 224.64 \r\n\" style=\"fill:none;stroke:#000000;stroke-linecap:square;stroke-linejoin:miter;stroke-width:0.8;\"/>\r\n   </g>\r\n   <g id=\"patch_106\">\r\n    <path d=\"M 42.828125 7.2 \r\nL 377.628125 7.2 \r\n\" style=\"fill:none;stroke:#000000;stroke-linecap:square;stroke-linejoin:miter;stroke-width:0.8;\"/>\r\n   </g>\r\n  </g>\r\n </g>\r\n <defs>\r\n  <clipPath id=\"p96da9c5ca4\">\r\n   <rect height=\"217.44\" width=\"334.8\" x=\"42.828125\" y=\"7.2\"/>\r\n  </clipPath>\r\n </defs>\r\n</svg>\r\n",
      "image/png": "[encoded data removed]"
     },
     "metadata": {
      "needs_background": "light"
     }
    }
   ],
   "source": [
    "#### encoding de datos\n",
    "df_rev.hours\n",
    "plt.hist(x=df_rev.hours, bins=100, density=True, range=(0,100))\n",
    "plt.xlim([0,100])"
   ]
  },
  {
   "cell_type": "code",
   "execution_count": 17,
   "metadata": {},
   "outputs": [
    {
     "output_type": "execute_result",
     "data": {
      "text/plain": [
       "(0.0, 50.0)"
      ]
     },
     "metadata": {},
     "execution_count": 17
    },
    {
     "output_type": "display_data",
     "data": {
      "text/plain": "<Figure size 432x288 with 1 Axes>",
      "image/svg+xml": "<?xml version=\"1.0\" encoding=\"utf-8\" standalone=\"no\"?>\r\n<!DOCTYPE svg PUBLIC \"-//W3C//DTD SVG 1.1//EN\"\r\n  \"http://www.w3.org/Graphics/SVG/1.1/DTD/svg11.dtd\">\r\n<svg height=\"248.518125pt\" version=\"1.1\" viewBox=\"0 0 391.190625 248.518125\" width=\"391.190625pt\" xmlns=\"http://www.w3.org/2000/svg\" xmlns:xlink=\"http://www.w3.org/1999/xlink\">\r\n <metadata>\r\n  <rdf:RDF xmlns:cc=\"http://creativecommons.org/ns#\" xmlns:dc=\"http://purl.org/dc/elements/1.1/\" xmlns:rdf=\"http://www.w3.org/1999/02/22-rdf-syntax-ns#\">\r\n   <cc:Work>\r\n    <dc:type rdf:resource=\"http://purl.org/dc/dcmitype/StillImage\"/>\r\n    <dc:date>2021-07-27T14:59:50.748377</dc:date>\r\n    <dc:format>image/svg+xml</dc:format>\r\n    <dc:creator>\r\n     <cc:Agent>\r\n      <dc:title>Matplotlib v3.4.2, https://matplotlib.org/</dc:title>\r\n     </cc:Agent>\r\n    </dc:creator>\r\n   </cc:Work>\r\n  </rdf:RDF>\r\n </metadata>\r\n <defs>\r\n  <style type=\"text/css\">*{stroke-linecap:butt;stroke-linejoin:round;}</style>\r\n </defs>\r\n <g id=\"figure_1\">\r\n  <g id=\"patch_1\">\r\n   <path d=\"M 0 248.518125 \r\nL 391.190625 248.518125 \r\nL 391.190625 0 \r\nL 0 0 \r\nz\r\n\" style=\"fill:none;\"/>\r\n  </g>\r\n  <g id=\"axes_1\">\r\n   <g id=\"patch_2\">\r\n    <path d=\"M 42.828125 224.64 \r\nL 377.628125 224.64 \r\nL 377.628125 7.2 \r\nL 42.828125 7.2 \r\nz\r\n\" style=\"fill:#ffffff;\"/>\r\n   </g>\r\n   <g id=\"patch_3\">\r\n    <path clip-path=\"url(#p68c0c519f8)\" d=\"M 42.828125 224.64 \r\nL 46.176125 224.64 \r\nL 46.176125 17.554286 \r\nL 42.828125 17.554286 \r\nz\r\n\" style=\"fill:#1f77b4;\"/>\r\n   </g>\r\n   <g id=\"patch_4\">\r\n    <path clip-path=\"url(#p68c0c519f8)\" d=\"M 46.176125 224.64 \r\nL 49.524125 224.64 \r\nL 49.524125 67.115488 \r\nL 46.176125 67.115488 \r\nz\r\n\" style=\"fill:#1f77b4;\"/>\r\n   </g>\r\n   <g id=\"patch_5\">\r\n    <path clip-path=\"url(#p68c0c519f8)\" d=\"M 49.524125 224.64 \r\nL 52.872125 224.64 \r\nL 52.872125 117.885501 \r\nL 49.524125 117.885501 \r\nz\r\n\" style=\"fill:#1f77b4;\"/>\r\n   </g>\r\n   <g id=\"patch_6\">\r\n    <path clip-path=\"url(#p68c0c519f8)\" d=\"M 52.872125 224.64 \r\nL 56.220125 224.64 \r\nL 56.220125 135.330286 \r\nL 52.872125 135.330286 \r\nz\r\n\" style=\"fill:#1f77b4;\"/>\r\n   </g>\r\n   <g id=\"patch_7\">\r\n    <path clip-path=\"url(#p68c0c519f8)\" d=\"M 56.220125 224.64 \r\nL 59.568125 224.64 \r\nL 59.568125 148.390173 \r\nL 56.220125 148.390173 \r\nz\r\n\" style=\"fill:#1f77b4;\"/>\r\n   </g>\r\n   <g id=\"patch_8\">\r\n    <path clip-path=\"url(#p68c0c519f8)\" d=\"M 59.568125 224.64 \r\nL 62.916125 224.64 \r\nL 62.916125 158.890226 \r\nL 59.568125 158.890226 \r\nz\r\n\" style=\"fill:#1f77b4;\"/>\r\n   </g>\r\n   <g id=\"patch_9\">\r\n    <path clip-path=\"url(#p68c0c519f8)\" d=\"M 62.916125 224.64 \r\nL 66.264125 224.64 \r\nL 66.264125 166.972661 \r\nL 62.916125 166.972661 \r\nz\r\n\" style=\"fill:#1f77b4;\"/>\r\n   </g>\r\n   <g id=\"patch_10\">\r\n    <path clip-path=\"url(#p68c0c519f8)\" d=\"M 66.264125 224.64 \r\nL 69.612125 224.64 \r\nL 69.612125 169.39028 \r\nL 66.264125 169.39028 \r\nz\r\n\" style=\"fill:#1f77b4;\"/>\r\n   </g>\r\n   <g id=\"patch_11\">\r\n    <path clip-path=\"url(#p68c0c519f8)\" d=\"M 69.612125 224.64 \r\nL 72.960125 224.64 \r\nL 72.960125 176.572033 \r\nL 69.612125 176.572033 \r\nz\r\n\" style=\"fill:#1f77b4;\"/>\r\n   </g>\r\n   <g id=\"patch_12\">\r\n    <path clip-path=\"url(#p68c0c519f8)\" d=\"M 72.960125 224.64 \r\nL 76.308125 224.64 \r\nL 76.308125 181.7154 \r\nL 72.960125 181.7154 \r\nz\r\n\" style=\"fill:#1f77b4;\"/>\r\n   </g>\r\n   <g id=\"patch_13\">\r\n    <path clip-path=\"url(#p68c0c519f8)\" d=\"M 76.308125 224.64 \r\nL 79.656125 224.64 \r\nL 79.656125 184.986297 \r\nL 76.308125 184.986297 \r\nz\r\n\" style=\"fill:#1f77b4;\"/>\r\n   </g>\r\n   <g id=\"patch_14\">\r\n    <path clip-path=\"url(#p68c0c519f8)\" d=\"M 79.656125 224.64 \r\nL 83.004125 224.64 \r\nL 83.004125 187.925364 \r\nL 79.656125 187.925364 \r\nz\r\n\" style=\"fill:#1f77b4;\"/>\r\n   </g>\r\n   <g id=\"patch_15\">\r\n    <path clip-path=\"url(#p68c0c519f8)\" d=\"M 83.004125 224.64 \r\nL 86.352125 224.64 \r\nL 86.352125 191.741411 \r\nL 83.004125 191.741411 \r\nz\r\n\" style=\"fill:#1f77b4;\"/>\r\n   </g>\r\n   <g id=\"patch_16\">\r\n    <path clip-path=\"url(#p68c0c519f8)\" d=\"M 86.352125 224.64 \r\nL 89.700125 224.64 \r\nL 89.700125 192.570986 \r\nL 86.352125 192.570986 \r\nz\r\n\" style=\"fill:#1f77b4;\"/>\r\n   </g>\r\n   <g id=\"patch_17\">\r\n    <path clip-path=\"url(#p68c0c519f8)\" d=\"M 89.700125 224.64 \r\nL 93.048125 224.64 \r\nL 93.048125 193.49537 \r\nL 89.700125 193.49537 \r\nz\r\n\" style=\"fill:#1f77b4;\"/>\r\n   </g>\r\n   <g id=\"patch_18\">\r\n    <path clip-path=\"url(#p68c0c519f8)\" d=\"M 93.048125 224.64 \r\nL 96.396125 224.64 \r\nL 96.396125 192.997625 \r\nL 93.048125 192.997625 \r\nz\r\n\" style=\"fill:#1f77b4;\"/>\r\n   </g>\r\n   <g id=\"patch_19\">\r\n    <path clip-path=\"url(#p68c0c519f8)\" d=\"M 96.396125 224.64 \r\nL 99.744125 224.64 \r\nL 99.744125 193.187242 \r\nL 96.396125 193.187242 \r\nz\r\n\" style=\"fill:#1f77b4;\"/>\r\n   </g>\r\n   <g id=\"patch_20\">\r\n    <path clip-path=\"url(#p68c0c519f8)\" d=\"M 99.744125 224.64 \r\nL 103.092125 224.64 \r\nL 103.092125 196.600353 \r\nL 99.744125 196.600353 \r\nz\r\n\" style=\"fill:#1f77b4;\"/>\r\n   </g>\r\n   <g id=\"patch_21\">\r\n    <path clip-path=\"url(#p68c0c519f8)\" d=\"M 103.092125 224.64 \r\nL 106.440125 224.64 \r\nL 106.440125 195.628564 \r\nL 103.092125 195.628564 \r\nz\r\n\" style=\"fill:#1f77b4;\"/>\r\n   </g>\r\n   <g id=\"patch_22\">\r\n    <path clip-path=\"url(#p68c0c519f8)\" d=\"M 106.440125 224.64 \r\nL 109.788125 224.64 \r\nL 109.788125 196.410735 \r\nL 106.440125 196.410735 \r\nz\r\n\" style=\"fill:#1f77b4;\"/>\r\n   </g>\r\n   <g id=\"patch_23\">\r\n    <path clip-path=\"url(#p68c0c519f8)\" d=\"M 109.788125 224.64 \r\nL 113.136125 224.64 \r\nL 113.136125 198.354312 \r\nL 109.788125 198.354312 \r\nz\r\n\" style=\"fill:#1f77b4;\"/>\r\n   </g>\r\n   <g id=\"patch_24\">\r\n    <path clip-path=\"url(#p68c0c519f8)\" d=\"M 113.136125 224.64 \r\nL 116.484125 224.64 \r\nL 116.484125 198.543929 \r\nL 113.136125 198.543929 \r\nz\r\n\" style=\"fill:#1f77b4;\"/>\r\n   </g>\r\n   <g id=\"patch_25\">\r\n    <path clip-path=\"url(#p68c0c519f8)\" d=\"M 116.484125 224.64 \r\nL 119.832125 224.64 \r\nL 119.832125 198.543929 \r\nL 116.484125 198.543929 \r\nz\r\n\" style=\"fill:#1f77b4;\"/>\r\n   </g>\r\n   <g id=\"patch_26\">\r\n    <path clip-path=\"url(#p68c0c519f8)\" d=\"M 119.832125 224.64 \r\nL 123.180125 224.64 \r\nL 123.180125 199.752739 \r\nL 119.832125 199.752739 \r\nz\r\n\" style=\"fill:#1f77b4;\"/>\r\n   </g>\r\n   <g id=\"patch_27\">\r\n    <path clip-path=\"url(#p68c0c519f8)\" d=\"M 123.180125 224.64 \r\nL 126.528125 224.64 \r\nL 126.528125 200.606016 \r\nL 123.180125 200.606016 \r\nz\r\n\" style=\"fill:#1f77b4;\"/>\r\n   </g>\r\n   <g id=\"patch_28\">\r\n    <path clip-path=\"url(#p68c0c519f8)\" d=\"M 126.528125 224.64 \r\nL 129.876125 224.64 \r\nL 129.876125 202.288869 \r\nL 126.528125 202.288869 \r\nz\r\n\" style=\"fill:#1f77b4;\"/>\r\n   </g>\r\n   <g id=\"patch_29\">\r\n    <path clip-path=\"url(#p68c0c519f8)\" d=\"M 129.876125 224.64 \r\nL 133.224125 224.64 \r\nL 133.224125 201.696316 \r\nL 129.876125 201.696316 \r\nz\r\n\" style=\"fill:#1f77b4;\"/>\r\n   </g>\r\n   <g id=\"patch_30\">\r\n    <path clip-path=\"url(#p68c0c519f8)\" d=\"M 133.224125 224.64 \r\nL 136.572125 224.64 \r\nL 136.572125 204.919808 \r\nL 133.224125 204.919808 \r\nz\r\n\" style=\"fill:#1f77b4;\"/>\r\n   </g>\r\n   <g id=\"patch_31\">\r\n    <path clip-path=\"url(#p68c0c519f8)\" d=\"M 136.572125 224.64 \r\nL 139.920125 224.64 \r\nL 139.920125 204.825 \r\nL 136.572125 204.825 \r\nz\r\n\" style=\"fill:#1f77b4;\"/>\r\n   </g>\r\n   <g id=\"patch_32\">\r\n    <path clip-path=\"url(#p68c0c519f8)\" d=\"M 139.920125 224.64 \r\nL 143.268125 224.64 \r\nL 143.268125 206.176022 \r\nL 139.920125 206.176022 \r\nz\r\n\" style=\"fill:#1f77b4;\"/>\r\n   </g>\r\n   <g id=\"patch_33\">\r\n    <path clip-path=\"url(#p68c0c519f8)\" d=\"M 143.268125 224.64 \r\nL 146.616125 224.64 \r\nL 146.616125 206.958194 \r\nL 143.268125 206.958194 \r\nz\r\n\" style=\"fill:#1f77b4;\"/>\r\n   </g>\r\n   <g id=\"patch_34\">\r\n    <path clip-path=\"url(#p68c0c519f8)\" d=\"M 146.616125 224.64 \r\nL 149.964125 224.64 \r\nL 149.964125 208.380323 \r\nL 146.616125 208.380323 \r\nz\r\n\" style=\"fill:#1f77b4;\"/>\r\n   </g>\r\n   <g id=\"patch_35\">\r\n    <path clip-path=\"url(#p68c0c519f8)\" d=\"M 149.964125 224.64 \r\nL 153.312125 224.64 \r\nL 153.312125 207.195215 \r\nL 149.964125 207.195215 \r\nz\r\n\" style=\"fill:#1f77b4;\"/>\r\n   </g>\r\n   <g id=\"patch_36\">\r\n    <path clip-path=\"url(#p68c0c519f8)\" d=\"M 153.312125 224.64 \r\nL 156.660125 224.64 \r\nL 156.660125 207.740365 \r\nL 153.312125 207.740365 \r\nz\r\n\" style=\"fill:#1f77b4;\"/>\r\n   </g>\r\n   <g id=\"patch_37\">\r\n    <path clip-path=\"url(#p68c0c519f8)\" d=\"M 156.660125 224.64 \r\nL 160.008125 224.64 \r\nL 160.008125 209.707643 \r\nL 156.660125 209.707643 \r\nz\r\n\" style=\"fill:#1f77b4;\"/>\r\n   </g>\r\n   <g id=\"patch_38\">\r\n    <path clip-path=\"url(#p68c0c519f8)\" d=\"M 160.008125 224.64 \r\nL 163.356125 224.64 \r\nL 163.356125 211.248283 \r\nL 160.008125 211.248283 \r\nz\r\n\" style=\"fill:#1f77b4;\"/>\r\n   </g>\r\n   <g id=\"patch_39\">\r\n    <path clip-path=\"url(#p68c0c519f8)\" d=\"M 163.356125 224.64 \r\nL 166.704125 224.64 \r\nL 166.704125 210.821645 \r\nL 163.356125 210.821645 \r\nz\r\n\" style=\"fill:#1f77b4;\"/>\r\n   </g>\r\n   <g id=\"patch_40\">\r\n    <path clip-path=\"url(#p68c0c519f8)\" d=\"M 166.704125 224.64 \r\nL 170.052125 224.64 \r\nL 170.052125 211.366794 \r\nL 166.704125 211.366794 \r\nz\r\n\" style=\"fill:#1f77b4;\"/>\r\n   </g>\r\n   <g id=\"patch_41\">\r\n    <path clip-path=\"url(#p68c0c519f8)\" d=\"M 170.052125 224.64 \r\nL 173.400125 224.64 \r\nL 173.400125 211.888241 \r\nL 170.052125 211.888241 \r\nz\r\n\" style=\"fill:#1f77b4;\"/>\r\n   </g>\r\n   <g id=\"patch_42\">\r\n    <path clip-path=\"url(#p68c0c519f8)\" d=\"M 173.400125 224.64 \r\nL 176.748125 224.64 \r\nL 176.748125 212.812625 \r\nL 173.400125 212.812625 \r\nz\r\n\" style=\"fill:#1f77b4;\"/>\r\n   </g>\r\n   <g id=\"patch_43\">\r\n    <path clip-path=\"url(#p68c0c519f8)\" d=\"M 176.748125 224.64 \r\nL 180.096125 224.64 \r\nL 180.096125 213.310371 \r\nL 176.748125 213.310371 \r\nz\r\n\" style=\"fill:#1f77b4;\"/>\r\n   </g>\r\n   <g id=\"patch_44\">\r\n    <path clip-path=\"url(#p68c0c519f8)\" d=\"M 180.096125 224.64 \r\nL 183.444125 224.64 \r\nL 183.444125 213.689605 \r\nL 180.096125 213.689605 \r\nz\r\n\" style=\"fill:#1f77b4;\"/>\r\n   </g>\r\n   <g id=\"patch_45\">\r\n    <path clip-path=\"url(#p68c0c519f8)\" d=\"M 183.444125 224.64 \r\nL 186.792125 224.64 \r\nL 186.792125 213.286669 \r\nL 183.444125 213.286669 \r\nz\r\n\" style=\"fill:#1f77b4;\"/>\r\n   </g>\r\n   <g id=\"patch_46\">\r\n    <path clip-path=\"url(#p68c0c519f8)\" d=\"M 186.792125 224.64 \r\nL 190.140125 224.64 \r\nL 190.140125 214.329563 \r\nL 186.792125 214.329563 \r\nz\r\n\" style=\"fill:#1f77b4;\"/>\r\n   </g>\r\n   <g id=\"patch_47\">\r\n    <path clip-path=\"url(#p68c0c519f8)\" d=\"M 190.140125 224.64 \r\nL 193.488125 224.64 \r\nL 193.488125 213.784414 \r\nL 190.140125 213.784414 \r\nz\r\n\" style=\"fill:#1f77b4;\"/>\r\n   </g>\r\n   <g id=\"patch_48\">\r\n    <path clip-path=\"url(#p68c0c519f8)\" d=\"M 193.488125 224.64 \r\nL 196.836125 224.64 \r\nL 196.836125 214.756202 \r\nL 193.488125 214.756202 \r\nz\r\n\" style=\"fill:#1f77b4;\"/>\r\n   </g>\r\n   <g id=\"patch_49\">\r\n    <path clip-path=\"url(#p68c0c519f8)\" d=\"M 196.836125 224.64 \r\nL 200.184125 224.64 \r\nL 200.184125 214.779904 \r\nL 196.836125 214.779904 \r\nz\r\n\" style=\"fill:#1f77b4;\"/>\r\n   </g>\r\n   <g id=\"patch_50\">\r\n    <path clip-path=\"url(#p68c0c519f8)\" d=\"M 200.184125 224.64 \r\nL 203.532125 224.64 \r\nL 203.532125 215.277649 \r\nL 200.184125 215.277649 \r\nz\r\n\" style=\"fill:#1f77b4;\"/>\r\n   </g>\r\n   <g id=\"patch_51\">\r\n    <path clip-path=\"url(#p68c0c519f8)\" d=\"M 203.532125 224.64 \r\nL 206.880125 224.64 \r\nL 206.880125 216.699779 \r\nL 203.532125 216.699779 \r\nz\r\n\" style=\"fill:#1f77b4;\"/>\r\n   </g>\r\n   <g id=\"patch_52\">\r\n    <path clip-path=\"url(#p68c0c519f8)\" d=\"M 206.880125 224.64 \r\nL 210.228125 224.64 \r\nL 210.228125 215.39616 \r\nL 206.880125 215.39616 \r\nz\r\n\" style=\"fill:#1f77b4;\"/>\r\n   </g>\r\n   <g id=\"patch_53\">\r\n    <path clip-path=\"url(#p68c0c519f8)\" d=\"M 210.228125 224.64 \r\nL 213.576125 224.64 \r\nL 213.576125 215.893905 \r\nL 210.228125 215.893905 \r\nz\r\n\" style=\"fill:#1f77b4;\"/>\r\n   </g>\r\n   <g id=\"patch_54\">\r\n    <path clip-path=\"url(#p68c0c519f8)\" d=\"M 213.576125 224.64 \r\nL 216.924125 224.64 \r\nL 216.924125 215.799097 \r\nL 213.576125 215.799097 \r\nz\r\n\" style=\"fill:#1f77b4;\"/>\r\n   </g>\r\n   <g id=\"patch_55\">\r\n    <path clip-path=\"url(#p68c0c519f8)\" d=\"M 216.924125 224.64 \r\nL 220.272125 224.64 \r\nL 220.272125 216.984204 \r\nL 216.924125 216.984204 \r\nz\r\n\" style=\"fill:#1f77b4;\"/>\r\n   </g>\r\n   <g id=\"patch_56\">\r\n    <path clip-path=\"url(#p68c0c519f8)\" d=\"M 220.272125 224.64 \r\nL 223.620125 224.64 \r\nL 223.620125 217.316035 \r\nL 220.272125 217.316035 \r\nz\r\n\" style=\"fill:#1f77b4;\"/>\r\n   </g>\r\n   <g id=\"patch_57\">\r\n    <path clip-path=\"url(#p68c0c519f8)\" d=\"M 223.620125 224.64 \r\nL 226.968125 224.64 \r\nL 226.968125 217.363439 \r\nL 223.620125 217.363439 \r\nz\r\n\" style=\"fill:#1f77b4;\"/>\r\n   </g>\r\n   <g id=\"patch_58\">\r\n    <path clip-path=\"url(#p68c0c519f8)\" d=\"M 226.968125 224.64 \r\nL 230.316125 224.64 \r\nL 230.316125 217.102715 \r\nL 226.968125 217.102715 \r\nz\r\n\" style=\"fill:#1f77b4;\"/>\r\n   </g>\r\n   <g id=\"patch_59\">\r\n    <path clip-path=\"url(#p68c0c519f8)\" d=\"M 230.316125 224.64 \r\nL 233.664125 224.64 \r\nL 233.664125 217.671567 \r\nL 230.316125 217.671567 \r\nz\r\n\" style=\"fill:#1f77b4;\"/>\r\n   </g>\r\n   <g id=\"patch_60\">\r\n    <path clip-path=\"url(#p68c0c519f8)\" d=\"M 233.664125 224.64 \r\nL 237.012125 224.64 \r\nL 237.012125 217.292332 \r\nL 233.664125 217.292332 \r\nz\r\n\" style=\"fill:#1f77b4;\"/>\r\n   </g>\r\n   <g id=\"patch_61\">\r\n    <path clip-path=\"url(#p68c0c519f8)\" d=\"M 237.012125 224.64 \r\nL 240.360125 224.64 \r\nL 240.360125 218.027099 \r\nL 237.012125 218.027099 \r\nz\r\n\" style=\"fill:#1f77b4;\"/>\r\n   </g>\r\n   <g id=\"patch_62\">\r\n    <path clip-path=\"url(#p68c0c519f8)\" d=\"M 240.360125 224.64 \r\nL 243.708125 224.64 \r\nL 243.708125 217.553056 \r\nL 240.360125 217.553056 \r\nz\r\n\" style=\"fill:#1f77b4;\"/>\r\n   </g>\r\n   <g id=\"patch_63\">\r\n    <path clip-path=\"url(#p68c0c519f8)\" d=\"M 243.708125 224.64 \r\nL 247.056125 224.64 \r\nL 247.056125 217.576758 \r\nL 243.708125 217.576758 \r\nz\r\n\" style=\"fill:#1f77b4;\"/>\r\n   </g>\r\n   <g id=\"patch_64\">\r\n    <path clip-path=\"url(#p68c0c519f8)\" d=\"M 247.056125 224.64 \r\nL 250.404125 224.64 \r\nL 250.404125 217.81378 \r\nL 247.056125 217.81378 \r\nz\r\n\" style=\"fill:#1f77b4;\"/>\r\n   </g>\r\n   <g id=\"patch_65\">\r\n    <path clip-path=\"url(#p68c0c519f8)\" d=\"M 250.404125 224.64 \r\nL 253.752125 224.64 \r\nL 253.752125 218.311525 \r\nL 250.404125 218.311525 \r\nz\r\n\" style=\"fill:#1f77b4;\"/>\r\n   </g>\r\n   <g id=\"patch_66\">\r\n    <path clip-path=\"url(#p68c0c519f8)\" d=\"M 253.752125 224.64 \r\nL 257.100125 224.64 \r\nL 257.100125 218.572249 \r\nL 253.752125 218.572249 \r\nz\r\n\" style=\"fill:#1f77b4;\"/>\r\n   </g>\r\n   <g id=\"patch_67\">\r\n    <path clip-path=\"url(#p68c0c519f8)\" d=\"M 257.100125 224.64 \r\nL 260.448125 224.64 \r\nL 260.448125 219.117398 \r\nL 257.100125 219.117398 \r\nz\r\n\" style=\"fill:#1f77b4;\"/>\r\n   </g>\r\n   <g id=\"patch_68\">\r\n    <path clip-path=\"url(#p68c0c519f8)\" d=\"M 260.448125 224.64 \r\nL 263.796125 224.64 \r\nL 263.796125 219.259611 \r\nL 260.448125 219.259611 \r\nz\r\n\" style=\"fill:#1f77b4;\"/>\r\n   </g>\r\n   <g id=\"patch_69\">\r\n    <path clip-path=\"url(#p68c0c519f8)\" d=\"M 263.796125 224.64 \r\nL 267.144125 224.64 \r\nL 267.144125 219.283313 \r\nL 263.796125 219.283313 \r\nz\r\n\" style=\"fill:#1f77b4;\"/>\r\n   </g>\r\n   <g id=\"patch_70\">\r\n    <path clip-path=\"url(#p68c0c519f8)\" d=\"M 267.144125 224.64 \r\nL 270.492125 224.64 \r\nL 270.492125 219.449228 \r\nL 267.144125 219.449228 \r\nz\r\n\" style=\"fill:#1f77b4;\"/>\r\n   </g>\r\n   <g id=\"patch_71\">\r\n    <path clip-path=\"url(#p68c0c519f8)\" d=\"M 270.492125 224.64 \r\nL 273.840125 224.64 \r\nL 273.840125 219.970676 \r\nL 270.492125 219.970676 \r\nz\r\n\" style=\"fill:#1f77b4;\"/>\r\n   </g>\r\n   <g id=\"patch_72\">\r\n    <path clip-path=\"url(#p68c0c519f8)\" d=\"M 273.840125 224.64 \r\nL 277.188125 224.64 \r\nL 277.188125 219.235909 \r\nL 273.840125 219.235909 \r\nz\r\n\" style=\"fill:#1f77b4;\"/>\r\n   </g>\r\n   <g id=\"patch_73\">\r\n    <path clip-path=\"url(#p68c0c519f8)\" d=\"M 277.188125 224.64 \r\nL 280.536125 224.64 \r\nL 280.536125 219.425526 \r\nL 277.188125 219.425526 \r\nz\r\n\" style=\"fill:#1f77b4;\"/>\r\n   </g>\r\n   <g id=\"patch_74\">\r\n    <path clip-path=\"url(#p68c0c519f8)\" d=\"M 280.536125 224.64 \r\nL 283.884125 224.64 \r\nL 283.884125 218.998887 \r\nL 280.536125 218.998887 \r\nz\r\n\" style=\"fill:#1f77b4;\"/>\r\n   </g>\r\n   <g id=\"patch_75\">\r\n    <path clip-path=\"url(#p68c0c519f8)\" d=\"M 283.884125 224.64 \r\nL 287.232125 224.64 \r\nL 287.232125 219.828463 \r\nL 283.884125 219.828463 \r\nz\r\n\" style=\"fill:#1f77b4;\"/>\r\n   </g>\r\n   <g id=\"patch_76\">\r\n    <path clip-path=\"url(#p68c0c519f8)\" d=\"M 287.232125 224.64 \r\nL 290.580125 224.64 \r\nL 290.580125 220.326208 \r\nL 287.232125 220.326208 \r\nz\r\n\" style=\"fill:#1f77b4;\"/>\r\n   </g>\r\n   <g id=\"patch_77\">\r\n    <path clip-path=\"url(#p68c0c519f8)\" d=\"M 290.580125 224.64 \r\nL 293.928125 224.64 \r\nL 293.928125 219.828463 \r\nL 290.580125 219.828463 \r\nz\r\n\" style=\"fill:#1f77b4;\"/>\r\n   </g>\r\n   <g id=\"patch_78\">\r\n    <path clip-path=\"url(#p68c0c519f8)\" d=\"M 293.928125 224.64 \r\nL 297.276125 224.64 \r\nL 297.276125 220.065484 \r\nL 293.928125 220.065484 \r\nz\r\n\" style=\"fill:#1f77b4;\"/>\r\n   </g>\r\n   <g id=\"patch_79\">\r\n    <path clip-path=\"url(#p68c0c519f8)\" d=\"M 297.276125 224.64 \r\nL 300.624125 224.64 \r\nL 300.624125 220.326208 \r\nL 297.276125 220.326208 \r\nz\r\n\" style=\"fill:#1f77b4;\"/>\r\n   </g>\r\n   <g id=\"patch_80\">\r\n    <path clip-path=\"url(#p68c0c519f8)\" d=\"M 300.624125 224.64 \r\nL 303.972125 224.64 \r\nL 303.972125 220.302506 \r\nL 300.624125 220.302506 \r\nz\r\n\" style=\"fill:#1f77b4;\"/>\r\n   </g>\r\n   <g id=\"patch_81\">\r\n    <path clip-path=\"url(#p68c0c519f8)\" d=\"M 303.972125 224.64 \r\nL 307.320125 224.64 \r\nL 307.320125 220.586932 \r\nL 303.972125 220.586932 \r\nz\r\n\" style=\"fill:#1f77b4;\"/>\r\n   </g>\r\n   <g id=\"patch_82\">\r\n    <path clip-path=\"url(#p68c0c519f8)\" d=\"M 307.320125 224.64 \r\nL 310.668125 224.64 \r\nL 310.668125 220.089187 \r\nL 307.320125 220.089187 \r\nz\r\n\" style=\"fill:#1f77b4;\"/>\r\n   </g>\r\n   <g id=\"patch_83\">\r\n    <path clip-path=\"url(#p68c0c519f8)\" d=\"M 310.668125 224.64 \r\nL 314.016125 224.64 \r\nL 314.016125 220.255102 \r\nL 310.668125 220.255102 \r\nz\r\n\" style=\"fill:#1f77b4;\"/>\r\n   </g>\r\n   <g id=\"patch_84\">\r\n    <path clip-path=\"url(#p68c0c519f8)\" d=\"M 314.016125 224.64 \r\nL 317.364125 224.64 \r\nL 317.364125 219.828463 \r\nL 314.016125 219.828463 \r\nz\r\n\" style=\"fill:#1f77b4;\"/>\r\n   </g>\r\n   <g id=\"patch_85\">\r\n    <path clip-path=\"url(#p68c0c519f8)\" d=\"M 317.364125 224.64 \r\nL 320.712125 224.64 \r\nL 320.712125 220.871358 \r\nL 317.364125 220.871358 \r\nz\r\n\" style=\"fill:#1f77b4;\"/>\r\n   </g>\r\n   <g id=\"patch_86\">\r\n    <path clip-path=\"url(#p68c0c519f8)\" d=\"M 320.712125 224.64 \r\nL 324.060125 224.64 \r\nL 324.060125 221.108379 \r\nL 320.712125 221.108379 \r\nz\r\n\" style=\"fill:#1f77b4;\"/>\r\n   </g>\r\n   <g id=\"patch_87\">\r\n    <path clip-path=\"url(#p68c0c519f8)\" d=\"M 324.060125 224.64 \r\nL 327.408125 224.64 \r\nL 327.408125 220.942464 \r\nL 324.060125 220.942464 \r\nz\r\n\" style=\"fill:#1f77b4;\"/>\r\n   </g>\r\n   <g id=\"patch_88\">\r\n    <path clip-path=\"url(#p68c0c519f8)\" d=\"M 327.408125 224.64 \r\nL 330.756125 224.64 \r\nL 330.756125 220.800251 \r\nL 327.408125 220.800251 \r\nz\r\n\" style=\"fill:#1f77b4;\"/>\r\n   </g>\r\n   <g id=\"patch_89\">\r\n    <path clip-path=\"url(#p68c0c519f8)\" d=\"M 330.756125 224.64 \r\nL 334.104125 224.64 \r\nL 334.104125 221.392805 \r\nL 330.756125 221.392805 \r\nz\r\n\" style=\"fill:#1f77b4;\"/>\r\n   </g>\r\n   <g id=\"patch_90\">\r\n    <path clip-path=\"url(#p68c0c519f8)\" d=\"M 334.104125 224.64 \r\nL 337.452125 224.64 \r\nL 337.452125 220.966166 \r\nL 334.104125 220.966166 \r\nz\r\n\" style=\"fill:#1f77b4;\"/>\r\n   </g>\r\n   <g id=\"patch_91\">\r\n    <path clip-path=\"url(#p68c0c519f8)\" d=\"M 337.452125 224.64 \r\nL 340.800125 224.64 \r\nL 340.800125 221.250592 \r\nL 337.452125 221.250592 \r\nz\r\n\" style=\"fill:#1f77b4;\"/>\r\n   </g>\r\n   <g id=\"patch_92\">\r\n    <path clip-path=\"url(#p68c0c519f8)\" d=\"M 340.800125 224.64 \r\nL 344.148125 224.64 \r\nL 344.148125 221.084677 \r\nL 340.800125 221.084677 \r\nz\r\n\" style=\"fill:#1f77b4;\"/>\r\n   </g>\r\n   <g id=\"patch_93\">\r\n    <path clip-path=\"url(#p68c0c519f8)\" d=\"M 344.148125 224.64 \r\nL 347.496125 224.64 \r\nL 347.496125 221.392805 \r\nL 344.148125 221.392805 \r\nz\r\n\" style=\"fill:#1f77b4;\"/>\r\n   </g>\r\n   <g id=\"patch_94\">\r\n    <path clip-path=\"url(#p68c0c519f8)\" d=\"M 347.496125 224.64 \r\nL 350.844125 224.64 \r\nL 350.844125 221.037273 \r\nL 347.496125 221.037273 \r\nz\r\n\" style=\"fill:#1f77b4;\"/>\r\n   </g>\r\n   <g id=\"patch_95\">\r\n    <path clip-path=\"url(#p68c0c519f8)\" d=\"M 350.844125 224.64 \r\nL 354.192125 224.64 \r\nL 354.192125 221.463911 \r\nL 350.844125 221.463911 \r\nz\r\n\" style=\"fill:#1f77b4;\"/>\r\n   </g>\r\n   <g id=\"patch_96\">\r\n    <path clip-path=\"url(#p68c0c519f8)\" d=\"M 354.192125 224.64 \r\nL 357.540125 224.64 \r\nL 357.540125 221.606124 \r\nL 354.192125 221.606124 \r\nz\r\n\" style=\"fill:#1f77b4;\"/>\r\n   </g>\r\n   <g id=\"patch_97\">\r\n    <path clip-path=\"url(#p68c0c519f8)\" d=\"M 357.540125 224.64 \r\nL 360.888125 224.64 \r\nL 360.888125 221.535018 \r\nL 357.540125 221.535018 \r\nz\r\n\" style=\"fill:#1f77b4;\"/>\r\n   </g>\r\n   <g id=\"patch_98\">\r\n    <path clip-path=\"url(#p68c0c519f8)\" d=\"M 360.888125 224.64 \r\nL 364.236125 224.64 \r\nL 364.236125 221.866848 \r\nL 360.888125 221.866848 \r\nz\r\n\" style=\"fill:#1f77b4;\"/>\r\n   </g>\r\n   <g id=\"patch_99\">\r\n    <path clip-path=\"url(#p68c0c519f8)\" d=\"M 364.236125 224.64 \r\nL 367.584125 224.64 \r\nL 367.584125 221.203188 \r\nL 364.236125 221.203188 \r\nz\r\n\" style=\"fill:#1f77b4;\"/>\r\n   </g>\r\n   <g id=\"patch_100\">\r\n    <path clip-path=\"url(#p68c0c519f8)\" d=\"M 367.584125 224.64 \r\nL 370.932125 224.64 \r\nL 370.932125 221.843146 \r\nL 367.584125 221.843146 \r\nz\r\n\" style=\"fill:#1f77b4;\"/>\r\n   </g>\r\n   <g id=\"patch_101\">\r\n    <path clip-path=\"url(#p68c0c519f8)\" d=\"M 370.932125 224.64 \r\nL 374.280125 224.64 \r\nL 374.280125 221.985359 \r\nL 370.932125 221.985359 \r\nz\r\n\" style=\"fill:#1f77b4;\"/>\r\n   </g>\r\n   <g id=\"patch_102\">\r\n    <path clip-path=\"url(#p68c0c519f8)\" d=\"M 374.280125 224.64 \r\nL 377.628125 224.64 \r\nL 377.628125 221.345401 \r\nL 374.280125 221.345401 \r\nz\r\n\" style=\"fill:#1f77b4;\"/>\r\n   </g>\r\n   <g id=\"matplotlib.axis_1\">\r\n    <g id=\"xtick_1\">\r\n     <g id=\"line2d_1\">\r\n      <defs>\r\n       <path d=\"M 0 0 \r\nL 0 3.5 \r\n\" id=\"mbf7f8d5b3b\" style=\"stroke:#000000;stroke-width:0.8;\"/>\r\n      </defs>\r\n      <g>\r\n       <use style=\"stroke:#000000;stroke-width:0.8;\" x=\"42.828125\" xlink:href=\"#mbf7f8d5b3b\" y=\"224.64\"/>\r\n      </g>\r\n     </g>\r\n     <g id=\"text_1\">\r\n      <!-- 0 -->\r\n      <g transform=\"translate(39.646875 239.238437)scale(0.1 -0.1)\">\r\n       <defs>\r\n        <path d=\"M 2034 4250 \r\nQ 1547 4250 1301 3770 \r\nQ 1056 3291 1056 2328 \r\nQ 1056 1369 1301 889 \r\nQ 1547 409 2034 409 \r\nQ 2525 409 2770 889 \r\nQ 3016 1369 3016 2328 \r\nQ 3016 3291 2770 3770 \r\nQ 2525 4250 2034 4250 \r\nz\r\nM 2034 4750 \r\nQ 2819 4750 3233 4129 \r\nQ 3647 3509 3647 2328 \r\nQ 3647 1150 3233 529 \r\nQ 2819 -91 2034 -91 \r\nQ 1250 -91 836 529 \r\nQ 422 1150 422 2328 \r\nQ 422 3509 836 4129 \r\nQ 1250 4750 2034 4750 \r\nz\r\n\" id=\"DejaVuSans-30\" transform=\"scale(0.015625)\"/>\r\n       </defs>\r\n       <use xlink:href=\"#DejaVuSans-30\"/>\r\n      </g>\r\n     </g>\r\n    </g>\r\n    <g id=\"xtick_2\">\r\n     <g id=\"line2d_2\">\r\n      <g>\r\n       <use style=\"stroke:#000000;stroke-width:0.8;\" x=\"109.788125\" xlink:href=\"#mbf7f8d5b3b\" y=\"224.64\"/>\r\n      </g>\r\n     </g>\r\n     <g id=\"text_2\">\r\n      <!-- 10 -->\r\n      <g transform=\"translate(103.425625 239.238437)scale(0.1 -0.1)\">\r\n       <defs>\r\n        <path d=\"M 794 531 \r\nL 1825 531 \r\nL 1825 4091 \r\nL 703 3866 \r\nL 703 4441 \r\nL 1819 4666 \r\nL 2450 4666 \r\nL 2450 531 \r\nL 3481 531 \r\nL 3481 0 \r\nL 794 0 \r\nL 794 531 \r\nz\r\n\" id=\"DejaVuSans-31\" transform=\"scale(0.015625)\"/>\r\n       </defs>\r\n       <use xlink:href=\"#DejaVuSans-31\"/>\r\n       <use x=\"63.623047\" xlink:href=\"#DejaVuSans-30\"/>\r\n      </g>\r\n     </g>\r\n    </g>\r\n    <g id=\"xtick_3\">\r\n     <g id=\"line2d_3\">\r\n      <g>\r\n       <use style=\"stroke:#000000;stroke-width:0.8;\" x=\"176.748125\" xlink:href=\"#mbf7f8d5b3b\" y=\"224.64\"/>\r\n      </g>\r\n     </g>\r\n     <g id=\"text_3\">\r\n      <!-- 20 -->\r\n      <g transform=\"translate(170.385625 239.238437)scale(0.1 -0.1)\">\r\n       <defs>\r\n        <path d=\"M 1228 531 \r\nL 3431 531 \r\nL 3431 0 \r\nL 469 0 \r\nL 469 531 \r\nQ 828 903 1448 1529 \r\nQ 2069 2156 2228 2338 \r\nQ 2531 2678 2651 2914 \r\nQ 2772 3150 2772 3378 \r\nQ 2772 3750 2511 3984 \r\nQ 2250 4219 1831 4219 \r\nQ 1534 4219 1204 4116 \r\nQ 875 4013 500 3803 \r\nL 500 4441 \r\nQ 881 4594 1212 4672 \r\nQ 1544 4750 1819 4750 \r\nQ 2544 4750 2975 4387 \r\nQ 3406 4025 3406 3419 \r\nQ 3406 3131 3298 2873 \r\nQ 3191 2616 2906 2266 \r\nQ 2828 2175 2409 1742 \r\nQ 1991 1309 1228 531 \r\nz\r\n\" id=\"DejaVuSans-32\" transform=\"scale(0.015625)\"/>\r\n       </defs>\r\n       <use xlink:href=\"#DejaVuSans-32\"/>\r\n       <use x=\"63.623047\" xlink:href=\"#DejaVuSans-30\"/>\r\n      </g>\r\n     </g>\r\n    </g>\r\n    <g id=\"xtick_4\">\r\n     <g id=\"line2d_4\">\r\n      <g>\r\n       <use style=\"stroke:#000000;stroke-width:0.8;\" x=\"243.708125\" xlink:href=\"#mbf7f8d5b3b\" y=\"224.64\"/>\r\n      </g>\r\n     </g>\r\n     <g id=\"text_4\">\r\n      <!-- 30 -->\r\n      <g transform=\"translate(237.345625 239.238437)scale(0.1 -0.1)\">\r\n       <defs>\r\n        <path d=\"M 2597 2516 \r\nQ 3050 2419 3304 2112 \r\nQ 3559 1806 3559 1356 \r\nQ 3559 666 3084 287 \r\nQ 2609 -91 1734 -91 \r\nQ 1441 -91 1130 -33 \r\nQ 819 25 488 141 \r\nL 488 750 \r\nQ 750 597 1062 519 \r\nQ 1375 441 1716 441 \r\nQ 2309 441 2620 675 \r\nQ 2931 909 2931 1356 \r\nQ 2931 1769 2642 2001 \r\nQ 2353 2234 1838 2234 \r\nL 1294 2234 \r\nL 1294 2753 \r\nL 1863 2753 \r\nQ 2328 2753 2575 2939 \r\nQ 2822 3125 2822 3475 \r\nQ 2822 3834 2567 4026 \r\nQ 2313 4219 1838 4219 \r\nQ 1578 4219 1281 4162 \r\nQ 984 4106 628 3988 \r\nL 628 4550 \r\nQ 988 4650 1302 4700 \r\nQ 1616 4750 1894 4750 \r\nQ 2613 4750 3031 4423 \r\nQ 3450 4097 3450 3541 \r\nQ 3450 3153 3228 2886 \r\nQ 3006 2619 2597 2516 \r\nz\r\n\" id=\"DejaVuSans-33\" transform=\"scale(0.015625)\"/>\r\n       </defs>\r\n       <use xlink:href=\"#DejaVuSans-33\"/>\r\n       <use x=\"63.623047\" xlink:href=\"#DejaVuSans-30\"/>\r\n      </g>\r\n     </g>\r\n    </g>\r\n    <g id=\"xtick_5\">\r\n     <g id=\"line2d_5\">\r\n      <g>\r\n       <use style=\"stroke:#000000;stroke-width:0.8;\" x=\"310.668125\" xlink:href=\"#mbf7f8d5b3b\" y=\"224.64\"/>\r\n      </g>\r\n     </g>\r\n     <g id=\"text_5\">\r\n      <!-- 40 -->\r\n      <g transform=\"translate(304.305625 239.238437)scale(0.1 -0.1)\">\r\n       <defs>\r\n        <path d=\"M 2419 4116 \r\nL 825 1625 \r\nL 2419 1625 \r\nL 2419 4116 \r\nz\r\nM 2253 4666 \r\nL 3047 4666 \r\nL 3047 1625 \r\nL 3713 1625 \r\nL 3713 1100 \r\nL 3047 1100 \r\nL 3047 0 \r\nL 2419 0 \r\nL 2419 1100 \r\nL 313 1100 \r\nL 313 1709 \r\nL 2253 4666 \r\nz\r\n\" id=\"DejaVuSans-34\" transform=\"scale(0.015625)\"/>\r\n       </defs>\r\n       <use xlink:href=\"#DejaVuSans-34\"/>\r\n       <use x=\"63.623047\" xlink:href=\"#DejaVuSans-30\"/>\r\n      </g>\r\n     </g>\r\n    </g>\r\n    <g id=\"xtick_6\">\r\n     <g id=\"line2d_6\">\r\n      <g>\r\n       <use style=\"stroke:#000000;stroke-width:0.8;\" x=\"377.628125\" xlink:href=\"#mbf7f8d5b3b\" y=\"224.64\"/>\r\n      </g>\r\n     </g>\r\n     <g id=\"text_6\">\r\n      <!-- 50 -->\r\n      <g transform=\"translate(371.265625 239.238437)scale(0.1 -0.1)\">\r\n       <defs>\r\n        <path d=\"M 691 4666 \r\nL 3169 4666 \r\nL 3169 4134 \r\nL 1269 4134 \r\nL 1269 2991 \r\nQ 1406 3038 1543 3061 \r\nQ 1681 3084 1819 3084 \r\nQ 2600 3084 3056 2656 \r\nQ 3513 2228 3513 1497 \r\nQ 3513 744 3044 326 \r\nQ 2575 -91 1722 -91 \r\nQ 1428 -91 1123 -41 \r\nQ 819 9 494 109 \r\nL 494 744 \r\nQ 775 591 1075 516 \r\nQ 1375 441 1709 441 \r\nQ 2250 441 2565 725 \r\nQ 2881 1009 2881 1497 \r\nQ 2881 1984 2565 2268 \r\nQ 2250 2553 1709 2553 \r\nQ 1456 2553 1204 2497 \r\nQ 953 2441 691 2322 \r\nL 691 4666 \r\nz\r\n\" id=\"DejaVuSans-35\" transform=\"scale(0.015625)\"/>\r\n       </defs>\r\n       <use xlink:href=\"#DejaVuSans-35\"/>\r\n       <use x=\"63.623047\" xlink:href=\"#DejaVuSans-30\"/>\r\n      </g>\r\n     </g>\r\n    </g>\r\n   </g>\r\n   <g id=\"matplotlib.axis_2\">\r\n    <g id=\"ytick_1\">\r\n     <g id=\"line2d_7\">\r\n      <defs>\r\n       <path d=\"M 0 0 \r\nL -3.5 0 \r\n\" id=\"mbbf17cc863\" style=\"stroke:#000000;stroke-width:0.8;\"/>\r\n      </defs>\r\n      <g>\r\n       <use style=\"stroke:#000000;stroke-width:0.8;\" x=\"42.828125\" xlink:href=\"#mbbf17cc863\" y=\"224.64\"/>\r\n      </g>\r\n     </g>\r\n     <g id=\"text_7\">\r\n      <!-- 0.000 -->\r\n      <g transform=\"translate(7.2 228.439219)scale(0.1 -0.1)\">\r\n       <defs>\r\n        <path d=\"M 684 794 \r\nL 1344 794 \r\nL 1344 0 \r\nL 684 0 \r\nL 684 794 \r\nz\r\n\" id=\"DejaVuSans-2e\" transform=\"scale(0.015625)\"/>\r\n       </defs>\r\n       <use xlink:href=\"#DejaVuSans-30\"/>\r\n       <use x=\"63.623047\" xlink:href=\"#DejaVuSans-2e\"/>\r\n       <use x=\"95.410156\" xlink:href=\"#DejaVuSans-30\"/>\r\n       <use x=\"159.033203\" xlink:href=\"#DejaVuSans-30\"/>\r\n       <use x=\"222.65625\" xlink:href=\"#DejaVuSans-30\"/>\r\n      </g>\r\n     </g>\r\n    </g>\r\n    <g id=\"ytick_2\">\r\n     <g id=\"line2d_8\">\r\n      <g>\r\n       <use style=\"stroke:#000000;stroke-width:0.8;\" x=\"42.828125\" xlink:href=\"#mbbf17cc863\" y=\"200.1856\"/>\r\n      </g>\r\n     </g>\r\n     <g id=\"text_8\">\r\n      <!-- 0.025 -->\r\n      <g transform=\"translate(7.2 203.984818)scale(0.1 -0.1)\">\r\n       <use xlink:href=\"#DejaVuSans-30\"/>\r\n       <use x=\"63.623047\" xlink:href=\"#DejaVuSans-2e\"/>\r\n       <use x=\"95.410156\" xlink:href=\"#DejaVuSans-30\"/>\r\n       <use x=\"159.033203\" xlink:href=\"#DejaVuSans-32\"/>\r\n       <use x=\"222.65625\" xlink:href=\"#DejaVuSans-35\"/>\r\n      </g>\r\n     </g>\r\n    </g>\r\n    <g id=\"ytick_3\">\r\n     <g id=\"line2d_9\">\r\n      <g>\r\n       <use style=\"stroke:#000000;stroke-width:0.8;\" x=\"42.828125\" xlink:href=\"#mbbf17cc863\" y=\"175.731199\"/>\r\n      </g>\r\n     </g>\r\n     <g id=\"text_9\">\r\n      <!-- 0.050 -->\r\n      <g transform=\"translate(7.2 179.530418)scale(0.1 -0.1)\">\r\n       <use xlink:href=\"#DejaVuSans-30\"/>\r\n       <use x=\"63.623047\" xlink:href=\"#DejaVuSans-2e\"/>\r\n       <use x=\"95.410156\" xlink:href=\"#DejaVuSans-30\"/>\r\n       <use x=\"159.033203\" xlink:href=\"#DejaVuSans-35\"/>\r\n       <use x=\"222.65625\" xlink:href=\"#DejaVuSans-30\"/>\r\n      </g>\r\n     </g>\r\n    </g>\r\n    <g id=\"ytick_4\">\r\n     <g id=\"line2d_10\">\r\n      <g>\r\n       <use style=\"stroke:#000000;stroke-width:0.8;\" x=\"42.828125\" xlink:href=\"#mbbf17cc863\" y=\"151.276799\"/>\r\n      </g>\r\n     </g>\r\n     <g id=\"text_10\">\r\n      <!-- 0.075 -->\r\n      <g transform=\"translate(7.2 155.076017)scale(0.1 -0.1)\">\r\n       <defs>\r\n        <path d=\"M 525 4666 \r\nL 3525 4666 \r\nL 3525 4397 \r\nL 1831 0 \r\nL 1172 0 \r\nL 2766 4134 \r\nL 525 4134 \r\nL 525 4666 \r\nz\r\n\" id=\"DejaVuSans-37\" transform=\"scale(0.015625)\"/>\r\n       </defs>\r\n       <use xlink:href=\"#DejaVuSans-30\"/>\r\n       <use x=\"63.623047\" xlink:href=\"#DejaVuSans-2e\"/>\r\n       <use x=\"95.410156\" xlink:href=\"#DejaVuSans-30\"/>\r\n       <use x=\"159.033203\" xlink:href=\"#DejaVuSans-37\"/>\r\n       <use x=\"222.65625\" xlink:href=\"#DejaVuSans-35\"/>\r\n      </g>\r\n     </g>\r\n    </g>\r\n    <g id=\"ytick_5\">\r\n     <g id=\"line2d_11\">\r\n      <g>\r\n       <use style=\"stroke:#000000;stroke-width:0.8;\" x=\"42.828125\" xlink:href=\"#mbbf17cc863\" y=\"126.822398\"/>\r\n      </g>\r\n     </g>\r\n     <g id=\"text_11\">\r\n      <!-- 0.100 -->\r\n      <g transform=\"translate(7.2 130.621617)scale(0.1 -0.1)\">\r\n       <use xlink:href=\"#DejaVuSans-30\"/>\r\n       <use x=\"63.623047\" xlink:href=\"#DejaVuSans-2e\"/>\r\n       <use x=\"95.410156\" xlink:href=\"#DejaVuSans-31\"/>\r\n       <use x=\"159.033203\" xlink:href=\"#DejaVuSans-30\"/>\r\n       <use x=\"222.65625\" xlink:href=\"#DejaVuSans-30\"/>\r\n      </g>\r\n     </g>\r\n    </g>\r\n    <g id=\"ytick_6\">\r\n     <g id=\"line2d_12\">\r\n      <g>\r\n       <use style=\"stroke:#000000;stroke-width:0.8;\" x=\"42.828125\" xlink:href=\"#mbbf17cc863\" y=\"102.367998\"/>\r\n      </g>\r\n     </g>\r\n     <g id=\"text_12\">\r\n      <!-- 0.125 -->\r\n      <g transform=\"translate(7.2 106.167216)scale(0.1 -0.1)\">\r\n       <use xlink:href=\"#DejaVuSans-30\"/>\r\n       <use x=\"63.623047\" xlink:href=\"#DejaVuSans-2e\"/>\r\n       <use x=\"95.410156\" xlink:href=\"#DejaVuSans-31\"/>\r\n       <use x=\"159.033203\" xlink:href=\"#DejaVuSans-32\"/>\r\n       <use x=\"222.65625\" xlink:href=\"#DejaVuSans-35\"/>\r\n      </g>\r\n     </g>\r\n    </g>\r\n    <g id=\"ytick_7\">\r\n     <g id=\"line2d_13\">\r\n      <g>\r\n       <use style=\"stroke:#000000;stroke-width:0.8;\" x=\"42.828125\" xlink:href=\"#mbbf17cc863\" y=\"77.913597\"/>\r\n      </g>\r\n     </g>\r\n     <g id=\"text_13\">\r\n      <!-- 0.150 -->\r\n      <g transform=\"translate(7.2 81.712816)scale(0.1 -0.1)\">\r\n       <use xlink:href=\"#DejaVuSans-30\"/>\r\n       <use x=\"63.623047\" xlink:href=\"#DejaVuSans-2e\"/>\r\n       <use x=\"95.410156\" xlink:href=\"#DejaVuSans-31\"/>\r\n       <use x=\"159.033203\" xlink:href=\"#DejaVuSans-35\"/>\r\n       <use x=\"222.65625\" xlink:href=\"#DejaVuSans-30\"/>\r\n      </g>\r\n     </g>\r\n    </g>\r\n    <g id=\"ytick_8\">\r\n     <g id=\"line2d_14\">\r\n      <g>\r\n       <use style=\"stroke:#000000;stroke-width:0.8;\" x=\"42.828125\" xlink:href=\"#mbbf17cc863\" y=\"53.459197\"/>\r\n      </g>\r\n     </g>\r\n     <g id=\"text_14\">\r\n      <!-- 0.175 -->\r\n      <g transform=\"translate(7.2 57.258415)scale(0.1 -0.1)\">\r\n       <use xlink:href=\"#DejaVuSans-30\"/>\r\n       <use x=\"63.623047\" xlink:href=\"#DejaVuSans-2e\"/>\r\n       <use x=\"95.410156\" xlink:href=\"#DejaVuSans-31\"/>\r\n       <use x=\"159.033203\" xlink:href=\"#DejaVuSans-37\"/>\r\n       <use x=\"222.65625\" xlink:href=\"#DejaVuSans-35\"/>\r\n      </g>\r\n     </g>\r\n    </g>\r\n    <g id=\"ytick_9\">\r\n     <g id=\"line2d_15\">\r\n      <g>\r\n       <use style=\"stroke:#000000;stroke-width:0.8;\" x=\"42.828125\" xlink:href=\"#mbbf17cc863\" y=\"29.004796\"/>\r\n      </g>\r\n     </g>\r\n     <g id=\"text_15\">\r\n      <!-- 0.200 -->\r\n      <g transform=\"translate(7.2 32.804015)scale(0.1 -0.1)\">\r\n       <use xlink:href=\"#DejaVuSans-30\"/>\r\n       <use x=\"63.623047\" xlink:href=\"#DejaVuSans-2e\"/>\r\n       <use x=\"95.410156\" xlink:href=\"#DejaVuSans-32\"/>\r\n       <use x=\"159.033203\" xlink:href=\"#DejaVuSans-30\"/>\r\n       <use x=\"222.65625\" xlink:href=\"#DejaVuSans-30\"/>\r\n      </g>\r\n     </g>\r\n    </g>\r\n   </g>\r\n   <g id=\"patch_103\">\r\n    <path d=\"M 42.828125 224.64 \r\nL 42.828125 7.2 \r\n\" style=\"fill:none;stroke:#000000;stroke-linecap:square;stroke-linejoin:miter;stroke-width:0.8;\"/>\r\n   </g>\r\n   <g id=\"patch_104\">\r\n    <path d=\"M 377.628125 224.64 \r\nL 377.628125 7.2 \r\n\" style=\"fill:none;stroke:#000000;stroke-linecap:square;stroke-linejoin:miter;stroke-width:0.8;\"/>\r\n   </g>\r\n   <g id=\"patch_105\">\r\n    <path d=\"M 42.828125 224.64 \r\nL 377.628125 224.64 \r\n\" style=\"fill:none;stroke:#000000;stroke-linecap:square;stroke-linejoin:miter;stroke-width:0.8;\"/>\r\n   </g>\r\n   <g id=\"patch_106\">\r\n    <path d=\"M 42.828125 7.2 \r\nL 377.628125 7.2 \r\n\" style=\"fill:none;stroke:#000000;stroke-linecap:square;stroke-linejoin:miter;stroke-width:0.8;\"/>\r\n   </g>\r\n  </g>\r\n </g>\r\n <defs>\r\n  <clipPath id=\"p68c0c519f8\">\r\n   <rect height=\"217.44\" width=\"334.8\" x=\"42.828125\" y=\"7.2\"/>\r\n  </clipPath>\r\n </defs>\r\n</svg>\r\n",
      "image/png": "[encoded data removed]"
     },
     "metadata": {
      "needs_background": "light"
     }
    }
   ],
   "source": [
    "plt.hist(x=df_rev.hours, bins=100, density=True, range=(0,50))\n",
    "plt.xlim([0,50])"
   ]
  },
  {
   "cell_type": "code",
   "execution_count": 18,
   "metadata": {},
   "outputs": [],
   "source": [
    "## lo que tenemos aqui es sin duda una power law que vamos a encodear\n",
    "## de una manera especial.\n",
    "## normalizar con log\n",
    "df_rev['log_hours'] = np.log(df_rev.hours)"
   ]
  },
  {
   "cell_type": "code",
   "execution_count": 19,
   "metadata": {},
   "outputs": [
    {
     "output_type": "execute_result",
     "data": {
      "text/plain": [
       "(-10.0, 20.0)"
      ]
     },
     "metadata": {},
     "execution_count": 19
    },
    {
     "output_type": "display_data",
     "data": {
      "text/plain": "<Figure size 432x288 with 1 Axes>",
      "image/svg+xml": "<?xml version=\"1.0\" encoding=\"utf-8\" standalone=\"no\"?>\r\n<!DOCTYPE svg PUBLIC \"-//W3C//DTD SVG 1.1//EN\"\r\n  \"http://www.w3.org/Graphics/SVG/1.1/DTD/svg11.dtd\">\r\n<svg height=\"248.518125pt\" version=\"1.1\" viewBox=\"0 0 384.828125 248.518125\" width=\"384.828125pt\" xmlns=\"http://www.w3.org/2000/svg\" xmlns:xlink=\"http://www.w3.org/1999/xlink\">\r\n <metadata>\r\n  <rdf:RDF xmlns:cc=\"http://creativecommons.org/ns#\" xmlns:dc=\"http://purl.org/dc/elements/1.1/\" xmlns:rdf=\"http://www.w3.org/1999/02/22-rdf-syntax-ns#\">\r\n   <cc:Work>\r\n    <dc:type rdf:resource=\"http://purl.org/dc/dcmitype/StillImage\"/>\r\n    <dc:date>2021-07-27T14:59:51.208483</dc:date>\r\n    <dc:format>image/svg+xml</dc:format>\r\n    <dc:creator>\r\n     <cc:Agent>\r\n      <dc:title>Matplotlib v3.4.2, https://matplotlib.org/</dc:title>\r\n     </cc:Agent>\r\n    </dc:creator>\r\n   </cc:Work>\r\n  </rdf:RDF>\r\n </metadata>\r\n <defs>\r\n  <style type=\"text/css\">*{stroke-linecap:butt;stroke-linejoin:round;}</style>\r\n </defs>\r\n <g id=\"figure_1\">\r\n  <g id=\"patch_1\">\r\n   <path d=\"M 0 248.518125 \r\nL 384.828125 248.518125 \r\nL 384.828125 0 \r\nL 0 0 \r\nz\r\n\" style=\"fill:none;\"/>\r\n  </g>\r\n  <g id=\"axes_1\">\r\n   <g id=\"patch_2\">\r\n    <path d=\"M 36.465625 224.64 \r\nL 371.265625 224.64 \r\nL 371.265625 7.2 \r\nL 36.465625 7.2 \r\nz\r\n\" style=\"fill:#ffffff;\"/>\r\n   </g>\r\n   <g id=\"patch_3\">\r\n    <path clip-path=\"url(#p0f01237453)\" d=\"M 36.465625 224.64 \r\nL 38.697625 224.64 \r\nL 38.697625 224.64 \r\nL 36.465625 224.64 \r\nz\r\n\" style=\"fill:#1f77b4;\"/>\r\n   </g>\r\n   <g id=\"patch_4\">\r\n    <path clip-path=\"url(#p0f01237453)\" d=\"M 38.697625 224.64 \r\nL 40.929625 224.64 \r\nL 40.929625 224.64 \r\nL 38.697625 224.64 \r\nz\r\n\" style=\"fill:#1f77b4;\"/>\r\n   </g>\r\n   <g id=\"patch_5\">\r\n    <path clip-path=\"url(#p0f01237453)\" d=\"M 40.929625 224.64 \r\nL 43.161625 224.64 \r\nL 43.161625 224.64 \r\nL 40.929625 224.64 \r\nz\r\n\" style=\"fill:#1f77b4;\"/>\r\n   </g>\r\n   <g id=\"patch_6\">\r\n    <path clip-path=\"url(#p0f01237453)\" d=\"M 43.161625 224.64 \r\nL 45.393625 224.64 \r\nL 45.393625 224.64 \r\nL 43.161625 224.64 \r\nz\r\n\" style=\"fill:#1f77b4;\"/>\r\n   </g>\r\n   <g id=\"patch_7\">\r\n    <path clip-path=\"url(#p0f01237453)\" d=\"M 45.393625 224.64 \r\nL 47.625625 224.64 \r\nL 47.625625 224.64 \r\nL 45.393625 224.64 \r\nz\r\n\" style=\"fill:#1f77b4;\"/>\r\n   </g>\r\n   <g id=\"patch_8\">\r\n    <path clip-path=\"url(#p0f01237453)\" d=\"M 47.625625 224.64 \r\nL 49.857625 224.64 \r\nL 49.857625 224.64 \r\nL 47.625625 224.64 \r\nz\r\n\" style=\"fill:#1f77b4;\"/>\r\n   </g>\r\n   <g id=\"patch_9\">\r\n    <path clip-path=\"url(#p0f01237453)\" d=\"M 49.857625 224.64 \r\nL 52.089625 224.64 \r\nL 52.089625 224.64 \r\nL 49.857625 224.64 \r\nz\r\n\" style=\"fill:#1f77b4;\"/>\r\n   </g>\r\n   <g id=\"patch_10\">\r\n    <path clip-path=\"url(#p0f01237453)\" d=\"M 52.089625 224.64 \r\nL 54.321625 224.64 \r\nL 54.321625 224.64 \r\nL 52.089625 224.64 \r\nz\r\n\" style=\"fill:#1f77b4;\"/>\r\n   </g>\r\n   <g id=\"patch_11\">\r\n    <path clip-path=\"url(#p0f01237453)\" d=\"M 54.321625 224.64 \r\nL 56.553625 224.64 \r\nL 56.553625 224.64 \r\nL 54.321625 224.64 \r\nz\r\n\" style=\"fill:#1f77b4;\"/>\r\n   </g>\r\n   <g id=\"patch_12\">\r\n    <path clip-path=\"url(#p0f01237453)\" d=\"M 56.553625 224.64 \r\nL 58.785625 224.64 \r\nL 58.785625 224.64 \r\nL 56.553625 224.64 \r\nz\r\n\" style=\"fill:#1f77b4;\"/>\r\n   </g>\r\n   <g id=\"patch_13\">\r\n    <path clip-path=\"url(#p0f01237453)\" d=\"M 58.785625 224.64 \r\nL 61.017625 224.64 \r\nL 61.017625 224.64 \r\nL 58.785625 224.64 \r\nz\r\n\" style=\"fill:#1f77b4;\"/>\r\n   </g>\r\n   <g id=\"patch_14\">\r\n    <path clip-path=\"url(#p0f01237453)\" d=\"M 61.017625 224.64 \r\nL 63.249625 224.64 \r\nL 63.249625 224.64 \r\nL 61.017625 224.64 \r\nz\r\n\" style=\"fill:#1f77b4;\"/>\r\n   </g>\r\n   <g id=\"patch_15\">\r\n    <path clip-path=\"url(#p0f01237453)\" d=\"M 63.249625 224.64 \r\nL 65.481625 224.64 \r\nL 65.481625 224.64 \r\nL 63.249625 224.64 \r\nz\r\n\" style=\"fill:#1f77b4;\"/>\r\n   </g>\r\n   <g id=\"patch_16\">\r\n    <path clip-path=\"url(#p0f01237453)\" d=\"M 65.481625 224.64 \r\nL 67.713625 224.64 \r\nL 67.713625 224.64 \r\nL 65.481625 224.64 \r\nz\r\n\" style=\"fill:#1f77b4;\"/>\r\n   </g>\r\n   <g id=\"patch_17\">\r\n    <path clip-path=\"url(#p0f01237453)\" d=\"M 67.713625 224.64 \r\nL 69.945625 224.64 \r\nL 69.945625 224.64 \r\nL 67.713625 224.64 \r\nz\r\n\" style=\"fill:#1f77b4;\"/>\r\n   </g>\r\n   <g id=\"patch_18\">\r\n    <path clip-path=\"url(#p0f01237453)\" d=\"M 69.945625 224.64 \r\nL 72.177625 224.64 \r\nL 72.177625 224.64 \r\nL 69.945625 224.64 \r\nz\r\n\" style=\"fill:#1f77b4;\"/>\r\n   </g>\r\n   <g id=\"patch_19\">\r\n    <path clip-path=\"url(#p0f01237453)\" d=\"M 72.177625 224.64 \r\nL 74.409625 224.64 \r\nL 74.409625 224.64 \r\nL 72.177625 224.64 \r\nz\r\n\" style=\"fill:#1f77b4;\"/>\r\n   </g>\r\n   <g id=\"patch_20\">\r\n    <path clip-path=\"url(#p0f01237453)\" d=\"M 74.409625 224.64 \r\nL 76.641625 224.64 \r\nL 76.641625 224.64 \r\nL 74.409625 224.64 \r\nz\r\n\" style=\"fill:#1f77b4;\"/>\r\n   </g>\r\n   <g id=\"patch_21\">\r\n    <path clip-path=\"url(#p0f01237453)\" d=\"M 76.641625 224.64 \r\nL 78.873625 224.64 \r\nL 78.873625 224.64 \r\nL 76.641625 224.64 \r\nz\r\n\" style=\"fill:#1f77b4;\"/>\r\n   </g>\r\n   <g id=\"patch_22\">\r\n    <path clip-path=\"url(#p0f01237453)\" d=\"M 78.873625 224.64 \r\nL 81.105625 224.64 \r\nL 81.105625 224.64 \r\nL 78.873625 224.64 \r\nz\r\n\" style=\"fill:#1f77b4;\"/>\r\n   </g>\r\n   <g id=\"patch_23\">\r\n    <path clip-path=\"url(#p0f01237453)\" d=\"M 81.105625 224.64 \r\nL 83.337625 224.64 \r\nL 83.337625 224.64 \r\nL 81.105625 224.64 \r\nz\r\n\" style=\"fill:#1f77b4;\"/>\r\n   </g>\r\n   <g id=\"patch_24\">\r\n    <path clip-path=\"url(#p0f01237453)\" d=\"M 83.337625 224.64 \r\nL 85.569625 224.64 \r\nL 85.569625 224.64 \r\nL 83.337625 224.64 \r\nz\r\n\" style=\"fill:#1f77b4;\"/>\r\n   </g>\r\n   <g id=\"patch_25\">\r\n    <path clip-path=\"url(#p0f01237453)\" d=\"M 85.569625 224.64 \r\nL 87.801625 224.64 \r\nL 87.801625 224.64 \r\nL 85.569625 224.64 \r\nz\r\n\" style=\"fill:#1f77b4;\"/>\r\n   </g>\r\n   <g id=\"patch_26\">\r\n    <path clip-path=\"url(#p0f01237453)\" d=\"M 87.801625 224.64 \r\nL 90.033625 224.64 \r\nL 90.033625 224.64 \r\nL 87.801625 224.64 \r\nz\r\n\" style=\"fill:#1f77b4;\"/>\r\n   </g>\r\n   <g id=\"patch_27\">\r\n    <path clip-path=\"url(#p0f01237453)\" d=\"M 90.033625 224.64 \r\nL 92.265625 224.64 \r\nL 92.265625 224.64 \r\nL 90.033625 224.64 \r\nz\r\n\" style=\"fill:#1f77b4;\"/>\r\n   </g>\r\n   <g id=\"patch_28\">\r\n    <path clip-path=\"url(#p0f01237453)\" d=\"M 92.265625 224.64 \r\nL 94.497625 224.64 \r\nL 94.497625 224.64 \r\nL 92.265625 224.64 \r\nz\r\n\" style=\"fill:#1f77b4;\"/>\r\n   </g>\r\n   <g id=\"patch_29\">\r\n    <path clip-path=\"url(#p0f01237453)\" d=\"M 94.497625 224.64 \r\nL 96.729625 224.64 \r\nL 96.729625 224.64 \r\nL 94.497625 224.64 \r\nz\r\n\" style=\"fill:#1f77b4;\"/>\r\n   </g>\r\n   <g id=\"patch_30\">\r\n    <path clip-path=\"url(#p0f01237453)\" d=\"M 96.729625 224.64 \r\nL 98.961625 224.64 \r\nL 98.961625 224.64 \r\nL 96.729625 224.64 \r\nz\r\n\" style=\"fill:#1f77b4;\"/>\r\n   </g>\r\n   <g id=\"patch_31\">\r\n    <path clip-path=\"url(#p0f01237453)\" d=\"M 98.961625 224.64 \r\nL 101.193625 224.64 \r\nL 101.193625 224.64 \r\nL 98.961625 224.64 \r\nz\r\n\" style=\"fill:#1f77b4;\"/>\r\n   </g>\r\n   <g id=\"patch_32\">\r\n    <path clip-path=\"url(#p0f01237453)\" d=\"M 101.193625 224.64 \r\nL 103.425625 224.64 \r\nL 103.425625 224.64 \r\nL 101.193625 224.64 \r\nz\r\n\" style=\"fill:#1f77b4;\"/>\r\n   </g>\r\n   <g id=\"patch_33\">\r\n    <path clip-path=\"url(#p0f01237453)\" d=\"M 103.425625 224.64 \r\nL 105.657625 224.64 \r\nL 105.657625 224.64 \r\nL 103.425625 224.64 \r\nz\r\n\" style=\"fill:#1f77b4;\"/>\r\n   </g>\r\n   <g id=\"patch_34\">\r\n    <path clip-path=\"url(#p0f01237453)\" d=\"M 105.657625 224.64 \r\nL 107.889625 224.64 \r\nL 107.889625 224.64 \r\nL 105.657625 224.64 \r\nz\r\n\" style=\"fill:#1f77b4;\"/>\r\n   </g>\r\n   <g id=\"patch_35\">\r\n    <path clip-path=\"url(#p0f01237453)\" d=\"M 107.889625 224.64 \r\nL 110.121625 224.64 \r\nL 110.121625 224.64 \r\nL 107.889625 224.64 \r\nz\r\n\" style=\"fill:#1f77b4;\"/>\r\n   </g>\r\n   <g id=\"patch_36\">\r\n    <path clip-path=\"url(#p0f01237453)\" d=\"M 110.121625 224.64 \r\nL 112.353625 224.64 \r\nL 112.353625 224.64 \r\nL 110.121625 224.64 \r\nz\r\n\" style=\"fill:#1f77b4;\"/>\r\n   </g>\r\n   <g id=\"patch_37\">\r\n    <path clip-path=\"url(#p0f01237453)\" d=\"M 112.353625 224.64 \r\nL 114.585625 224.64 \r\nL 114.585625 224.64 \r\nL 112.353625 224.64 \r\nz\r\n\" style=\"fill:#1f77b4;\"/>\r\n   </g>\r\n   <g id=\"patch_38\">\r\n    <path clip-path=\"url(#p0f01237453)\" d=\"M 114.585625 224.64 \r\nL 116.817625 224.64 \r\nL 116.817625 224.64 \r\nL 114.585625 224.64 \r\nz\r\n\" style=\"fill:#1f77b4;\"/>\r\n   </g>\r\n   <g id=\"patch_39\">\r\n    <path clip-path=\"url(#p0f01237453)\" d=\"M 116.817625 224.64 \r\nL 119.049625 224.64 \r\nL 119.049625 224.64 \r\nL 116.817625 224.64 \r\nz\r\n\" style=\"fill:#1f77b4;\"/>\r\n   </g>\r\n   <g id=\"patch_40\">\r\n    <path clip-path=\"url(#p0f01237453)\" d=\"M 119.049625 224.64 \r\nL 121.281625 224.64 \r\nL 121.281625 224.64 \r\nL 119.049625 224.64 \r\nz\r\n\" style=\"fill:#1f77b4;\"/>\r\n   </g>\r\n   <g id=\"patch_41\">\r\n    <path clip-path=\"url(#p0f01237453)\" d=\"M 121.281625 224.64 \r\nL 123.513625 224.64 \r\nL 123.513625 117.5959 \r\nL 121.281625 117.5959 \r\nz\r\n\" style=\"fill:#1f77b4;\"/>\r\n   </g>\r\n   <g id=\"patch_42\">\r\n    <path clip-path=\"url(#p0f01237453)\" d=\"M 123.513625 224.64 \r\nL 125.745625 224.64 \r\nL 125.745625 224.64 \r\nL 123.513625 224.64 \r\nz\r\n\" style=\"fill:#1f77b4;\"/>\r\n   </g>\r\n   <g id=\"patch_43\">\r\n    <path clip-path=\"url(#p0f01237453)\" d=\"M 125.745625 224.64 \r\nL 127.977625 224.64 \r\nL 127.977625 224.64 \r\nL 125.745625 224.64 \r\nz\r\n\" style=\"fill:#1f77b4;\"/>\r\n   </g>\r\n   <g id=\"patch_44\">\r\n    <path clip-path=\"url(#p0f01237453)\" d=\"M 127.977625 224.64 \r\nL 130.209625 224.64 \r\nL 130.209625 115.204807 \r\nL 127.977625 115.204807 \r\nz\r\n\" style=\"fill:#1f77b4;\"/>\r\n   </g>\r\n   <g id=\"patch_45\">\r\n    <path clip-path=\"url(#p0f01237453)\" d=\"M 130.209625 224.64 \r\nL 132.441625 224.64 \r\nL 132.441625 224.64 \r\nL 130.209625 224.64 \r\nz\r\n\" style=\"fill:#1f77b4;\"/>\r\n   </g>\r\n   <g id=\"patch_46\">\r\n    <path clip-path=\"url(#p0f01237453)\" d=\"M 132.441625 224.64 \r\nL 134.673625 224.64 \r\nL 134.673625 141.079847 \r\nL 132.441625 141.079847 \r\nz\r\n\" style=\"fill:#1f77b4;\"/>\r\n   </g>\r\n   <g id=\"patch_47\">\r\n    <path clip-path=\"url(#p0f01237453)\" d=\"M 134.673625 224.64 \r\nL 136.905625 224.64 \r\nL 136.905625 224.64 \r\nL 134.673625 224.64 \r\nz\r\n\" style=\"fill:#1f77b4;\"/>\r\n   </g>\r\n   <g id=\"patch_48\">\r\n    <path clip-path=\"url(#p0f01237453)\" d=\"M 136.905625 224.64 \r\nL 139.137625 224.64 \r\nL 139.137625 151.626274 \r\nL 136.905625 151.626274 \r\nz\r\n\" style=\"fill:#1f77b4;\"/>\r\n   </g>\r\n   <g id=\"patch_49\">\r\n    <path clip-path=\"url(#p0f01237453)\" d=\"M 139.137625 224.64 \r\nL 141.369625 224.64 \r\nL 141.369625 154.956725 \r\nL 139.137625 154.956725 \r\nz\r\n\" style=\"fill:#1f77b4;\"/>\r\n   </g>\r\n   <g id=\"patch_50\">\r\n    <path clip-path=\"url(#p0f01237453)\" d=\"M 141.369625 224.64 \r\nL 143.601625 224.64 \r\nL 143.601625 163.026663 \r\nL 141.369625 163.026663 \r\nz\r\n\" style=\"fill:#1f77b4;\"/>\r\n   </g>\r\n   <g id=\"patch_51\">\r\n    <path clip-path=\"url(#p0f01237453)\" d=\"M 143.601625 224.64 \r\nL 145.833625 224.64 \r\nL 145.833625 119.431918 \r\nL 143.601625 119.431918 \r\nz\r\n\" style=\"fill:#1f77b4;\"/>\r\n   </g>\r\n   <g id=\"patch_52\">\r\n    <path clip-path=\"url(#p0f01237453)\" d=\"M 145.833625 224.64 \r\nL 148.065625 224.64 \r\nL 148.065625 177.373219 \r\nL 145.833625 177.373219 \r\nz\r\n\" style=\"fill:#1f77b4;\"/>\r\n   </g>\r\n   <g id=\"patch_53\">\r\n    <path clip-path=\"url(#p0f01237453)\" d=\"M 148.065625 224.64 \r\nL 150.297625 224.64 \r\nL 150.297625 100.900948 \r\nL 148.065625 100.900948 \r\nz\r\n\" style=\"fill:#1f77b4;\"/>\r\n   </g>\r\n   <g id=\"patch_54\">\r\n    <path clip-path=\"url(#p0f01237453)\" d=\"M 150.297625 224.64 \r\nL 152.529625 224.64 \r\nL 152.529625 156.066875 \r\nL 150.297625 156.066875 \r\nz\r\n\" style=\"fill:#1f77b4;\"/>\r\n   </g>\r\n   <g id=\"patch_55\">\r\n    <path clip-path=\"url(#p0f01237453)\" d=\"M 152.529625 224.64 \r\nL 154.761625 224.64 \r\nL 154.761625 94.965915 \r\nL 152.529625 94.965915 \r\nz\r\n\" style=\"fill:#1f77b4;\"/>\r\n   </g>\r\n   <g id=\"patch_56\">\r\n    <path clip-path=\"url(#p0f01237453)\" d=\"M 154.761625 224.64 \r\nL 156.993625 224.64 \r\nL 156.993625 107.262963 \r\nL 154.761625 107.262963 \r\nz\r\n\" style=\"fill:#1f77b4;\"/>\r\n   </g>\r\n   <g id=\"patch_57\">\r\n    <path clip-path=\"url(#p0f01237453)\" d=\"M 156.993625 224.64 \r\nL 159.225625 224.64 \r\nL 159.225625 99.876194 \r\nL 156.993625 99.876194 \r\nz\r\n\" style=\"fill:#1f77b4;\"/>\r\n   </g>\r\n   <g id=\"patch_58\">\r\n    <path clip-path=\"url(#p0f01237453)\" d=\"M 159.225625 224.64 \r\nL 161.457625 224.64 \r\nL 161.457625 96.246857 \r\nL 159.225625 96.246857 \r\nz\r\n\" style=\"fill:#1f77b4;\"/>\r\n   </g>\r\n   <g id=\"patch_59\">\r\n    <path clip-path=\"url(#p0f01237453)\" d=\"M 161.457625 224.64 \r\nL 163.689625 224.64 \r\nL 163.689625 86.383599 \r\nL 161.457625 86.383599 \r\nz\r\n\" style=\"fill:#1f77b4;\"/>\r\n   </g>\r\n   <g id=\"patch_60\">\r\n    <path clip-path=\"url(#p0f01237453)\" d=\"M 163.689625 224.64 \r\nL 165.921625 224.64 \r\nL 165.921625 79.082227 \r\nL 163.689625 79.082227 \r\nz\r\n\" style=\"fill:#1f77b4;\"/>\r\n   </g>\r\n   <g id=\"patch_61\">\r\n    <path clip-path=\"url(#p0f01237453)\" d=\"M 165.921625 224.64 \r\nL 168.153625 224.64 \r\nL 168.153625 74.897814 \r\nL 165.921625 74.897814 \r\nz\r\n\" style=\"fill:#1f77b4;\"/>\r\n   </g>\r\n   <g id=\"patch_62\">\r\n    <path clip-path=\"url(#p0f01237453)\" d=\"M 168.153625 224.64 \r\nL 170.385625 224.64 \r\nL 170.385625 75.111305 \r\nL 168.153625 75.111305 \r\nz\r\n\" style=\"fill:#1f77b4;\"/>\r\n   </g>\r\n   <g id=\"patch_63\">\r\n    <path clip-path=\"url(#p0f01237453)\" d=\"M 170.385625 224.64 \r\nL 172.617625 224.64 \r\nL 172.617625 37.53699 \r\nL 170.385625 37.53699 \r\nz\r\n\" style=\"fill:#1f77b4;\"/>\r\n   </g>\r\n   <g id=\"patch_64\">\r\n    <path clip-path=\"url(#p0f01237453)\" d=\"M 172.617625 224.64 \r\nL 174.849625 224.64 \r\nL 174.849625 28.997373 \r\nL 172.617625 28.997373 \r\nz\r\n\" style=\"fill:#1f77b4;\"/>\r\n   </g>\r\n   <g id=\"patch_65\">\r\n    <path clip-path=\"url(#p0f01237453)\" d=\"M 174.849625 224.64 \r\nL 177.081625 224.64 \r\nL 177.081625 17.554286 \r\nL 174.849625 17.554286 \r\nz\r\n\" style=\"fill:#1f77b4;\"/>\r\n   </g>\r\n   <g id=\"patch_66\">\r\n    <path clip-path=\"url(#p0f01237453)\" d=\"M 177.081625 224.64 \r\nL 179.313625 224.64 \r\nL 179.313625 27.588336 \r\nL 177.081625 27.588336 \r\nz\r\n\" style=\"fill:#1f77b4;\"/>\r\n   </g>\r\n   <g id=\"patch_67\">\r\n    <path clip-path=\"url(#p0f01237453)\" d=\"M 179.313625 224.64 \r\nL 181.545625 224.64 \r\nL 181.545625 45.991211 \r\nL 179.313625 45.991211 \r\nz\r\n\" style=\"fill:#1f77b4;\"/>\r\n   </g>\r\n   <g id=\"patch_68\">\r\n    <path clip-path=\"url(#p0f01237453)\" d=\"M 181.545625 224.64 \r\nL 183.777625 224.64 \r\nL 183.777625 59.82539 \r\nL 181.545625 59.82539 \r\nz\r\n\" style=\"fill:#1f77b4;\"/>\r\n   </g>\r\n   <g id=\"patch_69\">\r\n    <path clip-path=\"url(#p0f01237453)\" d=\"M 183.777625 224.64 \r\nL 186.009625 224.64 \r\nL 186.009625 75.623682 \r\nL 183.777625 75.623682 \r\nz\r\n\" style=\"fill:#1f77b4;\"/>\r\n   </g>\r\n   <g id=\"patch_70\">\r\n    <path clip-path=\"url(#p0f01237453)\" d=\"M 186.009625 224.64 \r\nL 188.241625 224.64 \r\nL 188.241625 90.482616 \r\nL 186.009625 90.482616 \r\nz\r\n\" style=\"fill:#1f77b4;\"/>\r\n   </g>\r\n   <g id=\"patch_71\">\r\n    <path clip-path=\"url(#p0f01237453)\" d=\"M 188.241625 224.64 \r\nL 190.473625 224.64 \r\nL 190.473625 104.829172 \r\nL 188.241625 104.829172 \r\nz\r\n\" style=\"fill:#1f77b4;\"/>\r\n   </g>\r\n   <g id=\"patch_72\">\r\n    <path clip-path=\"url(#p0f01237453)\" d=\"M 190.473625 224.64 \r\nL 192.705625 224.64 \r\nL 192.705625 122.805066 \r\nL 190.473625 122.805066 \r\nz\r\n\" style=\"fill:#1f77b4;\"/>\r\n   </g>\r\n   <g id=\"patch_73\">\r\n    <path clip-path=\"url(#p0f01237453)\" d=\"M 192.705625 224.64 \r\nL 194.937625 224.64 \r\nL 194.937625 135.913378 \r\nL 192.705625 135.913378 \r\nz\r\n\" style=\"fill:#1f77b4;\"/>\r\n   </g>\r\n   <g id=\"patch_74\">\r\n    <path clip-path=\"url(#p0f01237453)\" d=\"M 194.937625 224.64 \r\nL 197.169625 224.64 \r\nL 197.169625 147.228371 \r\nL 194.937625 147.228371 \r\nz\r\n\" style=\"fill:#1f77b4;\"/>\r\n   </g>\r\n   <g id=\"patch_75\">\r\n    <path clip-path=\"url(#p0f01237453)\" d=\"M 197.169625 224.64 \r\nL 199.401625 224.64 \r\nL 199.401625 154.487046 \r\nL 197.169625 154.487046 \r\nz\r\n\" style=\"fill:#1f77b4;\"/>\r\n   </g>\r\n   <g id=\"patch_76\">\r\n    <path clip-path=\"url(#p0f01237453)\" d=\"M 199.401625 224.64 \r\nL 201.633625 224.64 \r\nL 201.633625 160.336683 \r\nL 199.401625 160.336683 \r\nz\r\n\" style=\"fill:#1f77b4;\"/>\r\n   </g>\r\n   <g id=\"patch_77\">\r\n    <path clip-path=\"url(#p0f01237453)\" d=\"M 201.633625 224.64 \r\nL 203.865625 224.64 \r\nL 203.865625 168.406622 \r\nL 201.633625 168.406622 \r\nz\r\n\" style=\"fill:#1f77b4;\"/>\r\n   </g>\r\n   <g id=\"patch_78\">\r\n    <path clip-path=\"url(#p0f01237453)\" d=\"M 203.865625 224.64 \r\nL 206.097625 224.64 \r\nL 206.097625 174.555146 \r\nL 203.865625 174.555146 \r\nz\r\n\" style=\"fill:#1f77b4;\"/>\r\n   </g>\r\n   <g id=\"patch_79\">\r\n    <path clip-path=\"url(#p0f01237453)\" d=\"M 206.097625 224.64 \r\nL 208.329625 224.64 \r\nL 208.329625 176.049579 \r\nL 206.097625 176.049579 \r\nz\r\n\" style=\"fill:#1f77b4;\"/>\r\n   </g>\r\n   <g id=\"patch_80\">\r\n    <path clip-path=\"url(#p0f01237453)\" d=\"M 208.329625 224.64 \r\nL 210.561625 224.64 \r\nL 210.561625 179.80701 \r\nL 208.329625 179.80701 \r\nz\r\n\" style=\"fill:#1f77b4;\"/>\r\n   </g>\r\n   <g id=\"patch_81\">\r\n    <path clip-path=\"url(#p0f01237453)\" d=\"M 210.561625 224.64 \r\nL 212.793625 224.64 \r\nL 212.793625 185.443158 \r\nL 210.561625 185.443158 \r\nz\r\n\" style=\"fill:#1f77b4;\"/>\r\n   </g>\r\n   <g id=\"patch_82\">\r\n    <path clip-path=\"url(#p0f01237453)\" d=\"M 212.793625 224.64 \r\nL 215.025625 224.64 \r\nL 215.025625 192.488342 \r\nL 212.793625 192.488342 \r\nz\r\n\" style=\"fill:#1f77b4;\"/>\r\n   </g>\r\n   <g id=\"patch_83\">\r\n    <path clip-path=\"url(#p0f01237453)\" d=\"M 215.025625 224.64 \r\nL 217.257625 224.64 \r\nL 217.257625 195.007529 \r\nL 215.025625 195.007529 \r\nz\r\n\" style=\"fill:#1f77b4;\"/>\r\n   </g>\r\n   <g id=\"patch_84\">\r\n    <path clip-path=\"url(#p0f01237453)\" d=\"M 217.257625 224.64 \r\nL 219.489625 224.64 \r\nL 219.489625 200.942563 \r\nL 217.257625 200.942563 \r\nz\r\n\" style=\"fill:#1f77b4;\"/>\r\n   </g>\r\n   <g id=\"patch_85\">\r\n    <path clip-path=\"url(#p0f01237453)\" d=\"M 219.489625 224.64 \r\nL 221.721625 224.64 \r\nL 221.721625 206.920295 \r\nL 219.489625 206.920295 \r\nz\r\n\" style=\"fill:#1f77b4;\"/>\r\n   </g>\r\n   <g id=\"patch_86\">\r\n    <path clip-path=\"url(#p0f01237453)\" d=\"M 221.721625 224.64 \r\nL 223.953625 224.64 \r\nL 223.953625 210.848518 \r\nL 221.721625 210.848518 \r\nz\r\n\" style=\"fill:#1f77b4;\"/>\r\n   </g>\r\n   <g id=\"patch_87\">\r\n    <path clip-path=\"url(#p0f01237453)\" d=\"M 223.953625 224.64 \r\nL 226.185625 224.64 \r\nL 226.185625 213.068819 \r\nL 223.953625 213.068819 \r\nz\r\n\" style=\"fill:#1f77b4;\"/>\r\n   </g>\r\n   <g id=\"patch_88\">\r\n    <path clip-path=\"url(#p0f01237453)\" d=\"M 226.185625 224.64 \r\nL 228.417625 224.64 \r\nL 228.417625 216.100383 \r\nL 226.185625 216.100383 \r\nz\r\n\" style=\"fill:#1f77b4;\"/>\r\n   </g>\r\n   <g id=\"patch_89\">\r\n    <path clip-path=\"url(#p0f01237453)\" d=\"M 228.417625 224.64 \r\nL 230.649625 224.64 \r\nL 230.649625 219.601626 \r\nL 228.417625 219.601626 \r\nz\r\n\" style=\"fill:#1f77b4;\"/>\r\n   </g>\r\n   <g id=\"patch_90\">\r\n    <path clip-path=\"url(#p0f01237453)\" d=\"M 230.649625 224.64 \r\nL 232.881625 224.64 \r\nL 232.881625 220.711776 \r\nL 230.649625 220.711776 \r\nz\r\n\" style=\"fill:#1f77b4;\"/>\r\n   </g>\r\n   <g id=\"patch_91\">\r\n    <path clip-path=\"url(#p0f01237453)\" d=\"M 232.881625 224.64 \r\nL 235.113625 224.64 \r\nL 235.113625 221.73653 \r\nL 232.881625 221.73653 \r\nz\r\n\" style=\"fill:#1f77b4;\"/>\r\n   </g>\r\n   <g id=\"patch_92\">\r\n    <path clip-path=\"url(#p0f01237453)\" d=\"M 235.113625 224.64 \r\nL 237.345625 224.64 \r\nL 237.345625 222.803982 \r\nL 235.113625 222.803982 \r\nz\r\n\" style=\"fill:#1f77b4;\"/>\r\n   </g>\r\n   <g id=\"patch_93\">\r\n    <path clip-path=\"url(#p0f01237453)\" d=\"M 237.345625 224.64 \r\nL 239.577625 224.64 \r\nL 239.577625 223.786038 \r\nL 237.345625 223.786038 \r\nz\r\n\" style=\"fill:#1f77b4;\"/>\r\n   </g>\r\n   <g id=\"patch_94\">\r\n    <path clip-path=\"url(#p0f01237453)\" d=\"M 239.577625 224.64 \r\nL 241.809625 224.64 \r\nL 241.809625 223.74334 \r\nL 239.577625 223.74334 \r\nz\r\n\" style=\"fill:#1f77b4;\"/>\r\n   </g>\r\n   <g id=\"patch_95\">\r\n    <path clip-path=\"url(#p0f01237453)\" d=\"M 241.809625 224.64 \r\nL 244.041625 224.64 \r\nL 244.041625 224.383811 \r\nL 241.809625 224.383811 \r\nz\r\n\" style=\"fill:#1f77b4;\"/>\r\n   </g>\r\n   <g id=\"patch_96\">\r\n    <path clip-path=\"url(#p0f01237453)\" d=\"M 244.041625 224.64 \r\nL 246.273625 224.64 \r\nL 246.273625 224.213019 \r\nL 244.041625 224.213019 \r\nz\r\n\" style=\"fill:#1f77b4;\"/>\r\n   </g>\r\n   <g id=\"patch_97\">\r\n    <path clip-path=\"url(#p0f01237453)\" d=\"M 246.273625 224.64 \r\nL 248.505625 224.64 \r\nL 248.505625 224.511906 \r\nL 246.273625 224.511906 \r\nz\r\n\" style=\"fill:#1f77b4;\"/>\r\n   </g>\r\n   <g id=\"patch_98\">\r\n    <path clip-path=\"url(#p0f01237453)\" d=\"M 248.505625 224.64 \r\nL 250.737625 224.64 \r\nL 250.737625 224.554604 \r\nL 248.505625 224.554604 \r\nz\r\n\" style=\"fill:#1f77b4;\"/>\r\n   </g>\r\n   <g id=\"patch_99\">\r\n    <path clip-path=\"url(#p0f01237453)\" d=\"M 250.737625 224.64 \r\nL 252.969625 224.64 \r\nL 252.969625 224.597302 \r\nL 250.737625 224.597302 \r\nz\r\n\" style=\"fill:#1f77b4;\"/>\r\n   </g>\r\n   <g id=\"patch_100\">\r\n    <path clip-path=\"url(#p0f01237453)\" d=\"M 252.969625 224.64 \r\nL 255.201625 224.64 \r\nL 255.201625 224.42651 \r\nL 252.969625 224.42651 \r\nz\r\n\" style=\"fill:#1f77b4;\"/>\r\n   </g>\r\n   <g id=\"patch_101\">\r\n    <path clip-path=\"url(#p0f01237453)\" d=\"M 255.201625 224.64 \r\nL 257.433625 224.64 \r\nL 257.433625 224.511906 \r\nL 255.201625 224.511906 \r\nz\r\n\" style=\"fill:#1f77b4;\"/>\r\n   </g>\r\n   <g id=\"patch_102\">\r\n    <path clip-path=\"url(#p0f01237453)\" d=\"M 257.433625 224.64 \r\nL 259.665625 224.64 \r\nL 259.665625 224.64 \r\nL 257.433625 224.64 \r\nz\r\n\" style=\"fill:#1f77b4;\"/>\r\n   </g>\r\n   <g id=\"matplotlib.axis_1\">\r\n    <g id=\"xtick_1\">\r\n     <g id=\"line2d_1\">\r\n      <defs>\r\n       <path d=\"M 0 0 \r\nL 0 3.5 \r\n\" id=\"mc60ce8034b\" style=\"stroke:#000000;stroke-width:0.8;\"/>\r\n      </defs>\r\n      <g>\r\n       <use style=\"stroke:#000000;stroke-width:0.8;\" x=\"36.465625\" xlink:href=\"#mc60ce8034b\" y=\"224.64\"/>\r\n      </g>\r\n     </g>\r\n     <g id=\"text_1\">\r\n      <!-- −10 -->\r\n      <g transform=\"translate(25.913281 239.238437)scale(0.1 -0.1)\">\r\n       <defs>\r\n        <path d=\"M 678 2272 \r\nL 4684 2272 \r\nL 4684 1741 \r\nL 678 1741 \r\nL 678 2272 \r\nz\r\n\" id=\"DejaVuSans-2212\" transform=\"scale(0.015625)\"/>\r\n        <path d=\"M 794 531 \r\nL 1825 531 \r\nL 1825 4091 \r\nL 703 3866 \r\nL 703 4441 \r\nL 1819 4666 \r\nL 2450 4666 \r\nL 2450 531 \r\nL 3481 531 \r\nL 3481 0 \r\nL 794 0 \r\nL 794 531 \r\nz\r\n\" id=\"DejaVuSans-31\" transform=\"scale(0.015625)\"/>\r\n        <path d=\"M 2034 4250 \r\nQ 1547 4250 1301 3770 \r\nQ 1056 3291 1056 2328 \r\nQ 1056 1369 1301 889 \r\nQ 1547 409 2034 409 \r\nQ 2525 409 2770 889 \r\nQ 3016 1369 3016 2328 \r\nQ 3016 3291 2770 3770 \r\nQ 2525 4250 2034 4250 \r\nz\r\nM 2034 4750 \r\nQ 2819 4750 3233 4129 \r\nQ 3647 3509 3647 2328 \r\nQ 3647 1150 3233 529 \r\nQ 2819 -91 2034 -91 \r\nQ 1250 -91 836 529 \r\nQ 422 1150 422 2328 \r\nQ 422 3509 836 4129 \r\nQ 1250 4750 2034 4750 \r\nz\r\n\" id=\"DejaVuSans-30\" transform=\"scale(0.015625)\"/>\r\n       </defs>\r\n       <use xlink:href=\"#DejaVuSans-2212\"/>\r\n       <use x=\"83.789062\" xlink:href=\"#DejaVuSans-31\"/>\r\n       <use x=\"147.412109\" xlink:href=\"#DejaVuSans-30\"/>\r\n      </g>\r\n     </g>\r\n    </g>\r\n    <g id=\"xtick_2\">\r\n     <g id=\"line2d_2\">\r\n      <g>\r\n       <use style=\"stroke:#000000;stroke-width:0.8;\" x=\"92.265625\" xlink:href=\"#mc60ce8034b\" y=\"224.64\"/>\r\n      </g>\r\n     </g>\r\n     <g id=\"text_2\">\r\n      <!-- −5 -->\r\n      <g transform=\"translate(84.894531 239.238437)scale(0.1 -0.1)\">\r\n       <defs>\r\n        <path d=\"M 691 4666 \r\nL 3169 4666 \r\nL 3169 4134 \r\nL 1269 4134 \r\nL 1269 2991 \r\nQ 1406 3038 1543 3061 \r\nQ 1681 3084 1819 3084 \r\nQ 2600 3084 3056 2656 \r\nQ 3513 2228 3513 1497 \r\nQ 3513 744 3044 326 \r\nQ 2575 -91 1722 -91 \r\nQ 1428 -91 1123 -41 \r\nQ 819 9 494 109 \r\nL 494 744 \r\nQ 775 591 1075 516 \r\nQ 1375 441 1709 441 \r\nQ 2250 441 2565 725 \r\nQ 2881 1009 2881 1497 \r\nQ 2881 1984 2565 2268 \r\nQ 2250 2553 1709 2553 \r\nQ 1456 2553 1204 2497 \r\nQ 953 2441 691 2322 \r\nL 691 4666 \r\nz\r\n\" id=\"DejaVuSans-35\" transform=\"scale(0.015625)\"/>\r\n       </defs>\r\n       <use xlink:href=\"#DejaVuSans-2212\"/>\r\n       <use x=\"83.789062\" xlink:href=\"#DejaVuSans-35\"/>\r\n      </g>\r\n     </g>\r\n    </g>\r\n    <g id=\"xtick_3\">\r\n     <g id=\"line2d_3\">\r\n      <g>\r\n       <use style=\"stroke:#000000;stroke-width:0.8;\" x=\"148.065625\" xlink:href=\"#mc60ce8034b\" y=\"224.64\"/>\r\n      </g>\r\n     </g>\r\n     <g id=\"text_3\">\r\n      <!-- 0 -->\r\n      <g transform=\"translate(144.884375 239.238437)scale(0.1 -0.1)\">\r\n       <use xlink:href=\"#DejaVuSans-30\"/>\r\n      </g>\r\n     </g>\r\n    </g>\r\n    <g id=\"xtick_4\">\r\n     <g id=\"line2d_4\">\r\n      <g>\r\n       <use style=\"stroke:#000000;stroke-width:0.8;\" x=\"203.865625\" xlink:href=\"#mc60ce8034b\" y=\"224.64\"/>\r\n      </g>\r\n     </g>\r\n     <g id=\"text_4\">\r\n      <!-- 5 -->\r\n      <g transform=\"translate(200.684375 239.238437)scale(0.1 -0.1)\">\r\n       <use xlink:href=\"#DejaVuSans-35\"/>\r\n      </g>\r\n     </g>\r\n    </g>\r\n    <g id=\"xtick_5\">\r\n     <g id=\"line2d_5\">\r\n      <g>\r\n       <use style=\"stroke:#000000;stroke-width:0.8;\" x=\"259.665625\" xlink:href=\"#mc60ce8034b\" y=\"224.64\"/>\r\n      </g>\r\n     </g>\r\n     <g id=\"text_5\">\r\n      <!-- 10 -->\r\n      <g transform=\"translate(253.303125 239.238437)scale(0.1 -0.1)\">\r\n       <use xlink:href=\"#DejaVuSans-31\"/>\r\n       <use x=\"63.623047\" xlink:href=\"#DejaVuSans-30\"/>\r\n      </g>\r\n     </g>\r\n    </g>\r\n    <g id=\"xtick_6\">\r\n     <g id=\"line2d_6\">\r\n      <g>\r\n       <use style=\"stroke:#000000;stroke-width:0.8;\" x=\"315.465625\" xlink:href=\"#mc60ce8034b\" y=\"224.64\"/>\r\n      </g>\r\n     </g>\r\n     <g id=\"text_6\">\r\n      <!-- 15 -->\r\n      <g transform=\"translate(309.103125 239.238437)scale(0.1 -0.1)\">\r\n       <use xlink:href=\"#DejaVuSans-31\"/>\r\n       <use x=\"63.623047\" xlink:href=\"#DejaVuSans-35\"/>\r\n      </g>\r\n     </g>\r\n    </g>\r\n    <g id=\"xtick_7\">\r\n     <g id=\"line2d_7\">\r\n      <g>\r\n       <use style=\"stroke:#000000;stroke-width:0.8;\" x=\"371.265625\" xlink:href=\"#mc60ce8034b\" y=\"224.64\"/>\r\n      </g>\r\n     </g>\r\n     <g id=\"text_7\">\r\n      <!-- 20 -->\r\n      <g transform=\"translate(364.903125 239.238437)scale(0.1 -0.1)\">\r\n       <defs>\r\n        <path d=\"M 1228 531 \r\nL 3431 531 \r\nL 3431 0 \r\nL 469 0 \r\nL 469 531 \r\nQ 828 903 1448 1529 \r\nQ 2069 2156 2228 2338 \r\nQ 2531 2678 2651 2914 \r\nQ 2772 3150 2772 3378 \r\nQ 2772 3750 2511 3984 \r\nQ 2250 4219 1831 4219 \r\nQ 1534 4219 1204 4116 \r\nQ 875 4013 500 3803 \r\nL 500 4441 \r\nQ 881 4594 1212 4672 \r\nQ 1544 4750 1819 4750 \r\nQ 2544 4750 2975 4387 \r\nQ 3406 4025 3406 3419 \r\nQ 3406 3131 3298 2873 \r\nQ 3191 2616 2906 2266 \r\nQ 2828 2175 2409 1742 \r\nQ 1991 1309 1228 531 \r\nz\r\n\" id=\"DejaVuSans-32\" transform=\"scale(0.015625)\"/>\r\n       </defs>\r\n       <use xlink:href=\"#DejaVuSans-32\"/>\r\n       <use x=\"63.623047\" xlink:href=\"#DejaVuSans-30\"/>\r\n      </g>\r\n     </g>\r\n    </g>\r\n   </g>\r\n   <g id=\"matplotlib.axis_2\">\r\n    <g id=\"ytick_1\">\r\n     <g id=\"line2d_8\">\r\n      <defs>\r\n       <path d=\"M 0 0 \r\nL -3.5 0 \r\n\" id=\"m1e2ea8ec70\" style=\"stroke:#000000;stroke-width:0.8;\"/>\r\n      </defs>\r\n      <g>\r\n       <use style=\"stroke:#000000;stroke-width:0.8;\" x=\"36.465625\" xlink:href=\"#m1e2ea8ec70\" y=\"224.64\"/>\r\n      </g>\r\n     </g>\r\n     <g id=\"text_8\">\r\n      <!-- 0.00 -->\r\n      <g transform=\"translate(7.2 228.439219)scale(0.1 -0.1)\">\r\n       <defs>\r\n        <path d=\"M 684 794 \r\nL 1344 794 \r\nL 1344 0 \r\nL 684 0 \r\nL 684 794 \r\nz\r\n\" id=\"DejaVuSans-2e\" transform=\"scale(0.015625)\"/>\r\n       </defs>\r\n       <use xlink:href=\"#DejaVuSans-30\"/>\r\n       <use x=\"63.623047\" xlink:href=\"#DejaVuSans-2e\"/>\r\n       <use x=\"95.410156\" xlink:href=\"#DejaVuSans-30\"/>\r\n       <use x=\"159.033203\" xlink:href=\"#DejaVuSans-30\"/>\r\n      </g>\r\n     </g>\r\n    </g>\r\n    <g id=\"ytick_2\">\r\n     <g id=\"line2d_9\">\r\n      <g>\r\n       <use style=\"stroke:#000000;stroke-width:0.8;\" x=\"36.465625\" xlink:href=\"#m1e2ea8ec70\" y=\"182.0303\"/>\r\n      </g>\r\n     </g>\r\n     <g id=\"text_9\">\r\n      <!-- 0.05 -->\r\n      <g transform=\"translate(7.2 185.829518)scale(0.1 -0.1)\">\r\n       <use xlink:href=\"#DejaVuSans-30\"/>\r\n       <use x=\"63.623047\" xlink:href=\"#DejaVuSans-2e\"/>\r\n       <use x=\"95.410156\" xlink:href=\"#DejaVuSans-30\"/>\r\n       <use x=\"159.033203\" xlink:href=\"#DejaVuSans-35\"/>\r\n      </g>\r\n     </g>\r\n    </g>\r\n    <g id=\"ytick_3\">\r\n     <g id=\"line2d_10\">\r\n      <g>\r\n       <use style=\"stroke:#000000;stroke-width:0.8;\" x=\"36.465625\" xlink:href=\"#m1e2ea8ec70\" y=\"139.420599\"/>\r\n      </g>\r\n     </g>\r\n     <g id=\"text_10\">\r\n      <!-- 0.10 -->\r\n      <g transform=\"translate(7.2 143.219818)scale(0.1 -0.1)\">\r\n       <use xlink:href=\"#DejaVuSans-30\"/>\r\n       <use x=\"63.623047\" xlink:href=\"#DejaVuSans-2e\"/>\r\n       <use x=\"95.410156\" xlink:href=\"#DejaVuSans-31\"/>\r\n       <use x=\"159.033203\" xlink:href=\"#DejaVuSans-30\"/>\r\n      </g>\r\n     </g>\r\n    </g>\r\n    <g id=\"ytick_4\">\r\n     <g id=\"line2d_11\">\r\n      <g>\r\n       <use style=\"stroke:#000000;stroke-width:0.8;\" x=\"36.465625\" xlink:href=\"#m1e2ea8ec70\" y=\"96.810899\"/>\r\n      </g>\r\n     </g>\r\n     <g id=\"text_11\">\r\n      <!-- 0.15 -->\r\n      <g transform=\"translate(7.2 100.610118)scale(0.1 -0.1)\">\r\n       <use xlink:href=\"#DejaVuSans-30\"/>\r\n       <use x=\"63.623047\" xlink:href=\"#DejaVuSans-2e\"/>\r\n       <use x=\"95.410156\" xlink:href=\"#DejaVuSans-31\"/>\r\n       <use x=\"159.033203\" xlink:href=\"#DejaVuSans-35\"/>\r\n      </g>\r\n     </g>\r\n    </g>\r\n    <g id=\"ytick_5\">\r\n     <g id=\"line2d_12\">\r\n      <g>\r\n       <use style=\"stroke:#000000;stroke-width:0.8;\" x=\"36.465625\" xlink:href=\"#m1e2ea8ec70\" y=\"54.201198\"/>\r\n      </g>\r\n     </g>\r\n     <g id=\"text_12\">\r\n      <!-- 0.20 -->\r\n      <g transform=\"translate(7.2 58.000417)scale(0.1 -0.1)\">\r\n       <use xlink:href=\"#DejaVuSans-30\"/>\r\n       <use x=\"63.623047\" xlink:href=\"#DejaVuSans-2e\"/>\r\n       <use x=\"95.410156\" xlink:href=\"#DejaVuSans-32\"/>\r\n       <use x=\"159.033203\" xlink:href=\"#DejaVuSans-30\"/>\r\n      </g>\r\n     </g>\r\n    </g>\r\n    <g id=\"ytick_6\">\r\n     <g id=\"line2d_13\">\r\n      <g>\r\n       <use style=\"stroke:#000000;stroke-width:0.8;\" x=\"36.465625\" xlink:href=\"#m1e2ea8ec70\" y=\"11.591498\"/>\r\n      </g>\r\n     </g>\r\n     <g id=\"text_13\">\r\n      <!-- 0.25 -->\r\n      <g transform=\"translate(7.2 15.390717)scale(0.1 -0.1)\">\r\n       <use xlink:href=\"#DejaVuSans-30\"/>\r\n       <use x=\"63.623047\" xlink:href=\"#DejaVuSans-2e\"/>\r\n       <use x=\"95.410156\" xlink:href=\"#DejaVuSans-32\"/>\r\n       <use x=\"159.033203\" xlink:href=\"#DejaVuSans-35\"/>\r\n      </g>\r\n     </g>\r\n    </g>\r\n   </g>\r\n   <g id=\"patch_103\">\r\n    <path d=\"M 36.465625 224.64 \r\nL 36.465625 7.2 \r\n\" style=\"fill:none;stroke:#000000;stroke-linecap:square;stroke-linejoin:miter;stroke-width:0.8;\"/>\r\n   </g>\r\n   <g id=\"patch_104\">\r\n    <path d=\"M 371.265625 224.64 \r\nL 371.265625 7.2 \r\n\" style=\"fill:none;stroke:#000000;stroke-linecap:square;stroke-linejoin:miter;stroke-width:0.8;\"/>\r\n   </g>\r\n   <g id=\"patch_105\">\r\n    <path d=\"M 36.465625 224.64 \r\nL 371.265625 224.64 \r\n\" style=\"fill:none;stroke:#000000;stroke-linecap:square;stroke-linejoin:miter;stroke-width:0.8;\"/>\r\n   </g>\r\n   <g id=\"patch_106\">\r\n    <path d=\"M 36.465625 7.2 \r\nL 371.265625 7.2 \r\n\" style=\"fill:none;stroke:#000000;stroke-linecap:square;stroke-linejoin:miter;stroke-width:0.8;\"/>\r\n   </g>\r\n  </g>\r\n </g>\r\n <defs>\r\n  <clipPath id=\"p0f01237453\">\r\n   <rect height=\"217.44\" width=\"334.8\" x=\"36.465625\" y=\"7.2\"/>\r\n  </clipPath>\r\n </defs>\r\n</svg>\r\n",
      "image/png": "[encoded data removed]"
     },
     "metadata": {
      "needs_background": "light"
     }
    }
   ],
   "source": [
    "## escalado logaritmico\n",
    "plt.hist(x=df_rev.log_hours, bins=100, density=True, range=(-10,10))\n",
    "plt.xlim([-10,20])"
   ]
  },
  {
   "cell_type": "code",
   "execution_count": 20,
   "metadata": {},
   "outputs": [],
   "source": [
    "from sklearn.preprocessing import MinMaxScaler\n",
    "scaler = MinMaxScaler(feature_range=(0,10))\n",
    "dataset = scaler.fit_transform(np.asarray(df_rev.log_hours).reshape(-1, 1))"
   ]
  },
  {
   "cell_type": "code",
   "execution_count": 21,
   "metadata": {},
   "outputs": [],
   "source": [
    "df_rev['escalados'] = dataset"
   ]
  },
  {
   "cell_type": "code",
   "execution_count": 22,
   "metadata": {},
   "outputs": [
    {
     "output_type": "display_data",
     "data": {
      "text/plain": "<Figure size 432x288 with 1 Axes>",
      "image/svg+xml": "<?xml version=\"1.0\" encoding=\"utf-8\" standalone=\"no\"?>\r\n<!DOCTYPE svg PUBLIC \"-//W3C//DTD SVG 1.1//EN\"\r\n  \"http://www.w3.org/Graphics/SVG/1.1/DTD/svg11.dtd\">\r\n<svg height=\"248.518125pt\" version=\"1.1\" viewBox=\"0 0 381.65 248.518125\" width=\"381.65pt\" xmlns=\"http://www.w3.org/2000/svg\" xmlns:xlink=\"http://www.w3.org/1999/xlink\">\r\n <metadata>\r\n  <rdf:RDF xmlns:cc=\"http://creativecommons.org/ns#\" xmlns:dc=\"http://purl.org/dc/elements/1.1/\" xmlns:rdf=\"http://www.w3.org/1999/02/22-rdf-syntax-ns#\">\r\n   <cc:Work>\r\n    <dc:type rdf:resource=\"http://purl.org/dc/dcmitype/StillImage\"/>\r\n    <dc:date>2021-07-27T14:59:51.744602</dc:date>\r\n    <dc:format>image/svg+xml</dc:format>\r\n    <dc:creator>\r\n     <cc:Agent>\r\n      <dc:title>Matplotlib v3.4.2, https://matplotlib.org/</dc:title>\r\n     </cc:Agent>\r\n    </dc:creator>\r\n   </cc:Work>\r\n  </rdf:RDF>\r\n </metadata>\r\n <defs>\r\n  <style type=\"text/css\">*{stroke-linecap:butt;stroke-linejoin:round;}</style>\r\n </defs>\r\n <g id=\"figure_1\">\r\n  <g id=\"patch_1\">\r\n   <path d=\"M -0 248.518125 \r\nL 381.65 248.518125 \r\nL 381.65 0 \r\nL -0 0 \r\nz\r\n\" style=\"fill:none;\"/>\r\n  </g>\r\n  <g id=\"axes_1\">\r\n   <g id=\"patch_2\">\r\n    <path d=\"M 39.65 224.64 \r\nL 374.45 224.64 \r\nL 374.45 7.2 \r\nL 39.65 7.2 \r\nz\r\n\" style=\"fill:#ffffff;\"/>\r\n   </g>\r\n   <g id=\"patch_3\">\r\n    <path clip-path=\"url(#p2e4998efd9)\" d=\"M 54.868182 224.64 \r\nL 57.911818 224.64 \r\nL 57.911818 52.503433 \r\nL 54.868182 52.503433 \r\nz\r\n\" style=\"fill:#1f77b4;\"/>\r\n   </g>\r\n   <g id=\"patch_4\">\r\n    <path clip-path=\"url(#p2e4998efd9)\" d=\"M 57.911818 224.64 \r\nL 60.955455 224.64 \r\nL 60.955455 224.64 \r\nL 57.911818 224.64 \r\nz\r\n\" style=\"fill:#1f77b4;\"/>\r\n   </g>\r\n   <g id=\"patch_5\">\r\n    <path clip-path=\"url(#p2e4998efd9)\" d=\"M 60.955455 224.64 \r\nL 63.999091 224.64 \r\nL 63.999091 224.64 \r\nL 60.955455 224.64 \r\nz\r\n\" style=\"fill:#1f77b4;\"/>\r\n   </g>\r\n   <g id=\"patch_6\">\r\n    <path clip-path=\"url(#p2e4998efd9)\" d=\"M 63.999091 224.64 \r\nL 67.042727 224.64 \r\nL 67.042727 224.64 \r\nL 63.999091 224.64 \r\nz\r\n\" style=\"fill:#1f77b4;\"/>\r\n   </g>\r\n   <g id=\"patch_7\">\r\n    <path clip-path=\"url(#p2e4998efd9)\" d=\"M 67.042727 224.64 \r\nL 70.086364 224.64 \r\nL 70.086364 224.64 \r\nL 67.042727 224.64 \r\nz\r\n\" style=\"fill:#1f77b4;\"/>\r\n   </g>\r\n   <g id=\"patch_8\">\r\n    <path clip-path=\"url(#p2e4998efd9)\" d=\"M 70.086364 224.64 \r\nL 73.13 224.64 \r\nL 73.13 48.65834 \r\nL 70.086364 48.65834 \r\nz\r\n\" style=\"fill:#1f77b4;\"/>\r\n   </g>\r\n   <g id=\"patch_9\">\r\n    <path clip-path=\"url(#p2e4998efd9)\" d=\"M 73.13 224.64 \r\nL 76.173636 224.64 \r\nL 76.173636 224.64 \r\nL 73.13 224.64 \r\nz\r\n\" style=\"fill:#1f77b4;\"/>\r\n   </g>\r\n   <g id=\"patch_10\">\r\n    <path clip-path=\"url(#p2e4998efd9)\" d=\"M 76.173636 224.64 \r\nL 79.217273 224.64 \r\nL 79.217273 224.64 \r\nL 76.173636 224.64 \r\nz\r\n\" style=\"fill:#1f77b4;\"/>\r\n   </g>\r\n   <g id=\"patch_11\">\r\n    <path clip-path=\"url(#p2e4998efd9)\" d=\"M 79.217273 224.64 \r\nL 82.260909 224.64 \r\nL 82.260909 224.64 \r\nL 79.217273 224.64 \r\nz\r\n\" style=\"fill:#1f77b4;\"/>\r\n   </g>\r\n   <g id=\"patch_12\">\r\n    <path clip-path=\"url(#p2e4998efd9)\" d=\"M 82.260909 224.64 \r\nL 85.304545 224.64 \r\nL 85.304545 90.267738 \r\nL 82.260909 90.267738 \r\nz\r\n\" style=\"fill:#1f77b4;\"/>\r\n   </g>\r\n   <g id=\"patch_13\">\r\n    <path clip-path=\"url(#p2e4998efd9)\" d=\"M 85.304545 224.64 \r\nL 88.348182 224.64 \r\nL 88.348182 224.64 \r\nL 85.304545 224.64 \r\nz\r\n\" style=\"fill:#1f77b4;\"/>\r\n   </g>\r\n   <g id=\"patch_14\">\r\n    <path clip-path=\"url(#p2e4998efd9)\" d=\"M 88.348182 224.64 \r\nL 91.391818 224.64 \r\nL 91.391818 107.227344 \r\nL 88.348182 107.227344 \r\nz\r\n\" style=\"fill:#1f77b4;\"/>\r\n   </g>\r\n   <g id=\"patch_15\">\r\n    <path clip-path=\"url(#p2e4998efd9)\" d=\"M 91.391818 224.64 \r\nL 94.435455 224.64 \r\nL 94.435455 224.64 \r\nL 91.391818 224.64 \r\nz\r\n\" style=\"fill:#1f77b4;\"/>\r\n   </g>\r\n   <g id=\"patch_16\">\r\n    <path clip-path=\"url(#p2e4998efd9)\" d=\"M 94.435455 224.64 \r\nL 97.479091 224.64 \r\nL 97.479091 112.583009 \r\nL 94.435455 112.583009 \r\nz\r\n\" style=\"fill:#1f77b4;\"/>\r\n   </g>\r\n   <g id=\"patch_17\">\r\n    <path clip-path=\"url(#p2e4998efd9)\" d=\"M 97.479091 224.64 \r\nL 100.522727 224.64 \r\nL 100.522727 125.560197 \r\nL 97.479091 125.560197 \r\nz\r\n\" style=\"fill:#1f77b4;\"/>\r\n   </g>\r\n   <g id=\"patch_18\">\r\n    <path clip-path=\"url(#p2e4998efd9)\" d=\"M 100.522727 224.64 \r\nL 103.566364 224.64 \r\nL 103.566364 224.64 \r\nL 100.522727 224.64 \r\nz\r\n\" style=\"fill:#1f77b4;\"/>\r\n   </g>\r\n   <g id=\"patch_19\">\r\n    <path clip-path=\"url(#p2e4998efd9)\" d=\"M 103.566364 224.64 \r\nL 106.61 224.64 \r\nL 106.61 136.408852 \r\nL 103.566364 136.408852 \r\nz\r\n\" style=\"fill:#1f77b4;\"/>\r\n   </g>\r\n   <g id=\"patch_20\">\r\n    <path clip-path=\"url(#p2e4998efd9)\" d=\"M 106.61 224.64 \r\nL 109.653636 224.64 \r\nL 109.653636 143.687063 \r\nL 106.61 143.687063 \r\nz\r\n\" style=\"fill:#1f77b4;\"/>\r\n   </g>\r\n   <g id=\"patch_21\">\r\n    <path clip-path=\"url(#p2e4998efd9)\" d=\"M 109.653636 224.64 \r\nL 112.697273 224.64 \r\nL 112.697273 148.630754 \r\nL 109.653636 148.630754 \r\nz\r\n\" style=\"fill:#1f77b4;\"/>\r\n   </g>\r\n   <g id=\"patch_22\">\r\n    <path clip-path=\"url(#p2e4998efd9)\" d=\"M 112.697273 224.64 \r\nL 115.740909 224.64 \r\nL 115.740909 88.070542 \r\nL 112.697273 88.070542 \r\nz\r\n\" style=\"fill:#1f77b4;\"/>\r\n   </g>\r\n   <g id=\"patch_23\">\r\n    <path clip-path=\"url(#p2e4998efd9)\" d=\"M 115.740909 224.64 \r\nL 118.784545 224.64 \r\nL 118.784545 162.225904 \r\nL 115.740909 162.225904 \r\nz\r\n\" style=\"fill:#1f77b4;\"/>\r\n   </g>\r\n   <g id=\"patch_24\">\r\n    <path clip-path=\"url(#p2e4998efd9)\" d=\"M 118.784545 224.64 \r\nL 121.828182 224.64 \r\nL 121.828182 114.36823 \r\nL 118.784545 114.36823 \r\nz\r\n\" style=\"fill:#1f77b4;\"/>\r\n   </g>\r\n   <g id=\"patch_25\">\r\n    <path clip-path=\"url(#p2e4998efd9)\" d=\"M 121.828182 224.64 \r\nL 124.871818 224.64 \r\nL 124.871818 169.435453 \r\nL 121.828182 169.435453 \r\nz\r\n\" style=\"fill:#1f77b4;\"/>\r\n   </g>\r\n   <g id=\"patch_26\">\r\n    <path clip-path=\"url(#p2e4998efd9)\" d=\"M 124.871818 224.64 \r\nL 127.915455 224.64 \r\nL 127.915455 122.47039 \r\nL 124.871818 122.47039 \r\nz\r\n\" style=\"fill:#1f77b4;\"/>\r\n   </g>\r\n   <g id=\"patch_27\">\r\n    <path clip-path=\"url(#p2e4998efd9)\" d=\"M 127.915455 224.64 \r\nL 130.959091 224.64 \r\nL 130.959091 75.642653 \r\nL 127.915455 75.642653 \r\nz\r\n\" style=\"fill:#1f77b4;\"/>\r\n   </g>\r\n   <g id=\"patch_28\">\r\n    <path clip-path=\"url(#p2e4998efd9)\" d=\"M 130.959091 224.64 \r\nL 134.002727 224.64 \r\nL 134.002727 133.731019 \r\nL 130.959091 133.731019 \r\nz\r\n\" style=\"fill:#1f77b4;\"/>\r\n   </g>\r\n   <g id=\"patch_29\">\r\n    <path clip-path=\"url(#p2e4998efd9)\" d=\"M 134.002727 224.64 \r\nL 137.046364 224.64 \r\nL 137.046364 102.009003 \r\nL 134.002727 102.009003 \r\nz\r\n\" style=\"fill:#1f77b4;\"/>\r\n   </g>\r\n   <g id=\"patch_30\">\r\n    <path clip-path=\"url(#p2e4998efd9)\" d=\"M 137.046364 224.64 \r\nL 140.09 224.64 \r\nL 140.09 110.797787 \r\nL 137.046364 110.797787 \r\nz\r\n\" style=\"fill:#1f77b4;\"/>\r\n   </g>\r\n   <g id=\"patch_31\">\r\n    <path clip-path=\"url(#p2e4998efd9)\" d=\"M 140.09 224.64 \r\nL 143.133636 224.64 \r\nL 143.133636 86.765957 \r\nL 140.09 86.765957 \r\nz\r\n\" style=\"fill:#1f77b4;\"/>\r\n   </g>\r\n   <g id=\"patch_32\">\r\n    <path clip-path=\"url(#p2e4998efd9)\" d=\"M 143.133636 224.64 \r\nL 146.177273 224.64 \r\nL 146.177273 94.593467 \r\nL 143.133636 94.593467 \r\nz\r\n\" style=\"fill:#1f77b4;\"/>\r\n   </g>\r\n   <g id=\"patch_33\">\r\n    <path clip-path=\"url(#p2e4998efd9)\" d=\"M 146.177273 224.64 \r\nL 149.220909 224.64 \r\nL 149.220909 70.836286 \r\nL 146.177273 70.836286 \r\nz\r\n\" style=\"fill:#1f77b4;\"/>\r\n   </g>\r\n   <g id=\"patch_34\">\r\n    <path clip-path=\"url(#p2e4998efd9)\" d=\"M 149.220909 224.64 \r\nL 152.264545 224.64 \r\nL 152.264545 91.297673 \r\nL 149.220909 91.297673 \r\nz\r\n\" style=\"fill:#1f77b4;\"/>\r\n   </g>\r\n   <g id=\"patch_35\">\r\n    <path clip-path=\"url(#p2e4998efd9)\" d=\"M 152.264545 224.64 \r\nL 155.308182 224.64 \r\nL 155.308182 82.783539 \r\nL 152.264545 82.783539 \r\nz\r\n\" style=\"fill:#1f77b4;\"/>\r\n   </g>\r\n   <g id=\"patch_36\">\r\n    <path clip-path=\"url(#p2e4998efd9)\" d=\"M 155.308182 224.64 \r\nL 158.351818 224.64 \r\nL 158.351818 73.308132 \r\nL 155.308182 73.308132 \r\nz\r\n\" style=\"fill:#1f77b4;\"/>\r\n   </g>\r\n   <g id=\"patch_37\">\r\n    <path clip-path=\"url(#p2e4998efd9)\" d=\"M 158.351818 224.64 \r\nL 161.395455 224.64 \r\nL 161.395455 91.297673 \r\nL 158.351818 91.297673 \r\nz\r\n\" style=\"fill:#1f77b4;\"/>\r\n   </g>\r\n   <g id=\"patch_38\">\r\n    <path clip-path=\"url(#p2e4998efd9)\" d=\"M 161.395455 224.64 \r\nL 164.439091 224.64 \r\nL 164.439091 60.262281 \r\nL 161.395455 60.262281 \r\nz\r\n\" style=\"fill:#1f77b4;\"/>\r\n   </g>\r\n   <g id=\"patch_39\">\r\n    <path clip-path=\"url(#p2e4998efd9)\" d=\"M 164.439091 224.64 \r\nL 167.482727 224.64 \r\nL 167.482727 61.154892 \r\nL 164.439091 61.154892 \r\nz\r\n\" style=\"fill:#1f77b4;\"/>\r\n   </g>\r\n   <g id=\"patch_40\">\r\n    <path clip-path=\"url(#p2e4998efd9)\" d=\"M 167.482727 224.64 \r\nL 170.526364 224.64 \r\nL 170.526364 41.311466 \r\nL 167.482727 41.311466 \r\nz\r\n\" style=\"fill:#1f77b4;\"/>\r\n   </g>\r\n   <g id=\"patch_41\">\r\n    <path clip-path=\"url(#p2e4998efd9)\" d=\"M 170.526364 224.64 \r\nL 173.57 224.64 \r\nL 173.57 37.123062 \r\nL 170.526364 37.123062 \r\nz\r\n\" style=\"fill:#1f77b4;\"/>\r\n   </g>\r\n   <g id=\"patch_42\">\r\n    <path clip-path=\"url(#p2e4998efd9)\" d=\"M 173.57 224.64 \r\nL 176.613636 224.64 \r\nL 176.613636 21.948678 \r\nL 173.57 21.948678 \r\nz\r\n\" style=\"fill:#1f77b4;\"/>\r\n   </g>\r\n   <g id=\"patch_43\">\r\n    <path clip-path=\"url(#p2e4998efd9)\" d=\"M 176.613636 224.64 \r\nL 179.657273 224.64 \r\nL 179.657273 17.554286 \r\nL 176.613636 17.554286 \r\nz\r\n\" style=\"fill:#1f77b4;\"/>\r\n   </g>\r\n   <g id=\"patch_44\">\r\n    <path clip-path=\"url(#p2e4998efd9)\" d=\"M 179.657273 224.64 \r\nL 182.700909 224.64 \r\nL 182.700909 38.702296 \r\nL 179.657273 38.702296 \r\nz\r\n\" style=\"fill:#1f77b4;\"/>\r\n   </g>\r\n   <g id=\"patch_45\">\r\n    <path clip-path=\"url(#p2e4998efd9)\" d=\"M 182.700909 224.64 \r\nL 185.744545 224.64 \r\nL 185.744545 34.788541 \r\nL 182.700909 34.788541 \r\nz\r\n\" style=\"fill:#1f77b4;\"/>\r\n   </g>\r\n   <g id=\"patch_46\">\r\n    <path clip-path=\"url(#p2e4998efd9)\" d=\"M 185.744545 224.64 \r\nL 188.788182 224.64 \r\nL 188.788182 56.485851 \r\nL 185.744545 56.485851 \r\nz\r\n\" style=\"fill:#1f77b4;\"/>\r\n   </g>\r\n   <g id=\"patch_47\">\r\n    <path clip-path=\"url(#p2e4998efd9)\" d=\"M 188.788182 224.64 \r\nL 191.831818 224.64 \r\nL 191.831818 64.176036 \r\nL 188.788182 64.176036 \r\nz\r\n\" style=\"fill:#1f77b4;\"/>\r\n   </g>\r\n   <g id=\"patch_48\">\r\n    <path clip-path=\"url(#p2e4998efd9)\" d=\"M 191.831818 224.64 \r\nL 194.875455 224.64 \r\nL 194.875455 66.991194 \r\nL 191.831818 66.991194 \r\nz\r\n\" style=\"fill:#1f77b4;\"/>\r\n   </g>\r\n   <g id=\"patch_49\">\r\n    <path clip-path=\"url(#p2e4998efd9)\" d=\"M 194.875455 224.64 \r\nL 197.919091 224.64 \r\nL 197.919091 84.431436 \r\nL 194.875455 84.431436 \r\nz\r\n\" style=\"fill:#1f77b4;\"/>\r\n   </g>\r\n   <g id=\"patch_50\">\r\n    <path clip-path=\"url(#p2e4998efd9)\" d=\"M 197.919091 224.64 \r\nL 200.962727 224.64 \r\nL 200.962727 81.204305 \r\nL 197.919091 81.204305 \r\nz\r\n\" style=\"fill:#1f77b4;\"/>\r\n   </g>\r\n   <g id=\"patch_51\">\r\n    <path clip-path=\"url(#p2e4998efd9)\" d=\"M 200.962727 224.64 \r\nL 204.006364 224.64 \r\nL 204.006364 99.811808 \r\nL 200.962727 99.811808 \r\nz\r\n\" style=\"fill:#1f77b4;\"/>\r\n   </g>\r\n   <g id=\"patch_52\">\r\n    <path clip-path=\"url(#p2e4998efd9)\" d=\"M 204.006364 224.64 \r\nL 207.05 224.64 \r\nL 207.05 104.412186 \r\nL 204.006364 104.412186 \r\nz\r\n\" style=\"fill:#1f77b4;\"/>\r\n   </g>\r\n   <g id=\"patch_53\">\r\n    <path clip-path=\"url(#p2e4998efd9)\" d=\"M 207.05 224.64 \r\nL 210.093636 224.64 \r\nL 210.093636 115.604153 \r\nL 207.05 115.604153 \r\nz\r\n\" style=\"fill:#1f77b4;\"/>\r\n   </g>\r\n   <g id=\"patch_54\">\r\n    <path clip-path=\"url(#p2e4998efd9)\" d=\"M 210.093636 224.64 \r\nL 213.137273 224.64 \r\nL 213.137273 123.294339 \r\nL 210.093636 123.294339 \r\nz\r\n\" style=\"fill:#1f77b4;\"/>\r\n   </g>\r\n   <g id=\"patch_55\">\r\n    <path clip-path=\"url(#p2e4998efd9)\" d=\"M 213.137273 224.64 \r\nL 216.180909 224.64 \r\nL 216.180909 133.662357 \r\nL 213.137273 133.662357 \r\nz\r\n\" style=\"fill:#1f77b4;\"/>\r\n   </g>\r\n   <g id=\"patch_56\">\r\n    <path clip-path=\"url(#p2e4998efd9)\" d=\"M 216.180909 224.64 \r\nL 219.224545 224.64 \r\nL 219.224545 138.67471 \r\nL 216.180909 138.67471 \r\nz\r\n\" style=\"fill:#1f77b4;\"/>\r\n   </g>\r\n   <g id=\"patch_57\">\r\n    <path clip-path=\"url(#p2e4998efd9)\" d=\"M 219.224545 224.64 \r\nL 222.268182 224.64 \r\nL 222.268182 147.875468 \r\nL 219.224545 147.875468 \r\nz\r\n\" style=\"fill:#1f77b4;\"/>\r\n   </g>\r\n   <g id=\"patch_58\">\r\n    <path clip-path=\"url(#p2e4998efd9)\" d=\"M 222.268182 224.64 \r\nL 225.311818 224.64 \r\nL 225.311818 152.063873 \r\nL 222.268182 152.063873 \r\nz\r\n\" style=\"fill:#1f77b4;\"/>\r\n   </g>\r\n   <g id=\"patch_59\">\r\n    <path clip-path=\"url(#p2e4998efd9)\" d=\"M 225.311818 224.64 \r\nL 228.355455 224.64 \r\nL 228.355455 157.968837 \r\nL 225.311818 157.968837 \r\nz\r\n\" style=\"fill:#1f77b4;\"/>\r\n   </g>\r\n   <g id=\"patch_60\">\r\n    <path clip-path=\"url(#p2e4998efd9)\" d=\"M 228.355455 224.64 \r\nL 231.399091 224.64 \r\nL 231.399091 158.312149 \r\nL 228.355455 158.312149 \r\nz\r\n\" style=\"fill:#1f77b4;\"/>\r\n   </g>\r\n   <g id=\"patch_61\">\r\n    <path clip-path=\"url(#p2e4998efd9)\" d=\"M 231.399091 224.64 \r\nL 234.442727 224.64 \r\nL 234.442727 163.805138 \r\nL 231.399091 163.805138 \r\nz\r\n\" style=\"fill:#1f77b4;\"/>\r\n   </g>\r\n   <g id=\"patch_62\">\r\n    <path clip-path=\"url(#p2e4998efd9)\" d=\"M 234.442727 224.64 \r\nL 237.486364 224.64 \r\nL 237.486364 170.053414 \r\nL 234.442727 170.053414 \r\nz\r\n\" style=\"fill:#1f77b4;\"/>\r\n   </g>\r\n   <g id=\"patch_63\">\r\n    <path clip-path=\"url(#p2e4998efd9)\" d=\"M 237.486364 224.64 \r\nL 240.53 224.64 \r\nL 240.53 170.396726 \r\nL 237.486364 170.396726 \r\nz\r\n\" style=\"fill:#1f77b4;\"/>\r\n   </g>\r\n   <g id=\"patch_64\">\r\n    <path clip-path=\"url(#p2e4998efd9)\" d=\"M 240.53 224.64 \r\nL 243.573636 224.64 \r\nL 243.573636 174.791118 \r\nL 240.53 174.791118 \r\nz\r\n\" style=\"fill:#1f77b4;\"/>\r\n   </g>\r\n   <g id=\"patch_65\">\r\n    <path clip-path=\"url(#p2e4998efd9)\" d=\"M 243.573636 224.64 \r\nL 246.617273 224.64 \r\nL 246.617273 177.125638 \r\nL 243.573636 177.125638 \r\nz\r\n\" style=\"fill:#1f77b4;\"/>\r\n   </g>\r\n   <g id=\"patch_66\">\r\n    <path clip-path=\"url(#p2e4998efd9)\" d=\"M 246.617273 224.64 \r\nL 249.660909 224.64 \r\nL 249.660909 179.048185 \r\nL 246.617273 179.048185 \r\nz\r\n\" style=\"fill:#1f77b4;\"/>\r\n   </g>\r\n   <g id=\"patch_67\">\r\n    <path clip-path=\"url(#p2e4998efd9)\" d=\"M 249.660909 224.64 \r\nL 252.704545 224.64 \r\nL 252.704545 177.400288 \r\nL 249.660909 177.400288 \r\nz\r\n\" style=\"fill:#1f77b4;\"/>\r\n   </g>\r\n   <g id=\"patch_68\">\r\n    <path clip-path=\"url(#p2e4998efd9)\" d=\"M 252.704545 224.64 \r\nL 255.748182 224.64 \r\nL 255.748182 186.944358 \r\nL 252.704545 186.944358 \r\nz\r\n\" style=\"fill:#1f77b4;\"/>\r\n   </g>\r\n   <g id=\"patch_69\">\r\n    <path clip-path=\"url(#p2e4998efd9)\" d=\"M 255.748182 224.64 \r\nL 258.791818 224.64 \r\nL 258.791818 185.57111 \r\nL 255.748182 185.57111 \r\nz\r\n\" style=\"fill:#1f77b4;\"/>\r\n   </g>\r\n   <g id=\"patch_70\">\r\n    <path clip-path=\"url(#p2e4998efd9)\" d=\"M 258.791818 224.64 \r\nL 261.835455 224.64 \r\nL 261.835455 188.317605 \r\nL 258.791818 188.317605 \r\nz\r\n\" style=\"fill:#1f77b4;\"/>\r\n   </g>\r\n   <g id=\"patch_71\">\r\n    <path clip-path=\"url(#p2e4998efd9)\" d=\"M 261.835455 224.64 \r\nL 264.879091 224.64 \r\nL 264.879091 195.870466 \r\nL 261.835455 195.870466 \r\nz\r\n\" style=\"fill:#1f77b4;\"/>\r\n   </g>\r\n   <g id=\"patch_72\">\r\n    <path clip-path=\"url(#p2e4998efd9)\" d=\"M 264.879091 224.64 \r\nL 267.922727 224.64 \r\nL 267.922727 194.222569 \r\nL 264.879091 194.222569 \r\nz\r\n\" style=\"fill:#1f77b4;\"/>\r\n   </g>\r\n   <g id=\"patch_73\">\r\n    <path clip-path=\"url(#p2e4998efd9)\" d=\"M 267.922727 224.64 \r\nL 270.966364 224.64 \r\nL 270.966364 197.999 \r\nL 267.922727 197.999 \r\nz\r\n\" style=\"fill:#1f77b4;\"/>\r\n   </g>\r\n   <g id=\"patch_74\">\r\n    <path clip-path=\"url(#p2e4998efd9)\" d=\"M 270.966364 224.64 \r\nL 274.01 224.64 \r\nL 274.01 200.60817 \r\nL 270.966364 200.60817 \r\nz\r\n\" style=\"fill:#1f77b4;\"/>\r\n   </g>\r\n   <g id=\"patch_75\">\r\n    <path clip-path=\"url(#p2e4998efd9)\" d=\"M 274.01 224.64 \r\nL 277.053636 224.64 \r\nL 277.053636 205.895172 \r\nL 274.01 205.895172 \r\nz\r\n\" style=\"fill:#1f77b4;\"/>\r\n   </g>\r\n   <g id=\"patch_76\">\r\n    <path clip-path=\"url(#p2e4998efd9)\" d=\"M 277.053636 224.64 \r\nL 280.097273 224.64 \r\nL 280.097273 207.26842 \r\nL 277.053636 207.26842 \r\nz\r\n\" style=\"fill:#1f77b4;\"/>\r\n   </g>\r\n   <g id=\"patch_77\">\r\n    <path clip-path=\"url(#p2e4998efd9)\" d=\"M 280.097273 224.64 \r\nL 283.140909 224.64 \r\nL 283.140909 210.358227 \r\nL 280.097273 210.358227 \r\nz\r\n\" style=\"fill:#1f77b4;\"/>\r\n   </g>\r\n   <g id=\"patch_78\">\r\n    <path clip-path=\"url(#p2e4998efd9)\" d=\"M 283.140909 224.64 \r\nL 286.184545 224.64 \r\nL 286.184545 212.555423 \r\nL 283.140909 212.555423 \r\nz\r\n\" style=\"fill:#1f77b4;\"/>\r\n   </g>\r\n   <g id=\"patch_79\">\r\n    <path clip-path=\"url(#p2e4998efd9)\" d=\"M 286.184545 224.64 \r\nL 289.228182 224.64 \r\nL 289.228182 213.448033 \r\nL 286.184545 213.448033 \r\nz\r\n\" style=\"fill:#1f77b4;\"/>\r\n   </g>\r\n   <g id=\"patch_80\">\r\n    <path clip-path=\"url(#p2e4998efd9)\" d=\"M 289.228182 224.64 \r\nL 292.271818 224.64 \r\nL 292.271818 214.340644 \r\nL 289.228182 214.340644 \r\nz\r\n\" style=\"fill:#1f77b4;\"/>\r\n   </g>\r\n   <g id=\"patch_81\">\r\n    <path clip-path=\"url(#p2e4998efd9)\" d=\"M 292.271818 224.64 \r\nL 295.315455 224.64 \r\nL 295.315455 217.087139 \r\nL 292.271818 217.087139 \r\nz\r\n\" style=\"fill:#1f77b4;\"/>\r\n   </g>\r\n   <g id=\"patch_82\">\r\n    <path clip-path=\"url(#p2e4998efd9)\" d=\"M 295.315455 224.64 \r\nL 298.359091 224.64 \r\nL 298.359091 219.902296 \r\nL 295.315455 219.902296 \r\nz\r\n\" style=\"fill:#1f77b4;\"/>\r\n   </g>\r\n   <g id=\"patch_83\">\r\n    <path clip-path=\"url(#p2e4998efd9)\" d=\"M 298.359091 224.64 \r\nL 301.402727 224.64 \r\nL 301.402727 219.490322 \r\nL 298.359091 219.490322 \r\nz\r\n\" style=\"fill:#1f77b4;\"/>\r\n   </g>\r\n   <g id=\"patch_84\">\r\n    <path clip-path=\"url(#p2e4998efd9)\" d=\"M 301.402727 224.64 \r\nL 304.446364 224.64 \r\nL 304.446364 220.86357 \r\nL 301.402727 220.86357 \r\nz\r\n\" style=\"fill:#1f77b4;\"/>\r\n   </g>\r\n   <g id=\"patch_85\">\r\n    <path clip-path=\"url(#p2e4998efd9)\" d=\"M 304.446364 224.64 \r\nL 307.49 224.64 \r\nL 307.49 221.069557 \r\nL 304.446364 221.069557 \r\nz\r\n\" style=\"fill:#1f77b4;\"/>\r\n   </g>\r\n   <g id=\"patch_86\">\r\n    <path clip-path=\"url(#p2e4998efd9)\" d=\"M 307.49 224.64 \r\nL 310.533636 224.64 \r\nL 310.533636 222.168155 \r\nL 307.49 222.168155 \r\nz\r\n\" style=\"fill:#1f77b4;\"/>\r\n   </g>\r\n   <g id=\"patch_87\">\r\n    <path clip-path=\"url(#p2e4998efd9)\" d=\"M 310.533636 224.64 \r\nL 313.577273 224.64 \r\nL 313.577273 222.717454 \r\nL 310.533636 222.717454 \r\nz\r\n\" style=\"fill:#1f77b4;\"/>\r\n   </g>\r\n   <g id=\"patch_88\">\r\n    <path clip-path=\"url(#p2e4998efd9)\" d=\"M 313.577273 224.64 \r\nL 316.620909 224.64 \r\nL 316.620909 223.060765 \r\nL 313.577273 223.060765 \r\nz\r\n\" style=\"fill:#1f77b4;\"/>\r\n   </g>\r\n   <g id=\"patch_89\">\r\n    <path clip-path=\"url(#p2e4998efd9)\" d=\"M 316.620909 224.64 \r\nL 319.664545 224.64 \r\nL 319.664545 223.953376 \r\nL 316.620909 223.953376 \r\nz\r\n\" style=\"fill:#1f77b4;\"/>\r\n   </g>\r\n   <g id=\"patch_90\">\r\n    <path clip-path=\"url(#p2e4998efd9)\" d=\"M 319.664545 224.64 \r\nL 322.708182 224.64 \r\nL 322.708182 223.610064 \r\nL 319.664545 223.610064 \r\nz\r\n\" style=\"fill:#1f77b4;\"/>\r\n   </g>\r\n   <g id=\"patch_91\">\r\n    <path clip-path=\"url(#p2e4998efd9)\" d=\"M 322.708182 224.64 \r\nL 325.751818 224.64 \r\nL 325.751818 223.747389 \r\nL 322.708182 223.747389 \r\nz\r\n\" style=\"fill:#1f77b4;\"/>\r\n   </g>\r\n   <g id=\"patch_92\">\r\n    <path clip-path=\"url(#p2e4998efd9)\" d=\"M 325.751818 224.64 \r\nL 328.795455 224.64 \r\nL 328.795455 224.502675 \r\nL 325.751818 224.502675 \r\nz\r\n\" style=\"fill:#1f77b4;\"/>\r\n   </g>\r\n   <g id=\"patch_93\">\r\n    <path clip-path=\"url(#p2e4998efd9)\" d=\"M 328.795455 224.64 \r\nL 331.839091 224.64 \r\nL 331.839091 224.228026 \r\nL 328.795455 224.228026 \r\nz\r\n\" style=\"fill:#1f77b4;\"/>\r\n   </g>\r\n   <g id=\"patch_94\">\r\n    <path clip-path=\"url(#p2e4998efd9)\" d=\"M 331.839091 224.64 \r\nL 334.882727 224.64 \r\nL 334.882727 224.090701 \r\nL 331.839091 224.090701 \r\nz\r\n\" style=\"fill:#1f77b4;\"/>\r\n   </g>\r\n   <g id=\"patch_95\">\r\n    <path clip-path=\"url(#p2e4998efd9)\" d=\"M 334.882727 224.64 \r\nL 337.926364 224.64 \r\nL 337.926364 224.502675 \r\nL 334.882727 224.502675 \r\nz\r\n\" style=\"fill:#1f77b4;\"/>\r\n   </g>\r\n   <g id=\"patch_96\">\r\n    <path clip-path=\"url(#p2e4998efd9)\" d=\"M 337.926364 224.64 \r\nL 340.97 224.64 \r\nL 340.97 224.502675 \r\nL 337.926364 224.502675 \r\nz\r\n\" style=\"fill:#1f77b4;\"/>\r\n   </g>\r\n   <g id=\"patch_97\">\r\n    <path clip-path=\"url(#p2e4998efd9)\" d=\"M 340.97 224.64 \r\nL 344.013636 224.64 \r\nL 344.013636 224.502675 \r\nL 340.97 224.502675 \r\nz\r\n\" style=\"fill:#1f77b4;\"/>\r\n   </g>\r\n   <g id=\"patch_98\">\r\n    <path clip-path=\"url(#p2e4998efd9)\" d=\"M 344.013636 224.64 \r\nL 347.057273 224.64 \r\nL 347.057273 224.64 \r\nL 344.013636 224.64 \r\nz\r\n\" style=\"fill:#1f77b4;\"/>\r\n   </g>\r\n   <g id=\"patch_99\">\r\n    <path clip-path=\"url(#p2e4998efd9)\" d=\"M 347.057273 224.64 \r\nL 350.100909 224.64 \r\nL 350.100909 224.571338 \r\nL 347.057273 224.571338 \r\nz\r\n\" style=\"fill:#1f77b4;\"/>\r\n   </g>\r\n   <g id=\"patch_100\">\r\n    <path clip-path=\"url(#p2e4998efd9)\" d=\"M 350.100909 224.64 \r\nL 353.144545 224.64 \r\nL 353.144545 224.365351 \r\nL 350.100909 224.365351 \r\nz\r\n\" style=\"fill:#1f77b4;\"/>\r\n   </g>\r\n   <g id=\"patch_101\">\r\n    <path clip-path=\"url(#p2e4998efd9)\" d=\"M 353.144545 224.64 \r\nL 356.188182 224.64 \r\nL 356.188182 224.571338 \r\nL 353.144545 224.571338 \r\nz\r\n\" style=\"fill:#1f77b4;\"/>\r\n   </g>\r\n   <g id=\"patch_102\">\r\n    <path clip-path=\"url(#p2e4998efd9)\" d=\"M 356.188182 224.64 \r\nL 359.231818 224.64 \r\nL 359.231818 224.434013 \r\nL 356.188182 224.434013 \r\nz\r\n\" style=\"fill:#1f77b4;\"/>\r\n   </g>\r\n   <g id=\"matplotlib.axis_1\">\r\n    <g id=\"xtick_1\">\r\n     <g id=\"line2d_1\">\r\n      <defs>\r\n       <path d=\"M 0 0 \r\nL 0 3.5 \r\n\" id=\"m6d5d033a3f\" style=\"stroke:#000000;stroke-width:0.8;\"/>\r\n      </defs>\r\n      <g>\r\n       <use style=\"stroke:#000000;stroke-width:0.8;\" x=\"54.868182\" xlink:href=\"#m6d5d033a3f\" y=\"224.64\"/>\r\n      </g>\r\n     </g>\r\n     <g id=\"text_1\">\r\n      <!-- 0 -->\r\n      <g transform=\"translate(51.686932 239.238437)scale(0.1 -0.1)\">\r\n       <defs>\r\n        <path d=\"M 2034 4250 \r\nQ 1547 4250 1301 3770 \r\nQ 1056 3291 1056 2328 \r\nQ 1056 1369 1301 889 \r\nQ 1547 409 2034 409 \r\nQ 2525 409 2770 889 \r\nQ 3016 1369 3016 2328 \r\nQ 3016 3291 2770 3770 \r\nQ 2525 4250 2034 4250 \r\nz\r\nM 2034 4750 \r\nQ 2819 4750 3233 4129 \r\nQ 3647 3509 3647 2328 \r\nQ 3647 1150 3233 529 \r\nQ 2819 -91 2034 -91 \r\nQ 1250 -91 836 529 \r\nQ 422 1150 422 2328 \r\nQ 422 3509 836 4129 \r\nQ 1250 4750 2034 4750 \r\nz\r\n\" id=\"DejaVuSans-30\" transform=\"scale(0.015625)\"/>\r\n       </defs>\r\n       <use xlink:href=\"#DejaVuSans-30\"/>\r\n      </g>\r\n     </g>\r\n    </g>\r\n    <g id=\"xtick_2\">\r\n     <g id=\"line2d_2\">\r\n      <g>\r\n       <use style=\"stroke:#000000;stroke-width:0.8;\" x=\"115.740909\" xlink:href=\"#m6d5d033a3f\" y=\"224.64\"/>\r\n      </g>\r\n     </g>\r\n     <g id=\"text_2\">\r\n      <!-- 2 -->\r\n      <g transform=\"translate(112.559659 239.238437)scale(0.1 -0.1)\">\r\n       <defs>\r\n        <path d=\"M 1228 531 \r\nL 3431 531 \r\nL 3431 0 \r\nL 469 0 \r\nL 469 531 \r\nQ 828 903 1448 1529 \r\nQ 2069 2156 2228 2338 \r\nQ 2531 2678 2651 2914 \r\nQ 2772 3150 2772 3378 \r\nQ 2772 3750 2511 3984 \r\nQ 2250 4219 1831 4219 \r\nQ 1534 4219 1204 4116 \r\nQ 875 4013 500 3803 \r\nL 500 4441 \r\nQ 881 4594 1212 4672 \r\nQ 1544 4750 1819 4750 \r\nQ 2544 4750 2975 4387 \r\nQ 3406 4025 3406 3419 \r\nQ 3406 3131 3298 2873 \r\nQ 3191 2616 2906 2266 \r\nQ 2828 2175 2409 1742 \r\nQ 1991 1309 1228 531 \r\nz\r\n\" id=\"DejaVuSans-32\" transform=\"scale(0.015625)\"/>\r\n       </defs>\r\n       <use xlink:href=\"#DejaVuSans-32\"/>\r\n      </g>\r\n     </g>\r\n    </g>\r\n    <g id=\"xtick_3\">\r\n     <g id=\"line2d_3\">\r\n      <g>\r\n       <use style=\"stroke:#000000;stroke-width:0.8;\" x=\"176.613636\" xlink:href=\"#m6d5d033a3f\" y=\"224.64\"/>\r\n      </g>\r\n     </g>\r\n     <g id=\"text_3\">\r\n      <!-- 4 -->\r\n      <g transform=\"translate(173.432386 239.238437)scale(0.1 -0.1)\">\r\n       <defs>\r\n        <path d=\"M 2419 4116 \r\nL 825 1625 \r\nL 2419 1625 \r\nL 2419 4116 \r\nz\r\nM 2253 4666 \r\nL 3047 4666 \r\nL 3047 1625 \r\nL 3713 1625 \r\nL 3713 1100 \r\nL 3047 1100 \r\nL 3047 0 \r\nL 2419 0 \r\nL 2419 1100 \r\nL 313 1100 \r\nL 313 1709 \r\nL 2253 4666 \r\nz\r\n\" id=\"DejaVuSans-34\" transform=\"scale(0.015625)\"/>\r\n       </defs>\r\n       <use xlink:href=\"#DejaVuSans-34\"/>\r\n      </g>\r\n     </g>\r\n    </g>\r\n    <g id=\"xtick_4\">\r\n     <g id=\"line2d_4\">\r\n      <g>\r\n       <use style=\"stroke:#000000;stroke-width:0.8;\" x=\"237.486364\" xlink:href=\"#m6d5d033a3f\" y=\"224.64\"/>\r\n      </g>\r\n     </g>\r\n     <g id=\"text_4\">\r\n      <!-- 6 -->\r\n      <g transform=\"translate(234.305114 239.238437)scale(0.1 -0.1)\">\r\n       <defs>\r\n        <path d=\"M 2113 2584 \r\nQ 1688 2584 1439 2293 \r\nQ 1191 2003 1191 1497 \r\nQ 1191 994 1439 701 \r\nQ 1688 409 2113 409 \r\nQ 2538 409 2786 701 \r\nQ 3034 994 3034 1497 \r\nQ 3034 2003 2786 2293 \r\nQ 2538 2584 2113 2584 \r\nz\r\nM 3366 4563 \r\nL 3366 3988 \r\nQ 3128 4100 2886 4159 \r\nQ 2644 4219 2406 4219 \r\nQ 1781 4219 1451 3797 \r\nQ 1122 3375 1075 2522 \r\nQ 1259 2794 1537 2939 \r\nQ 1816 3084 2150 3084 \r\nQ 2853 3084 3261 2657 \r\nQ 3669 2231 3669 1497 \r\nQ 3669 778 3244 343 \r\nQ 2819 -91 2113 -91 \r\nQ 1303 -91 875 529 \r\nQ 447 1150 447 2328 \r\nQ 447 3434 972 4092 \r\nQ 1497 4750 2381 4750 \r\nQ 2619 4750 2861 4703 \r\nQ 3103 4656 3366 4563 \r\nz\r\n\" id=\"DejaVuSans-36\" transform=\"scale(0.015625)\"/>\r\n       </defs>\r\n       <use xlink:href=\"#DejaVuSans-36\"/>\r\n      </g>\r\n     </g>\r\n    </g>\r\n    <g id=\"xtick_5\">\r\n     <g id=\"line2d_5\">\r\n      <g>\r\n       <use style=\"stroke:#000000;stroke-width:0.8;\" x=\"298.359091\" xlink:href=\"#m6d5d033a3f\" y=\"224.64\"/>\r\n      </g>\r\n     </g>\r\n     <g id=\"text_5\">\r\n      <!-- 8 -->\r\n      <g transform=\"translate(295.177841 239.238437)scale(0.1 -0.1)\">\r\n       <defs>\r\n        <path d=\"M 2034 2216 \r\nQ 1584 2216 1326 1975 \r\nQ 1069 1734 1069 1313 \r\nQ 1069 891 1326 650 \r\nQ 1584 409 2034 409 \r\nQ 2484 409 2743 651 \r\nQ 3003 894 3003 1313 \r\nQ 3003 1734 2745 1975 \r\nQ 2488 2216 2034 2216 \r\nz\r\nM 1403 2484 \r\nQ 997 2584 770 2862 \r\nQ 544 3141 544 3541 \r\nQ 544 4100 942 4425 \r\nQ 1341 4750 2034 4750 \r\nQ 2731 4750 3128 4425 \r\nQ 3525 4100 3525 3541 \r\nQ 3525 3141 3298 2862 \r\nQ 3072 2584 2669 2484 \r\nQ 3125 2378 3379 2068 \r\nQ 3634 1759 3634 1313 \r\nQ 3634 634 3220 271 \r\nQ 2806 -91 2034 -91 \r\nQ 1263 -91 848 271 \r\nQ 434 634 434 1313 \r\nQ 434 1759 690 2068 \r\nQ 947 2378 1403 2484 \r\nz\r\nM 1172 3481 \r\nQ 1172 3119 1398 2916 \r\nQ 1625 2713 2034 2713 \r\nQ 2441 2713 2670 2916 \r\nQ 2900 3119 2900 3481 \r\nQ 2900 3844 2670 4047 \r\nQ 2441 4250 2034 4250 \r\nQ 1625 4250 1398 4047 \r\nQ 1172 3844 1172 3481 \r\nz\r\n\" id=\"DejaVuSans-38\" transform=\"scale(0.015625)\"/>\r\n       </defs>\r\n       <use xlink:href=\"#DejaVuSans-38\"/>\r\n      </g>\r\n     </g>\r\n    </g>\r\n    <g id=\"xtick_6\">\r\n     <g id=\"line2d_6\">\r\n      <g>\r\n       <use style=\"stroke:#000000;stroke-width:0.8;\" x=\"359.231818\" xlink:href=\"#m6d5d033a3f\" y=\"224.64\"/>\r\n      </g>\r\n     </g>\r\n     <g id=\"text_6\">\r\n      <!-- 10 -->\r\n      <g transform=\"translate(352.869318 239.238437)scale(0.1 -0.1)\">\r\n       <defs>\r\n        <path d=\"M 794 531 \r\nL 1825 531 \r\nL 1825 4091 \r\nL 703 3866 \r\nL 703 4441 \r\nL 1819 4666 \r\nL 2450 4666 \r\nL 2450 531 \r\nL 3481 531 \r\nL 3481 0 \r\nL 794 0 \r\nL 794 531 \r\nz\r\n\" id=\"DejaVuSans-31\" transform=\"scale(0.015625)\"/>\r\n       </defs>\r\n       <use xlink:href=\"#DejaVuSans-31\"/>\r\n       <use x=\"63.623047\" xlink:href=\"#DejaVuSans-30\"/>\r\n      </g>\r\n     </g>\r\n    </g>\r\n   </g>\r\n   <g id=\"matplotlib.axis_2\">\r\n    <g id=\"ytick_1\">\r\n     <g id=\"line2d_7\">\r\n      <defs>\r\n       <path d=\"M 0 0 \r\nL -3.5 0 \r\n\" id=\"m585a1fe370\" style=\"stroke:#000000;stroke-width:0.8;\"/>\r\n      </defs>\r\n      <g>\r\n       <use style=\"stroke:#000000;stroke-width:0.8;\" x=\"39.65\" xlink:href=\"#m585a1fe370\" y=\"224.64\"/>\r\n      </g>\r\n     </g>\r\n     <g id=\"text_7\">\r\n      <!-- 0 -->\r\n      <g transform=\"translate(26.2875 228.439219)scale(0.1 -0.1)\">\r\n       <use xlink:href=\"#DejaVuSans-30\"/>\r\n      </g>\r\n     </g>\r\n    </g>\r\n    <g id=\"ytick_2\">\r\n     <g id=\"line2d_8\">\r\n      <g>\r\n       <use style=\"stroke:#000000;stroke-width:0.8;\" x=\"39.65\" xlink:href=\"#m585a1fe370\" y=\"190.308814\"/>\r\n      </g>\r\n     </g>\r\n     <g id=\"text_8\">\r\n      <!-- 500 -->\r\n      <g transform=\"translate(13.5625 194.108033)scale(0.1 -0.1)\">\r\n       <defs>\r\n        <path d=\"M 691 4666 \r\nL 3169 4666 \r\nL 3169 4134 \r\nL 1269 4134 \r\nL 1269 2991 \r\nQ 1406 3038 1543 3061 \r\nQ 1681 3084 1819 3084 \r\nQ 2600 3084 3056 2656 \r\nQ 3513 2228 3513 1497 \r\nQ 3513 744 3044 326 \r\nQ 2575 -91 1722 -91 \r\nQ 1428 -91 1123 -41 \r\nQ 819 9 494 109 \r\nL 494 744 \r\nQ 775 591 1075 516 \r\nQ 1375 441 1709 441 \r\nQ 2250 441 2565 725 \r\nQ 2881 1009 2881 1497 \r\nQ 2881 1984 2565 2268 \r\nQ 2250 2553 1709 2553 \r\nQ 1456 2553 1204 2497 \r\nQ 953 2441 691 2322 \r\nL 691 4666 \r\nz\r\n\" id=\"DejaVuSans-35\" transform=\"scale(0.015625)\"/>\r\n       </defs>\r\n       <use xlink:href=\"#DejaVuSans-35\"/>\r\n       <use x=\"63.623047\" xlink:href=\"#DejaVuSans-30\"/>\r\n       <use x=\"127.246094\" xlink:href=\"#DejaVuSans-30\"/>\r\n      </g>\r\n     </g>\r\n    </g>\r\n    <g id=\"ytick_3\">\r\n     <g id=\"line2d_9\">\r\n      <g>\r\n       <use style=\"stroke:#000000;stroke-width:0.8;\" x=\"39.65\" xlink:href=\"#m585a1fe370\" y=\"155.977628\"/>\r\n      </g>\r\n     </g>\r\n     <g id=\"text_9\">\r\n      <!-- 1000 -->\r\n      <g transform=\"translate(7.2 159.776847)scale(0.1 -0.1)\">\r\n       <use xlink:href=\"#DejaVuSans-31\"/>\r\n       <use x=\"63.623047\" xlink:href=\"#DejaVuSans-30\"/>\r\n       <use x=\"127.246094\" xlink:href=\"#DejaVuSans-30\"/>\r\n       <use x=\"190.869141\" xlink:href=\"#DejaVuSans-30\"/>\r\n      </g>\r\n     </g>\r\n    </g>\r\n    <g id=\"ytick_4\">\r\n     <g id=\"line2d_10\">\r\n      <g>\r\n       <use style=\"stroke:#000000;stroke-width:0.8;\" x=\"39.65\" xlink:href=\"#m585a1fe370\" y=\"121.646442\"/>\r\n      </g>\r\n     </g>\r\n     <g id=\"text_10\">\r\n      <!-- 1500 -->\r\n      <g transform=\"translate(7.2 125.445661)scale(0.1 -0.1)\">\r\n       <use xlink:href=\"#DejaVuSans-31\"/>\r\n       <use x=\"63.623047\" xlink:href=\"#DejaVuSans-35\"/>\r\n       <use x=\"127.246094\" xlink:href=\"#DejaVuSans-30\"/>\r\n       <use x=\"190.869141\" xlink:href=\"#DejaVuSans-30\"/>\r\n      </g>\r\n     </g>\r\n    </g>\r\n    <g id=\"ytick_5\">\r\n     <g id=\"line2d_11\">\r\n      <g>\r\n       <use style=\"stroke:#000000;stroke-width:0.8;\" x=\"39.65\" xlink:href=\"#m585a1fe370\" y=\"87.315256\"/>\r\n      </g>\r\n     </g>\r\n     <g id=\"text_11\">\r\n      <!-- 2000 -->\r\n      <g transform=\"translate(7.2 91.114475)scale(0.1 -0.1)\">\r\n       <use xlink:href=\"#DejaVuSans-32\"/>\r\n       <use x=\"63.623047\" xlink:href=\"#DejaVuSans-30\"/>\r\n       <use x=\"127.246094\" xlink:href=\"#DejaVuSans-30\"/>\r\n       <use x=\"190.869141\" xlink:href=\"#DejaVuSans-30\"/>\r\n      </g>\r\n     </g>\r\n    </g>\r\n    <g id=\"ytick_6\">\r\n     <g id=\"line2d_12\">\r\n      <g>\r\n       <use style=\"stroke:#000000;stroke-width:0.8;\" x=\"39.65\" xlink:href=\"#m585a1fe370\" y=\"52.98407\"/>\r\n      </g>\r\n     </g>\r\n     <g id=\"text_12\">\r\n      <!-- 2500 -->\r\n      <g transform=\"translate(7.2 56.783288)scale(0.1 -0.1)\">\r\n       <use xlink:href=\"#DejaVuSans-32\"/>\r\n       <use x=\"63.623047\" xlink:href=\"#DejaVuSans-35\"/>\r\n       <use x=\"127.246094\" xlink:href=\"#DejaVuSans-30\"/>\r\n       <use x=\"190.869141\" xlink:href=\"#DejaVuSans-30\"/>\r\n      </g>\r\n     </g>\r\n    </g>\r\n    <g id=\"ytick_7\">\r\n     <g id=\"line2d_13\">\r\n      <g>\r\n       <use style=\"stroke:#000000;stroke-width:0.8;\" x=\"39.65\" xlink:href=\"#m585a1fe370\" y=\"18.652884\"/>\r\n      </g>\r\n     </g>\r\n     <g id=\"text_13\">\r\n      <!-- 3000 -->\r\n      <g transform=\"translate(7.2 22.452102)scale(0.1 -0.1)\">\r\n       <defs>\r\n        <path d=\"M 2597 2516 \r\nQ 3050 2419 3304 2112 \r\nQ 3559 1806 3559 1356 \r\nQ 3559 666 3084 287 \r\nQ 2609 -91 1734 -91 \r\nQ 1441 -91 1130 -33 \r\nQ 819 25 488 141 \r\nL 488 750 \r\nQ 750 597 1062 519 \r\nQ 1375 441 1716 441 \r\nQ 2309 441 2620 675 \r\nQ 2931 909 2931 1356 \r\nQ 2931 1769 2642 2001 \r\nQ 2353 2234 1838 2234 \r\nL 1294 2234 \r\nL 1294 2753 \r\nL 1863 2753 \r\nQ 2328 2753 2575 2939 \r\nQ 2822 3125 2822 3475 \r\nQ 2822 3834 2567 4026 \r\nQ 2313 4219 1838 4219 \r\nQ 1578 4219 1281 4162 \r\nQ 984 4106 628 3988 \r\nL 628 4550 \r\nQ 988 4650 1302 4700 \r\nQ 1616 4750 1894 4750 \r\nQ 2613 4750 3031 4423 \r\nQ 3450 4097 3450 3541 \r\nQ 3450 3153 3228 2886 \r\nQ 3006 2619 2597 2516 \r\nz\r\n\" id=\"DejaVuSans-33\" transform=\"scale(0.015625)\"/>\r\n       </defs>\r\n       <use xlink:href=\"#DejaVuSans-33\"/>\r\n       <use x=\"63.623047\" xlink:href=\"#DejaVuSans-30\"/>\r\n       <use x=\"127.246094\" xlink:href=\"#DejaVuSans-30\"/>\r\n       <use x=\"190.869141\" xlink:href=\"#DejaVuSans-30\"/>\r\n      </g>\r\n     </g>\r\n    </g>\r\n   </g>\r\n   <g id=\"patch_103\">\r\n    <path d=\"M 39.65 224.64 \r\nL 39.65 7.2 \r\n\" style=\"fill:none;stroke:#000000;stroke-linecap:square;stroke-linejoin:miter;stroke-width:0.8;\"/>\r\n   </g>\r\n   <g id=\"patch_104\">\r\n    <path d=\"M 374.45 224.64 \r\nL 374.45 7.2 \r\n\" style=\"fill:none;stroke:#000000;stroke-linecap:square;stroke-linejoin:miter;stroke-width:0.8;\"/>\r\n   </g>\r\n   <g id=\"patch_105\">\r\n    <path d=\"M 39.65 224.64 \r\nL 374.45 224.64 \r\n\" style=\"fill:none;stroke:#000000;stroke-linecap:square;stroke-linejoin:miter;stroke-width:0.8;\"/>\r\n   </g>\r\n   <g id=\"patch_106\">\r\n    <path d=\"M 39.65 7.2 \r\nL 374.45 7.2 \r\n\" style=\"fill:none;stroke:#000000;stroke-linecap:square;stroke-linejoin:miter;stroke-width:0.8;\"/>\r\n   </g>\r\n  </g>\r\n </g>\r\n <defs>\r\n  <clipPath id=\"p2e4998efd9\">\r\n   <rect height=\"217.44\" width=\"334.8\" x=\"39.65\" y=\"7.2\"/>\r\n  </clipPath>\r\n </defs>\r\n</svg>\r\n",
      "image/png": "[encoded data removed]"
     },
     "metadata": {
      "needs_background": "light"
     }
    }
   ],
   "source": [
    "# quedan raros los datos\n",
    "plt.hist(x=df_rev.escalados, bins=100)\n",
    "plt.show()"
   ]
  },
  {
   "cell_type": "code",
   "execution_count": 23,
   "metadata": {},
   "outputs": [
    {
     "output_type": "execute_result",
     "data": {
      "text/plain": [
       "              username product_id  escalados\n",
       "0          Chaos Syren     725280   0.000000\n",
       "1           ₮ʜᴇ Wᴀʀᴛᴏɴ     328100   5.195230\n",
       "2              hello?<     328100   4.151611\n",
       "3          Cyderine916      35140   3.258925\n",
       "4       DarklyThinking      35140   4.258560\n",
       "...                ...        ...        ...\n",
       "99996     MatrixFluffy     291550   4.619430\n",
       "99997            S A D     291550   6.404132\n",
       "99998      Barney Fife     291550   4.233082\n",
       "99999         MeltDown     233270   2.136740\n",
       "100000       Generalis     233270   3.639984\n",
       "\n",
       "[99793 rows x 3 columns]"
      ],
      "text/html": "<div>\n<style scoped>\n    .dataframe tbody tr th:only-of-type {\n        vertical-align: middle;\n    }\n\n    .dataframe tbody tr th {\n        vertical-align: top;\n    }\n\n    .dataframe thead th {\n        text-align: right;\n    }\n</style>\n<table border=\"1\" class=\"dataframe\">\n  <thead>\n    <tr style=\"text-align: right;\">\n      <th></th>\n      <th>username</th>\n      <th>product_id</th>\n      <th>escalados</th>\n    </tr>\n  </thead>\n  <tbody>\n    <tr>\n      <th>0</th>\n      <td>Chaos Syren</td>\n      <td>725280</td>\n      <td>0.000000</td>\n    </tr>\n    <tr>\n      <th>1</th>\n      <td>₮ʜᴇ Wᴀʀᴛᴏɴ</td>\n      <td>328100</td>\n      <td>5.195230</td>\n    </tr>\n    <tr>\n      <th>2</th>\n      <td>hello?&lt;</td>\n      <td>328100</td>\n      <td>4.151611</td>\n    </tr>\n    <tr>\n      <th>3</th>\n      <td>Cyderine916</td>\n      <td>35140</td>\n      <td>3.258925</td>\n    </tr>\n    <tr>\n      <th>4</th>\n      <td>DarklyThinking</td>\n      <td>35140</td>\n      <td>4.258560</td>\n    </tr>\n    <tr>\n      <th>...</th>\n      <td>...</td>\n      <td>...</td>\n      <td>...</td>\n    </tr>\n    <tr>\n      <th>99996</th>\n      <td>MatrixFluffy</td>\n      <td>291550</td>\n      <td>4.619430</td>\n    </tr>\n    <tr>\n      <th>99997</th>\n      <td>S A D</td>\n      <td>291550</td>\n      <td>6.404132</td>\n    </tr>\n    <tr>\n      <th>99998</th>\n      <td>Barney Fife</td>\n      <td>291550</td>\n      <td>4.233082</td>\n    </tr>\n    <tr>\n      <th>99999</th>\n      <td>MeltDown</td>\n      <td>233270</td>\n      <td>2.136740</td>\n    </tr>\n    <tr>\n      <th>100000</th>\n      <td>Generalis</td>\n      <td>233270</td>\n      <td>3.639984</td>\n    </tr>\n  </tbody>\n</table>\n<p>99793 rows × 3 columns</p>\n</div>"
     },
     "metadata": {},
     "execution_count": 23
    }
   ],
   "source": [
    "#### meterlos al surprise\n",
    "# from surprise import Reader, Dataset, SVD, accuracy\n",
    "# from surprise.model_selection import cross_validate\n",
    "# columnas user; item; rating; timestamp\n",
    "# dataset  username; product_id; escalado; date\n",
    "df_reader = df_rev[['username', 'product_id', 'escalados']] #date lacking\n",
    "#df_reader.dropna(inplace=True)\n",
    "df_reader_og = df_reader.copy()\n",
    "df_reader"
   ]
  },
  {
   "cell_type": "code",
   "execution_count": 24,
   "metadata": {},
   "outputs": [],
   "source": [
    "array = df_reader.username.astype(str)"
   ]
  },
  {
   "cell_type": "code",
   "execution_count": 25,
   "metadata": {},
   "outputs": [],
   "source": [
    "### encoding the names\n",
    "from sklearn.preprocessing import OrdinalEncoder\n",
    "\n",
    "le = OrdinalEncoder()\n",
    "users = le.fit_transform(np.asarray(array).reshape(-1, 1))\n",
    "users = users.astype(int)\n",
    "df_reader.insert(0,'user', users)"
   ]
  },
  {
   "cell_type": "code",
   "execution_count": 26,
   "metadata": {},
   "outputs": [],
   "source": [
    "df_reader = df_reader.drop(columns=['username'])"
   ]
  },
  {
   "cell_type": "code",
   "execution_count": 27,
   "metadata": {},
   "outputs": [
    {
     "output_type": "execute_result",
     "data": {
      "text/plain": [
       "         user product_id  escalados\n",
       "0        9915     725280   0.000000\n",
       "1       83213     328100   5.195230\n",
       "2       70080     328100   4.151611\n",
       "3       12199      35140   3.258925\n",
       "4       13355      35140   4.258560\n",
       "...       ...        ...        ...\n",
       "99996   34394     291550   4.619430\n",
       "99997   46184     291550   6.404132\n",
       "99998    5953     291550   4.233082\n",
       "99999   34931     233270   2.136740\n",
       "100000  20999     233270   3.639984\n",
       "\n",
       "[99793 rows x 3 columns]"
      ],
      "text/html": "<div>\n<style scoped>\n    .dataframe tbody tr th:only-of-type {\n        vertical-align: middle;\n    }\n\n    .dataframe tbody tr th {\n        vertical-align: top;\n    }\n\n    .dataframe thead th {\n        text-align: right;\n    }\n</style>\n<table border=\"1\" class=\"dataframe\">\n  <thead>\n    <tr style=\"text-align: right;\">\n      <th></th>\n      <th>user</th>\n      <th>product_id</th>\n      <th>escalados</th>\n    </tr>\n  </thead>\n  <tbody>\n    <tr>\n      <th>0</th>\n      <td>9915</td>\n      <td>725280</td>\n      <td>0.000000</td>\n    </tr>\n    <tr>\n      <th>1</th>\n      <td>83213</td>\n      <td>328100</td>\n      <td>5.195230</td>\n    </tr>\n    <tr>\n      <th>2</th>\n      <td>70080</td>\n      <td>328100</td>\n      <td>4.151611</td>\n    </tr>\n    <tr>\n      <th>3</th>\n      <td>12199</td>\n      <td>35140</td>\n      <td>3.258925</td>\n    </tr>\n    <tr>\n      <th>4</th>\n      <td>13355</td>\n      <td>35140</td>\n      <td>4.258560</td>\n    </tr>\n    <tr>\n      <th>...</th>\n      <td>...</td>\n      <td>...</td>\n      <td>...</td>\n    </tr>\n    <tr>\n      <th>99996</th>\n      <td>34394</td>\n      <td>291550</td>\n      <td>4.619430</td>\n    </tr>\n    <tr>\n      <th>99997</th>\n      <td>46184</td>\n      <td>291550</td>\n      <td>6.404132</td>\n    </tr>\n    <tr>\n      <th>99998</th>\n      <td>5953</td>\n      <td>291550</td>\n      <td>4.233082</td>\n    </tr>\n    <tr>\n      <th>99999</th>\n      <td>34931</td>\n      <td>233270</td>\n      <td>2.136740</td>\n    </tr>\n    <tr>\n      <th>100000</th>\n      <td>20999</td>\n      <td>233270</td>\n      <td>3.639984</td>\n    </tr>\n  </tbody>\n</table>\n<p>99793 rows × 3 columns</p>\n</div>"
     },
     "metadata": {},
     "execution_count": 27
    }
   ],
   "source": [
    "## disminuir esto de tamaño\n",
    "#df_reader = df_reader[:50][\n",
    "df_reader"
   ]
  },
  {
   "cell_type": "code",
   "execution_count": 28,
   "metadata": {},
   "outputs": [],
   "source": [
    "reader = Reader(rating_scale=(1,10), line_format='user item rating')\n",
    "data = Dataset.load_from_df(df_reader, reader=reader)"
   ]
  },
  {
   "cell_type": "code",
   "execution_count": 29,
   "metadata": {},
   "outputs": [],
   "source": [
    "from surprise.model_selection import train_test_split\n",
    "trainset, testset = train_test_split(data, test_size=.25)"
   ]
  },
  {
   "cell_type": "code",
   "execution_count": 30,
   "metadata": {},
   "outputs": [
    {
     "output_type": "stream",
     "name": "stdout",
     "text": [
      "Evaluating RMSE, MAE of algorithm SVD on 5 split(s).\n\n                  Fold 1  Fold 2  Fold 3  Fold 4  Fold 5  Mean    Std     \nRMSE (testset)    1.2321  1.2578  1.2489  1.2465  1.2444  1.2459  0.0083  \nMAE (testset)     0.9206  0.9342  0.9292  0.9242  0.9252  0.9267  0.0046  \nFit time          5.12    5.27    5.42    5.17    5.17    5.23    0.11    \nTest time         0.12    0.11    0.12    0.12    0.12    0.12    0.00    \n"
     ]
    },
    {
     "output_type": "execute_result",
     "data": {
      "text/plain": [
       "{'test_rmse': array([1.23214007, 1.2578133 , 1.24885323, 1.2464641 , 1.24438825]),\n",
       " 'test_mae': array([0.92062658, 0.93415311, 0.92916502, 0.92424668, 0.92522463]),\n",
       " 'fit_time': (5.124151706695557,\n",
       "  5.266050815582275,\n",
       "  5.420219421386719,\n",
       "  5.168162107467651,\n",
       "  5.1691625118255615),\n",
       " 'test_time': (0.11602640151977539,\n",
       "  0.11402559280395508,\n",
       "  0.11902713775634766,\n",
       "  0.12002682685852051,\n",
       "  0.11502671241760254)}"
      ]
     },
     "metadata": {},
     "execution_count": 30
    }
   ],
   "source": [
    "### cross validation\n",
    "algo = SVD()\n",
    "# Train the algorithm on the trainset, and predict ratings for the testset\n",
    "# algo.fit(trainset)\n",
    "# predictions = algo.test(testset)\n",
    "\n",
    "# Then compute RMSE\n",
    "cross_validate(algo, data, measures=['RMSE', 'MAE'], cv=5, verbose=True)"
   ]
  },
  {
   "cell_type": "code",
   "execution_count": 31,
   "metadata": {},
   "outputs": [],
   "source": [
    "algo2 = SVD()\n",
    "# Train the algorithm on the trainset, and predict ratings for the testset\n",
    "algo2.fit(trainset)\n",
    "predictions2 = algo.test(testset)"
   ]
  },
  {
   "cell_type": "code",
   "execution_count": 32,
   "metadata": {},
   "outputs": [
    {
     "output_type": "execute_result",
     "data": {
      "text/plain": [
       "60', r_ui=3.451453188265577, est=2.96770654647389, details={'was_impossible': False}),\n",
       " Prediction(uid=8518, iid='291550', r_ui=4.638729285930328, est=4.753448220938024, details={'was_impossible': False}),\n",
       " Prediction(uid=46393, iid='427730', r_ui=3.681130957935372, est=3.2248608020029415, details={'was_impossible': False}),\n",
       " Prediction(uid=16081, iid='291550', r_ui=2.495605474976508, est=2.9543002175073707, details={'was_impossible': False}),\n",
       " Prediction(uid=26660, iid='388210', r_ui=3.2420948057775574, est=3.3960239363666527, details={'was_impossible': False}),\n",
       " Prediction(uid=45475, iid='427730', r_ui=2.0700603637919524, est=2.631898294519929, details={'was_impossible': False}),\n",
       " Prediction(uid=7875, iid='427730', r_ui=1.3407480038729551, est=2.666707261684703, details={'was_impossible': False}),\n",
       " Prediction(uid=61672, iid='296300', r_ui=3.0080880698310715, est=3.918715926531513, details={'was_impossible': False}),\n",
       " Prediction(uid=61037, iid='17430', r_ui=3.6504629460800615, est=3.2889307566864403, details={'was_impossible': False}),\n",
       " Prediction(uid=81849, iid='214560', r_ui=3.74858252480153, est=4.16838205458398, details={'was_impossible': False}),\n",
       " Prediction(uid=24053, iid='291550', r_ui=3.9081441166372954, est=4.03382075047614, details={'was_impossible': False}),\n",
       " Prediction(uid=23765, iid='271590', r_ui=4.116652877865287, est=4.6620156073041485, details={'was_impossible': False}),\n",
       " Prediction(uid=77132, iid='385770', r_ui=7.419164098073663, est=3.49293953580813, details={'was_impossible': False}),\n",
       " Prediction(uid=70011, iid='71240', r_ui=2.5362502955771777, est=2.3881437275841457, details={'was_impossible': False}),\n",
       " Prediction(uid=55210, iid='32440', r_ui=1.9975752252775705, est=2.85365058565416, details={'was_impossible': False}),\n",
       " Prediction(uid=2616, iid='296300', r_ui=3.093604479679506, est=3.432649444261722, details={'was_impossible': False}),\n",
       " Prediction(uid=49985, iid='35140', r_ui=4.008807372367905, est=4.054226524228156, details={'was_impossible': False}),\n",
       " Prediction(uid=33052, iid='412940', r_ui=0.0, est=1, details={'was_impossible': False}),\n",
       " Prediction(uid=23316, iid='259830', r_ui=1.3407480038729551, est=2.2483634167518542, details={'was_impossible': False}),\n",
       " Prediction(uid=59326, iid='35140', r_ui=4.430278863830008, est=3.8158146385827956, details={'was_impossible': False}),\n",
       " Prediction(uid=20620, iid='427730', r_ui=2.9127781179659697, est=2.95468948020336, details={'was_impossible': False}),\n",
       " Prediction(uid=3235, iid='375450', r_ui=4.984939500710819, est=5.066535797860838, details={'was_impossible': False}),\n",
       " Prediction(uid=31946, iid='292140', r_ui=3.189463396027899, est=4.2159099360563035, details={'was_impossible': False}),\n",
       " Prediction(uid=73702, iid='271590', r_ui=4.6940816134170635, est=4.874554593933284, details={'was_impossible': False}),\n",
       " Prediction(uid=3452, iid='310370', r_ui=1.7322862066553297, est=1.3006878563136621, details={'was_impossible': False}),\n",
       " Prediction(uid=20829, iid='452230', r_ui=0.0, est=1.298381909096939, details={'was_impossible': False}),\n",
       " Prediction(uid=83900, iid='35140', r_ui=4.60631065936913, est=4.479583381084257, details={'was_impossible': False}),\n",
       " Prediction(uid=78479, iid='745880', r_ui=1.3407480038729551, est=1.8184928206437065, details={'was_impossible': False}),\n",
       " Prediction(uid=77339, iid='465490', r_ui=4.530211399900854, est=4.225155320125042, details={'was_impossible': False}),\n",
       " Prediction(uid=70586, iid='385770', r_ui=6.098942287609306, est=5.888695394457356, details={'was_impossible': False}),\n",
       " Prediction(uid=37907, iid='427730', r_ui=3.451453188265577, est=2.587500886699238, details={'was_impossible': False}),\n",
       " Prediction(uid=10494, iid='292140', r_ui=0.5774287355517764, est=1.842449889388642, details={'was_impossible': False}),\n",
       " Prediction(uid=71225, iid='465490', r_ui=5.465690040410467, est=4.687776657071497, details={'was_impossible': False}),\n",
       " Prediction(uid=73635, iid='330390', r_ui=4.901122738296194, est=4.522580698006159, details={'was_impossible': False}),\n",
       " Prediction(uid=63556, iid='562760', r_ui=0.5774287355517764, est=1.9228108834618263, details={'was_impossible': False}),\n",
       " Prediction(uid=3154, iid='525700', r_ui=2.745608678065197, est=2.580806458200963, details={'was_impossible': False}),\n",
       " Prediction(uid=83819, iid='291550', r_ui=3.0080880698310715, est=3.3231081894134302, details={'was_impossible': False}),\n",
       " Prediction(uid=21672, iid='280560', r_ui=3.8690264340871137, est=3.042094741547502, details={'was_impossible': False}),\n",
       " Prediction(uid=28469, iid='271590', r_ui=6.148667654283015, est=5.675428709613541, details={'was_impossible': False}),\n",
       " Prediction(uid=83434, iid='291550', r_ui=3.3074658654195854, est=3.5127349473745877, details={'was_impossible': False}),\n",
       " Prediction(uid=13573, iid='310370', r_ui=1.1548574711035533, est=1.4430020255882698, details={'was_impossible': False}),\n",
       " Prediction(uid=30827, iid='233550', r_ui=2.3602185000380556, est=2.324905999833544, details={'was_impossible': False}),\n",
       " Prediction(uid=29345, iid='326840', r_ui=2.775904873992332, est=3.1995416331524926, details={'was_impossible': False}),\n",
       " Prediction(uid=54634, iid='291550', r_ui=3.0519431201201828, est=3.2796759007078045, details={'was_impossible': False}),\n",
       " Prediction(uid=8354, iid='13600', r_ui=3.9157519647023022, est=3.4847531771299693, details={'was_impossible': False}),\n",
       " Prediction(uid=46081, iid='427730', r_ui=3.113679031128955, est=2.767670200502971, details={'was_impossible': False}),\n",
       " Prediction(uid=65022, iid='271590', r_ui=5.8444643007625805, est=5.646283168085807, details={'was_impossible': False}),\n",
       " Prediction(uid=11797, iid='230050', r_ui=1.9975752252775705, est=2.5939818350077513, details={'was_impossible': False}),\n",
       " Prediction(uid=77793, iid='35140', r_ui=3.9812659029268342, est=4.0660117268975515, details={'was_impossible': False}),\n",
       " Prediction(uid=9850, iid='26900', r_ui=3.338323229150526, est=2.1522180934765776, details={'was_impossible': False}),\n",
       " Prediction(uid=9464, iid='271590', r_ui=6.826692125886873, est=6.2902985263667555, details={'was_impossible': False}),\n",
       " Prediction(uid=79946, iid='230050', r_ui=2.452875412803332, est=2.6888428871919965, details={'was_impossible': False}),\n",
       " Prediction(uid=43683, iid='271590', r_ui=4.339781054407047, est=4.757409757499542, details={'was_impossible': False}),\n",
       " Prediction(uid=16771, iid='390340', r_ui=0.0, est=1.0188765622779452, details={'was_impossible': False}),\n",
       " Prediction(uid=83893, iid='200710', r_ui=5.198484090868529, est=5.155716129092143, details={'was_impossible': False}),\n",
       " Prediction(uid=47842, iid='291550', r_ui=5.35764333854132, est=5.3677301503075014, details={'was_impossible': False}),\n",
       " Prediction(uid=32131, iid='337350', r_ui=3.2754213927264546, est=3.3228569610494954, details={'was_impossible': False}),\n",
       " Prediction(uid=76710, iid='461560', r_ui=2.1367402274317833, est=1.9340819799756757, details={'was_impossible': False}),\n",
       " Prediction(uid=31032, iid='516510', r_ui=5.007707599381785, est=4.246828723613469, details={'was_impossible': False}),\n",
       " Prediction(uid=83323, iid='217120', r_ui=3.1711537892497534, est=3.2063611534160197, details={'was_impossible': False}),\n",
       " Prediction(uid=12993, iid='427730', r_ui=2.0700603637919524, est=2.6202526222986244, details={'was_impossible': False}),\n",
       " Prediction(uid=11169, iid='292140', r_ui=2.961795406761734, est=3.47154193153478, details={'was_impossible': False}),\n",
       " Prediction(uid=25151, iid='291550', r_ui=6.093414373673974, est=6.061394279334431, details={'was_impossible': False}),\n",
       " Prediction(uid=6137, iid='209330', r_ui=3.836353478849464, est=3.665448494104813, details={'was_impossible': False}),\n",
       " Prediction(uid=62478, iid='590720', r_ui=3.3533336095441086, est=3.471020765913048, details={'was_impossible': False}),\n",
       " Prediction(uid=22930, iid='214560', r_ui=4.157297698465957, est=4.068402972923965, details={'was_impossible': False}),\n",
       " Prediction(uid=74120, iid='200710', r_ui=3.9951504505551414, est=4.5341591270336865, details={'was_impossible': False}),\n",
       " Prediction(uid=83909, iid='310360', r_ui=4.14588582722403, est=3.693373170167588, details={'was_impossible': False}),\n",
       " Prediction(uid=79097, iid='35140', r_ui=3.0519431201201828, est=3.7651268993233127, details={'was_impossible': False}),\n",
       " Prediction(uid=21067, iid='271590', r_ui=6.743305137855305, est=6.53467419458292, details={'was_impossible': False}),\n",
       " Prediction(uid=35513, iid='258010', r_ui=4.619429884414213, est=4.5295382825593, details={'was_impossible': False}),\n",
       " Prediction(uid=72869, iid='291550', r_ui=2.5750039608293473, est=2.802092865246905, details={'was_impossible': False}),\n",
       " Prediction(uid=67501, iid='292140', r_ui=2.1984761384405553, est=3.1595529318260427, details={'was_impossible': False}),\n",
       " Prediction(uid=37490, iid='363490', r_ui=1.830405785376798, est=1.8322717275924072, details={'was_impossible': False}),\n",
       " Prediction(uid=62143, iid='209330', r_ui=4.122582109822612, est=3.501181102254046, details={'was_impossible': False}),\n",
       " Prediction(uid=46708, iid='310370', r_ui=0.9152028926883988, est=1.0947596667118924, details={'was_impossible': False}),\n",
       " Prediction(uid=57800, iid='271590', r_ui=4.717549463135681, est=5.478992452416183, details={'was_impossible': False}),\n",
       " Prediction(uid=18907, iid='71240', r_ui=2.5750039608293473, est=2.3548268631416875, details={'was_impossible': False}),\n",
       " Prediction(uid=73780, iid='271590', r_ui=5.466867501487408, est=5.3688361991114, details={'was_impossible': False}),\n",
       " Prediction(uid=28119, iid='271590', r_ui=2.0700603637919524, est=3.007230361900611, details={'was_impossible': False}),\n",
       " Prediction(uid=31647, iid='271590', r_ui=3.720340716039474, est=4.246726834004722, details={'was_impossible': False}),\n",
       " Prediction(uid=17914, iid='389510', r_ui=1.9181767394247318, est=2.2050176679817652, details={'was_impossible': False}),\n",
       " Prediction(uid=66680, iid='291550', r_ui=7.380442701083007, est=7.307149830270765, details={'was_impossible': False}),\n",
       " Prediction(uid=69359, iid='35140', r_ui=4.963686981453602, est=4.484221278406361, details={'was_impossible': False}),\n",
       " Prediction(uid=69893, iid='214250', r_ui=1.4926316282401755, est=2.395924368431764, details={'was_impossible': False}),\n",
       " Prediction(uid=37079, iid='292140', r_ui=3.9004661491687505, est=4.0173297848774645, details={'was_impossible': False}),\n",
       " Prediction(uid=65473, iid='465490', r_ui=3.3968071376954554, est=4.222944108185982, details={'was_impossible': False}),\n",
       " Prediction(uid=10389, iid='548230', r_ui=2.647489099343729, est=2.689002340505754, details={'was_impossible': False}),\n",
       " Prediction(uid=56932, iid='17430', r_ui=4.217412882167314, est=3.5779216380905137, details={'was_impossible': False}),\n",
       " Prediction(uid=39162, iid='292140', r_ui=3.0303041483551088, est=3.346545662956141, details={'was_impossible': False}),\n",
       " Prediction(uid=63443, iid='745880', r_ui=1.1548574711035533, est=1.9516481320524668, details={'was_impossible': False}),\n",
       " Prediction(uid=30829, iid='386480', r_ui=2.5362502955771777, est=2.927876080200855, details={'was_impossible': False}),\n",
       " Prediction(uid=60863, iid='214560', r_ui=4.792201192138532, est=4.265676751200071, details={'was_impossible': False}),\n",
       " Prediction(uid=16114, iid='291550', r_ui=3.6504629460800615, est=3.920542547239763, details={'was_impossible': False}),\n",
       " Prediction(uid=70722, iid='427730', r_ui=1.3407480038729551, est=2.767670200502971, details={'was_impossible': False}),\n",
       " Prediction(uid=76031, iid='19980', r_ui=4.179662896040468, est=3.8067803105661326, details={'was_impossible': False}),\n",
       " Prediction(uid=75054, iid='291550', r_ui=7.050968245443052, est=7.023643320197351, details={'was_impossible': False}),\n",
       " Prediction(uid=14285, iid='427730', r_ui=1.6210474028887787, est=2.1029072358583405, details={'was_impossible': False}),\n",
       " Prediction(uid=27293, iid='350280', r_ui=3.9812659029268342, est=4.043399343430914, details={'was_impossible': False}),\n",
       " Prediction(uid=69275, iid='337000', r_ui=5.134371420549242, est=4.402948838544674, details={'was_impossible': False}),\n",
       " Prediction(uid=56219, iid='274310', r_ui=1.9181767394247318, est=3.417065658171824, details={'was_impossible': False}),\n",
       " Prediction(uid=78433, iid='291550', r_ui=3.7936234166762874, est=4.045359853541573, details={'was_impossible': False}),\n",
       " Prediction(uid=17297, iid='245150', r_ui=2.452875412803332, est=2.6812501858328437, details={'was_impossible': False}),\n",
       " Prediction(uid=5021, iid='385770', r_ui=6.64263954989887, est=6.1647756587030145, details={'was_impossible': False}),\n",
       " Prediction(uid=46022, iid='227940', r_ui=6.272398954132667, est=6.133487514939959, details={'was_impossible': False}),\n",
       " Prediction(uid=42794, iid='296300', r_ui=5.453822979717562, est=4.890730697699556, details={'was_impossible': False}),\n",
       " Prediction(uid=14201, iid='258010', r_ui=3.8279810106543684, est=3.6240473712785377, details={'was_impossible': False}),\n",
       " Prediction(uid=12302, iid='459820', r_ui=5.749516841619324, est=5.662082365295226, details={'was_impossible': False}),\n",
       " Prediction(uid=65558, iid='465490', r_ui=3.3533336095441086, est=3.715256584746335, details={'was_impossible': False}),\n",
       " Prediction(uid=85311, iid='459820', r_ui=4.470145493273437, est=4.227805414231519, details={'was_impossible': False}),\n",
       " Prediction(uid=13639, iid='35140', r_ui=4.022244011618866, est=3.997977824208164, details={'was_impossible': False}),\n",
       " Prediction(uid=39391, iid='214560', r_ui=4.511901793122709, est=4.212936641136852, details={'was_impossible': False}),\n",
       " Prediction(uid=56475, iid='291550', r_ui=5.043672331418945, est=5.178947270205017, details={'was_impossible': False}),\n",
       " Prediction(uid=24115, iid='296300', r_ui=6.034829617290019, est=5.780660969291223, details={'was_impossible': False}),\n",
       " Prediction(uid=57165, iid='385770', r_ui=3.1524326963811236, est=4.067990872597014, details={'was_impossible': False}),\n",
       " Prediction(uid=26188, iid='233270', r_ui=3.2915976985353366, est=3.643283272529488, details={'was_impossible': False}),\n",
       " Prediction(uid=17076, iid='363490', r_ui=1.3407480038729551, est=1.9119712047258008, details={'was_impossible': False}),\n",
       " Prediction(uid=63219, iid='459820', r_ui=2.775904873992332, est=4.174093797817193, details={'was_impossible': False}),\n",
       " Prediction(uid=17517, iid='363490', r_ui=0.5774287355517764, est=1.434105080183509, details={'was_impossible': False}),\n",
       " Prediction(uid=4559, iid='350280', r_ui=4.813093912841388, est=3.930260006013132, details={'was_impossible': False}),\n",
       " Prediction(uid=82370, iid='271590', r_ui=4.14588582722403, est=4.5639786856681255, details={'was_impossible': False}),\n",
       " Prediction(uid=58160, iid='275180', r_ui=4.0925047066933855, est=3.9536688175022423, details={'was_impossible': False}),\n",
       " Prediction(uid=27038, iid='233270', r_ui=3.930762345095885, est=3.676260847074749, details={'was_impossible': False}),\n",
       " Prediction(uid=39508, iid='291550', r_ui=5.477390423383724, est=5.453418846753291, details={'was_impossible': False}),\n",
       " Prediction(uid=65634, iid='344340', r_ui=5.702097993173098, est=5.68631482351697, details={'was_impossible': False}),\n",
       " Prediction(uid=45542, iid='291550', r_ui=6.508466644021422, est=6.228084214414899, details={'was_impossible': False}),\n",
       " Prediction(uid=52660, iid='35140', r_ui=4.326011260353306, est=4.14861860703426, details={'was_impossible': False}),\n",
       " Prediction(uid=9435, iid='271590', r_ui=7.289391926533949, est=6.511601435256089, details={'was_impossible': False}),\n",
       " Prediction(uid=53532, iid='271590', r_ui=6.665836428272858, est=6.249713030510625, details={'was_impossible': False}),\n",
       " Prediction(uid=32625, iid='369990', r_ui=4.3841028667608954, est=4.620209219235716, details={'was_impossible': False}),\n",
       " Prediction(uid=1040, iid='350280', r_ui=2.8051378233510755, est=3.573003626298425, details={'was_impossible': False}),\n",
       " Prediction(uid=33868, iid='300400', r_ui=1.3407480038729551, est=2.0588910028861838, details={'was_impossible': False}),\n",
       " Prediction(uid=33161, iid='292140', r_ui=3.700966503911011, est=3.919245749307103, details={'was_impossible': False}),\n",
       " Prediction(uid=50390, iid='385770', r_ui=5.277439580926165, est=4.067990872597014, details={'was_impossible': False}),\n",
       " Prediction(uid=65363, iid='427730', r_ui=3.438124046733747, est=3.405826395960681, details={'was_impossible': False}),\n",
       " Prediction(uid=18546, iid='274230', r_ui=3.5150759711416093, est=3.4021129968266797, details={'was_impossible': False}),\n",
       " Prediction(uid=82518, iid='271590', r_ui=7.033029504982914, est=6.44113854725968, details={'was_impossible': False}),\n",
       " Prediction(uid=47423, iid='71240', r_ui=3.0080880698310715, est=2.9124536937403165, details={'was_impossible': False}),\n",
       " Prediction(uid=80953, iid='350280', r_ui=3.2073792171342133, est=3.3215711223458126, details={'was_impossible': False}),\n",
       " Prediction(uid=6867, iid='224500', r_ui=5.391811207928109, est=5.317087528241745, details={'was_impossible': False}),\n",
       " Prediction(uid=37855, iid='310370', r_ui=0.9152028926883988, est=1.070260618180091, details={'was_impossible': False}),\n",
       " Prediction(uid=55992, iid='274230', r_ui=3.4774882313047386, est=3.604750596772989, details={'was_impossible': False}),\n",
       " Prediction(uid=70652, iid='35140', r_ui=6.096182915847411, est=4.684666141782744, details={'was_impossible': False}),\n",
       " Prediction(uid=22904, iid='271590', r_ui=6.953990016581548, est=6.114581640500865, details={'was_impossible': False}),\n",
       " Prediction(uid=80623, iid='292140', r_ui=5.177101482722419, est=4.898306671908412, details={'was_impossible': False}),\n",
       " Prediction(uid=52020, iid='350280', r_ui=4.190624285414854, est=4.1569532381969285, details={'was_impossible': False}),\n",
       " Prediction(uid=7456, iid='296300', r_ui=2.8051378233510755, est=3.221343952761724, details={'was_impossible': False}),\n",
       " Prediction(uid=12077, iid='291550', r_ui=4.963686981453602, est=4.9819738096684185, details={'was_impossible': False}),\n",
       " Prediction(uid=77975, iid='417290', r_ui=3.46457241331066, est=3.341495472564718, details={'was_impossible': False}),\n",
       " Prediction(uid=38691, iid='234710', r_ui=4.162945540934625, est=3.842854012521445, details={'was_impossible': False}),\n",
       " Prediction(uid=73750, iid='427730', r_ui=1.7322862066553297, est=1.9100590830345916, details={'was_impossible': False}),\n",
       " Prediction(uid=9731, iid='42850', r_ui=0.0, est=1.7254122972282322, details={'was_impossible': False}),\n",
       " Prediction(uid=47060, iid='214250', r_ui=2.1367402274317833, est=3.1498148786645563, details={'was_impossible': False}),\n",
       " Prediction(uid=2004, iid='461560', r_ui=1.830405785376798, est=1.7659503269609411, details={'was_impossible': False}),\n",
       " Prediction(uid=69648, iid='345120', r_ui=0.5774287355517764, est=2.8785290007060627, details={'was_impossible': False}),\n",
       " Prediction(uid=26820, iid='369990', r_ui=4.179662896040468, est=4.322185411602073, details={'was_impossible': False}),\n",
       " Prediction(uid=18545, iid='350280', r_ui=4.930755674973923, est=4.575464415427796, details={'was_impossible': False}),\n",
       " Prediction(uid=26640, iid='350280', r_ui=4.168555350505656, est=3.845225883434279, details={'was_impossible': False}),\n",
       " Prediction(uid=24406, iid='214560', r_ui=3.8279810106543684, est=4.064266066228552, details={'was_impossible': False}),\n",
       " Prediction(uid=4467, iid='291550', r_ui=5.472729971658093, est=5.47776385964054, details={'was_impossible': False}),\n",
       " Prediction(uid=32401, iid='292140', r_ui=6.0431187759622444, est=4.2159099360563035, details={'was_impossible': False}),\n",
       " Prediction(uid=16961, iid='108210', r_ui=0.0, est=1.7604132373108556, details={'was_impossible': False}),\n",
       " Prediction(uid=27689, iid='233550', r_ui=0.5774287355517764, est=1.591226581884619, details={'was_impossible': False}),\n",
       " Prediction(uid=48163, iid='357300', r_ui=4.042001148862436, est=3.640911897455479, details={'was_impossible': False}),\n",
       " Prediction(uid=45431, iid='350280', r_ui=1.830405785376798, est=2.155296309816844, details={'was_impossible': False}),\n",
       " Prediction(uid=63827, iid='357300', r_ui=3.46457241331066, est=3.2579336243999744, details={'was_impossible': False}),\n",
       " Prediction(uid=74460, iid='359900', r_ui=4.1106811420903435, est=3.9406802769370057, details={'was_impossible': False}),\n",
       " ...]"
      ]
     },
     "metadata": {},
     "execution_count": 32
    }
   ],
   "source": [
    "## el test solo predice lo que ya tiene un rating. No predice nada nuevo\n",
    "predictions2"
   ]
  },
  {
   "cell_type": "code",
   "execution_count": 33,
   "metadata": {
    "tags": []
   },
   "outputs": [],
   "source": [
    "from collections import defaultdict\n",
    "from surprise import Dataset\n",
    "\n",
    "def get_top_n(predictions, n=10):\n",
    "    \"\"\"Return the top-N recommendation for each user from a set of predictions.\n",
    "\n",
    "    Args:\n",
    "        predictionsn(list of Prediction objects): The list of predictions, as\n",
    "            returned by the test method of an algorithm.\n",
    "        n(int): The number of recommendation to output for each user. Default\n",
    "            is 10.\n",
    "\n",
    "    Returns:\n",
    "    A dict where keys are user (raw) ids and values are lists of tuples:\n",
    "        [(raw item id, rating estimation), ...] of size n.\n",
    "    \"\"\"\n",
    "\n",
    "    # First map the predictions to each user.\n",
    "    top_n = defaultdict(list)\n",
    "    for uid, iid, true_r, est, _ in predictions:\n",
    "        top_n[uid].append((iid, est))\n",
    "\n",
    "    # Then sort the predictions for each user and retrieve the k highest ones.\n",
    "    for uid, user_ratings in top_n.items():\n",
    "        user_ratings.sort(key=lambda x: x[1], reverse=True)\n",
    "        top_n[uid] = user_ratings[:n]\n",
    "    ## see how many reviews they have\n",
    "        if len(user_ratings) != 1:\n",
    "            top_n[uid].append(f'p-{len(user_ratings)}') \n",
    "\n",
    "    return top_n\n",
    "\n",
    "\n",
    "# First train an SVD algorithm on the movielens dataset.\n",
    "# data = Dataset.load_builtin('ml-100k')\n",
    "# trainset = data.build_full_trainset()\n",
    "# algo = SVD()\n",
    "# algo.fit(trainset)\n",
    "\n",
    "# # Than predict ratings for all pairs (u, i) that are NOT in the training set.\n",
    "# testset = trainset.build_anti_testset()\n",
    "# predictions = algo.test(testset)\n",
    "\n"
   ]
  },
  {
   "cell_type": "code",
   "execution_count": 34,
   "metadata": {
    "tags": []
   },
   "outputs": [],
   "source": [
    "# top_n = get_top_n(predictions2, n=10)\n",
    "\n",
    "# # Print the recommended items for each user\n",
    "# # for uid, user_ratings in top_n.items():\n",
    "# #     print(uid, [iid for (iid, _) in user_ratings])\n",
    "# top_n"
   ]
  },
  {
   "cell_type": "code",
   "execution_count": 35,
   "metadata": {},
   "outputs": [],
   "source": [
    "### definir funcion para que prediga un numero de peliculas al azar\n",
    "### con el dataset\n",
    "import random\n",
    "from icecream import ic\n",
    "def predecir(dataset,\n",
    "            algo,\n",
    "            n_random_games=15,\n",
    "            n_random_users=50,\n",
    "            top=5,\n",
    "            game_ids=0,\n",
    "            user_ids=0,\n",
    "            predicts=10):\n",
    "    '''\n",
    "    Esta funcion crea un diccionario con predicciones que los usuarios no han \n",
    "        rateado.\n",
    "    - num_predicts: es el numero de predicciones que hacer para cada usuario\n",
    "    - user_ids: el id de las personas, si rand_users es True, no hay que poner            user_ids.\n",
    "    - rand_users: si coger a usuers al azar para hacer predicciones.\n",
    "    - dataset: el dataset con las predicciones con las que se entrena el modelo. en       nuestro caso \"df_reader\".\n",
    "    - algo: el algoritmo que se va a use. En nuesto caso \"algo2\".\n",
    "    '''\n",
    "    predicted = defaultdict(list)\n",
    "    ## if the input is empty or 0 get random get random items\n",
    "    total_games = len(dataset.product_id.value_counts().index)\n",
    "    total_users = len(dataset.user.value_counts().index)\n",
    "    if game_ids==0:\n",
    "        if n_random_games > total_games:\n",
    "            n_random_games = total_games\n",
    "        j = dataset.product_id.value_counts().index\n",
    "        game_ids=random.sample(list(j), n_random_games)\n",
    "    if user_ids==0:\n",
    "        if n_random_users > total_users:\n",
    "            n_random_users = toatl_users\n",
    "        u = dataset.user.value_counts().index\n",
    "        user_ids = random.sample(list(u), n_random_users)\n",
    "\n",
    "    ### loop trough users and games and append to 'predicted'\n",
    "    for user in user_ids:\n",
    "        for game in game_ids:\n",
    "            ## skipear si ya habia rateado el juego\n",
    "            v = dataset.loc[(dataset.user == user) & (dataset.product_id == game)]\n",
    "            if len(v) == 0:\n",
    "                ## predict and append the predictions\n",
    "                pred = algo2.predict(user, game)\n",
    "                predicted[pred[0]].append((pred[1],pred[3]))\n",
    "\n",
    "    # sort the predictions for each user\n",
    "    for uid, user_ratings in predicted.items():\n",
    "        user_ratings.sort(key=lambda x: x[1], reverse=True)\n",
    "        predicted[uid] = user_ratings[:top]\n",
    "\n",
    "    return predicted\n",
    "\n"
   ]
  },
  {
   "cell_type": "markdown",
   "metadata": {},
   "source": [
    "- Mirar si hay correlación entre categorías de juegos recomendados según las predicciones encontradas\n",
    "- Agregar datos al dataset \n",
    "- eliminar duplicados"
   ]
  },
  {
   "cell_type": "code",
   "execution_count": 36,
   "metadata": {},
   "outputs": [
    {
     "output_type": "execute_result",
     "data": {
      "text/plain": [
       "                 publisher                                 genres  \\\n",
       "27465  Solecismic Software  [Indie, Simulation, Sports, Strategy]   \n",
       "\n",
       "                          app_name                        title  \\\n",
       "27465  Front Office Football Seven  Front Office Football Seven   \n",
       "\n",
       "                                                     url release_date  \\\n",
       "27465  http://store.steampowered.com/app/344340/Front...   2014-11-21   \n",
       "\n",
       "                                                    tags  discount_price  \\\n",
       "27465  [Sports, Simulation, Strategy, Indie, Manageme...             NaN   \n",
       "\n",
       "                                             reviews_url  \\\n",
       "27465  http://steamcommunity.com/app/344340/reviews/?...   \n",
       "\n",
       "                                                   specs  price  early_access  \\\n",
       "27465  [Single-player, Multi-player, Steam Achievements]  18.99         False   \n",
       "\n",
       "           id            developer      sentiment metascore  \n",
       "27465  344340  Solecismic Software  Very Positive       NaN  "
      ],
      "text/html": "<div>\n<style scoped>\n    .dataframe tbody tr th:only-of-type {\n        vertical-align: middle;\n    }\n\n    .dataframe tbody tr th {\n        vertical-align: top;\n    }\n\n    .dataframe thead th {\n        text-align: right;\n    }\n</style>\n<table border=\"1\" class=\"dataframe\">\n  <thead>\n    <tr style=\"text-align: right;\">\n      <th></th>\n      <th>publisher</th>\n      <th>genres</th>\n      <th>app_name</th>\n      <th>title</th>\n      <th>url</th>\n      <th>release_date</th>\n      <th>tags</th>\n      <th>discount_price</th>\n      <th>reviews_url</th>\n      <th>specs</th>\n      <th>price</th>\n      <th>early_access</th>\n      <th>id</th>\n      <th>developer</th>\n      <th>sentiment</th>\n      <th>metascore</th>\n    </tr>\n  </thead>\n  <tbody>\n    <tr>\n      <th>27465</th>\n      <td>Solecismic Software</td>\n      <td>[Indie, Simulation, Sports, Strategy]</td>\n      <td>Front Office Football Seven</td>\n      <td>Front Office Football Seven</td>\n      <td>http://store.steampowered.com/app/344340/Front...</td>\n      <td>2014-11-21</td>\n      <td>[Sports, Simulation, Strategy, Indie, Manageme...</td>\n      <td>NaN</td>\n      <td>http://steamcommunity.com/app/344340/reviews/?...</td>\n      <td>[Single-player, Multi-player, Steam Achievements]</td>\n      <td>18.99</td>\n      <td>False</td>\n      <td>344340</td>\n      <td>Solecismic Software</td>\n      <td>Very Positive</td>\n      <td>NaN</td>\n    </tr>\n  </tbody>\n</table>\n</div>"
     },
     "metadata": {},
     "execution_count": 36
    }
   ],
   "source": [
    "    df_games.loc[df_games.id == str(344340)]"
   ]
  },
  {
   "cell_type": "code",
   "execution_count": 37,
   "metadata": {},
   "outputs": [
    {
     "output_type": "error",
     "ename": "SyntaxError",
     "evalue": "invalid syntax (<ipython-input-37-321e7944645c>, line 7)",
     "traceback": [
      "\u001b[1;36m  File \u001b[1;32m\"<ipython-input-37-321e7944645c>\"\u001b[1;36m, line \u001b[1;32m7\u001b[0m\n\u001b[1;33m    for user.\u001b[0m\n\u001b[1;37m             ^\u001b[0m\n\u001b[1;31mSyntaxError\u001b[0m\u001b[1;31m:\u001b[0m invalid syntax\n"
     ]
    }
   ],
   "source": [
    "def traducir(preds):\n",
    "    for user in preds:\n",
    "        ## coger el username por medio de los indices\n",
    "        index_num_user = df_reader.loc[df_reader.user == user].index\n",
    "        username = df_reader_og.iloc[index_num_user]\n",
    "        ## coger el titulo del juego\n",
    "        for user.\n",
    "        juego_id = preds[user][0][0]\n",
    "        df_reader.loc[df_games.id =  ]\n"
   ]
  },
  {
   "cell_type": "code",
   "execution_count": null,
   "metadata": {},
   "outputs": [],
   "source": [
    "\"\"\"\n",
    "Funcion que traduce y crea un data frame yq ue lo guarda localmente\n",
    "Organizar todo y ver que mas falta\n",
    "\"\"\""
   ]
  }
 ],
 "metadata": {
  "interpreter": {
   "hash": "5464eb21809c0cc73dea0a6cf61ef67e354cfa1f4fb3b2575d33203c8d260870"
  },
  "kernelspec": {
   "name": "python3",
   "display_name": "Python 3.7.10 64-bit ('data': conda)"
  },
  "language_info": {
   "codemirror_mode": {
    "name": "ipython",
    "version": 3
   },
   "file_extension": ".py",
   "mimetype": "text/x-python",
   "name": "python",
   "nbconvert_exporter": "python",
   "pygments_lexer": "ipython3",
   "version": "3.7.10"
  }
 },
 "nbformat": 4,
 "nbformat_minor": 5
}