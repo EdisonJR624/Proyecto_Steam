{
 "cells": [
  {
   "cell_type": "code",
   "execution_count": null,
   "source": [],
   "outputs": [],
   "metadata": {}
  },
  {
   "cell_type": "code",
   "execution_count": null,
   "source": [],
   "outputs": [],
   "metadata": {}
  },
  {
   "cell_type": "code",
   "execution_count": 36,
   "source": [
    "import numpy as np\r\n",
    "import pandas as pd\r\n",
    "import matplotlib.pyplot as plt\r\n",
    "import seaborn as sns\r\n",
    "\r\n",
    "## ram\r\n",
    "import gzip\r\n",
    "import gc #garbage collector\r\n",
    "\r\n",
    "# Surprise\r\n",
    "from surprise import Reader, Dataset, SVD, accuracy\r\n",
    "from surprise.model_selection import cross_validate"
   ],
   "outputs": [],
   "metadata": {}
  },
  {
   "cell_type": "code",
   "execution_count": 6,
   "source": [
    "## function para leer cada linea de los datos comprimidos\r\n",
    "def parse(path):\r\n",
    "    g = gzip.open(path, 'r')\r\n",
    "    for l in g:\r\n",
    "        yield eval(l)"
   ],
   "outputs": [],
   "metadata": {}
  },
  {
   "cell_type": "code",
   "execution_count": 7,
   "source": [
    "#### Importar los datos de las caracteristicas de los juegos\r\n",
    "\r\n",
    "## Funcion que da acamica para abrir solo cada cierta cantidad de datos.\r\n",
    "'''\r\n",
    "contador = 0\r\n",
    "data_reviews = []\r\n",
    "# Vamos a guardar una de cada 10 reviews para no llenar la memoria RAM. Si pones n = 3, \r\n",
    "# abrira uno de cada tres, y asi.\r\n",
    "n = 10\r\n",
    "for l in parse('steam_reviews.json.gz'):\r\n",
    "    if contador%n == 0:\r\n",
    "        data_reviews.append(l)\r\n",
    "    else:\r\n",
    "        pass\r\n",
    "    contador += 1\r\n",
    "'''\r\n",
    "## Funcion para coger solo una cantidad de datos en orden\r\n",
    "data_games = []\r\n",
    "num = 100000\r\n",
    "for i, l in enumerate(parse('datos\\steam_games.json.gz')):\r\n",
    "    data_games.append(l)\r\n",
    "    if i == num:\r\n",
    "        break"
   ],
   "outputs": [],
   "metadata": {}
  },
  {
   "cell_type": "code",
   "execution_count": 8,
   "source": [
    "#### Importar los datos de las reviews\r\n",
    "\r\n",
    "## Funcion que da acamica para abrir solo cada cierta cantidad de datos.\r\n",
    "'''\r\n",
    "contador = 0\r\n",
    "data_reviews = []\r\n",
    "# Vamos a guardar una de cada 10 reviews para no llenar la memoria RAM. Si pones n = 3, \r\n",
    "# abrira uno de cada tres, y asi.\r\n",
    "n = 10\r\n",
    "for l in parse('steam_reviews.json.gz'):\r\n",
    "    if contador%n == 0:\r\n",
    "        data_reviews.append(l)\r\n",
    "    else:\r\n",
    "        pass\r\n",
    "    contador += 1\r\n",
    "'''\r\n",
    "## Funcion para coger solo una cantidad de datos en orden\r\n",
    "data_reviews = []\r\n",
    "num = 100000\r\n",
    "for i, l in enumerate(parse('datos\\steam_reviews.json.gz')):\r\n",
    "    data_reviews.append(l)\r\n",
    "    if i == num:\r\n",
    "        break"
   ],
   "outputs": [],
   "metadata": {}
  },
  {
   "cell_type": "code",
   "execution_count": 9,
   "source": [
    "## Crear un data frame con los datos\r\n",
    "df_games = pd.DataFrame(data_games)\r\n",
    "df_rev = pd.DataFrame(data_reviews)\r\n",
    "# df_rev.head()\r\n",
    "# df_games.head()"
   ],
   "outputs": [],
   "metadata": {}
  },
  {
   "cell_type": "markdown",
   "source": [
    "# Analisis exploratorio de datos"
   ],
   "metadata": {}
  },
  {
   "cell_type": "code",
   "execution_count": 10,
   "source": [
    "df_rev.info()"
   ],
   "outputs": [
    {
     "output_type": "stream",
     "name": "stdout",
     "text": [
      "<class 'pandas.core.frame.DataFrame'>\n",
      "RangeIndex: 100001 entries, 0 to 100000\n",
      "Data columns (total 12 columns):\n",
      " #   Column        Non-Null Count   Dtype  \n",
      "---  ------        --------------   -----  \n",
      " 0   username      100001 non-null  object \n",
      " 1   hours         99854 non-null   float64\n",
      " 2   products      99854 non-null   float64\n",
      " 3   product_id    100001 non-null  object \n",
      " 4   page_order    100001 non-null  int64  \n",
      " 5   date          100001 non-null  object \n",
      " 6   text          100001 non-null  object \n",
      " 7   early_access  100001 non-null  bool   \n",
      " 8   page          100001 non-null  int64  \n",
      " 9   found_funny   17263 non-null   float64\n",
      " 10  compensation  2523 non-null    object \n",
      " 11  user_id       39258 non-null   object \n",
      "dtypes: bool(1), float64(3), int64(2), object(6)\n",
      "memory usage: 8.5+ MB\n"
     ]
    }
   ],
   "metadata": {}
  },
  {
   "cell_type": "markdown",
   "source": [
    "## Analisis de datos de info games\r\n",
    "- Se ve que las variables de discount_price y las de metascore faltan mucho\r\n",
    "- Se observa que esta la feature \"sentiment\" que nos dice el rating general de el juego\r\n",
    "- El nombre del juego es la feature 'title' pero tambien \"app name\" se puede usar como substituto\r\n",
    "- los atributos generos y tags son muy parecidos entre si, solo que genero es solamente tiene los generos de los juegos, pero por esta razon tiene mas naans que tags\r\n",
    "- Hay caracteres no occidentales y emojis asi que hay que tener cuidado con los errores de encoding"
   ],
   "metadata": {}
  },
  {
   "cell_type": "code",
   "execution_count": 11,
   "source": [
    "df_rev.info()\r\n",
    "df_rev.head()"
   ],
   "outputs": [
    {
     "output_type": "stream",
     "name": "stdout",
     "text": [
      "<class 'pandas.core.frame.DataFrame'>\n",
      "RangeIndex: 100001 entries, 0 to 100000\n",
      "Data columns (total 12 columns):\n",
      " #   Column        Non-Null Count   Dtype  \n",
      "---  ------        --------------   -----  \n",
      " 0   username      100001 non-null  object \n",
      " 1   hours         99854 non-null   float64\n",
      " 2   products      99854 non-null   float64\n",
      " 3   product_id    100001 non-null  object \n",
      " 4   page_order    100001 non-null  int64  \n",
      " 5   date          100001 non-null  object \n",
      " 6   text          100001 non-null  object \n",
      " 7   early_access  100001 non-null  bool   \n",
      " 8   page          100001 non-null  int64  \n",
      " 9   found_funny   17263 non-null   float64\n",
      " 10  compensation  2523 non-null    object \n",
      " 11  user_id       39258 non-null   object \n",
      "dtypes: bool(1), float64(3), int64(2), object(6)\n",
      "memory usage: 8.5+ MB\n"
     ]
    },
    {
     "output_type": "execute_result",
     "data": {
      "text/plain": [
       "         username  hours  products product_id  page_order        date  \\\n",
       "0     Chaos Syren    0.1      41.0     725280           0  2017-12-17   \n",
       "1      ₮ʜᴇ Wᴀʀᴛᴏɴ   51.1     769.0     328100           0  2017-12-27   \n",
       "2         hello?<   14.6       2.0     328100           1  2017-10-16   \n",
       "3     Cyderine916    5.0      64.0      35140           0  2018-01-04   \n",
       "4  DarklyThinking   16.6     577.0      35140           1  2018-01-04   \n",
       "\n",
       "                                                text  early_access  page  \\\n",
       "0  This would not be acceptable as an entertainme...         False     1   \n",
       "1                         looks like a facebook game         False     1   \n",
       "2                              Better than Minecraft         False     1   \n",
       "3  I love and idolized Batman and this game is Ma...         False     1   \n",
       "4  Still worth playing in 2018.\\nProbably my favo...         False     1   \n",
       "\n",
       "   found_funny               compensation            user_id  \n",
       "0          NaN                        NaN                NaN  \n",
       "1          NaN                        NaN                NaN  \n",
       "2          2.0  Product received for free                NaN  \n",
       "3          NaN                        NaN                NaN  \n",
       "4          NaN                        NaN  76561198007483075  "
      ],
      "text/html": [
       "<div>\n",
       "<style scoped>\n",
       "    .dataframe tbody tr th:only-of-type {\n",
       "        vertical-align: middle;\n",
       "    }\n",
       "\n",
       "    .dataframe tbody tr th {\n",
       "        vertical-align: top;\n",
       "    }\n",
       "\n",
       "    .dataframe thead th {\n",
       "        text-align: right;\n",
       "    }\n",
       "</style>\n",
       "<table border=\"1\" class=\"dataframe\">\n",
       "  <thead>\n",
       "    <tr style=\"text-align: right;\">\n",
       "      <th></th>\n",
       "      <th>username</th>\n",
       "      <th>hours</th>\n",
       "      <th>products</th>\n",
       "      <th>product_id</th>\n",
       "      <th>page_order</th>\n",
       "      <th>date</th>\n",
       "      <th>text</th>\n",
       "      <th>early_access</th>\n",
       "      <th>page</th>\n",
       "      <th>found_funny</th>\n",
       "      <th>compensation</th>\n",
       "      <th>user_id</th>\n",
       "    </tr>\n",
       "  </thead>\n",
       "  <tbody>\n",
       "    <tr>\n",
       "      <th>0</th>\n",
       "      <td>Chaos Syren</td>\n",
       "      <td>0.1</td>\n",
       "      <td>41.0</td>\n",
       "      <td>725280</td>\n",
       "      <td>0</td>\n",
       "      <td>2017-12-17</td>\n",
       "      <td>This would not be acceptable as an entertainme...</td>\n",
       "      <td>False</td>\n",
       "      <td>1</td>\n",
       "      <td>NaN</td>\n",
       "      <td>NaN</td>\n",
       "      <td>NaN</td>\n",
       "    </tr>\n",
       "    <tr>\n",
       "      <th>1</th>\n",
       "      <td>₮ʜᴇ Wᴀʀᴛᴏɴ</td>\n",
       "      <td>51.1</td>\n",
       "      <td>769.0</td>\n",
       "      <td>328100</td>\n",
       "      <td>0</td>\n",
       "      <td>2017-12-27</td>\n",
       "      <td>looks like a facebook game</td>\n",
       "      <td>False</td>\n",
       "      <td>1</td>\n",
       "      <td>NaN</td>\n",
       "      <td>NaN</td>\n",
       "      <td>NaN</td>\n",
       "    </tr>\n",
       "    <tr>\n",
       "      <th>2</th>\n",
       "      <td>hello?&lt;</td>\n",
       "      <td>14.6</td>\n",
       "      <td>2.0</td>\n",
       "      <td>328100</td>\n",
       "      <td>1</td>\n",
       "      <td>2017-10-16</td>\n",
       "      <td>Better than Minecraft</td>\n",
       "      <td>False</td>\n",
       "      <td>1</td>\n",
       "      <td>2.0</td>\n",
       "      <td>Product received for free</td>\n",
       "      <td>NaN</td>\n",
       "    </tr>\n",
       "    <tr>\n",
       "      <th>3</th>\n",
       "      <td>Cyderine916</td>\n",
       "      <td>5.0</td>\n",
       "      <td>64.0</td>\n",
       "      <td>35140</td>\n",
       "      <td>0</td>\n",
       "      <td>2018-01-04</td>\n",
       "      <td>I love and idolized Batman and this game is Ma...</td>\n",
       "      <td>False</td>\n",
       "      <td>1</td>\n",
       "      <td>NaN</td>\n",
       "      <td>NaN</td>\n",
       "      <td>NaN</td>\n",
       "    </tr>\n",
       "    <tr>\n",
       "      <th>4</th>\n",
       "      <td>DarklyThinking</td>\n",
       "      <td>16.6</td>\n",
       "      <td>577.0</td>\n",
       "      <td>35140</td>\n",
       "      <td>1</td>\n",
       "      <td>2018-01-04</td>\n",
       "      <td>Still worth playing in 2018.\\nProbably my favo...</td>\n",
       "      <td>False</td>\n",
       "      <td>1</td>\n",
       "      <td>NaN</td>\n",
       "      <td>NaN</td>\n",
       "      <td>76561198007483075</td>\n",
       "    </tr>\n",
       "  </tbody>\n",
       "</table>\n",
       "</div>"
      ]
     },
     "metadata": {},
     "execution_count": 11
    }
   ],
   "metadata": {}
  },
  {
   "cell_type": "code",
   "execution_count": 12,
   "source": [
    "len(df_rev[df_rev.duplicated(subset=['username'],keep=False)])"
   ],
   "outputs": [
    {
     "output_type": "execute_result",
     "data": {
      "text/plain": [
       "23665"
      ]
     },
     "metadata": {},
     "execution_count": 12
    }
   ],
   "metadata": {}
  },
  {
   "cell_type": "markdown",
   "source": [
    "# Analisis de Features datos de review\r\n",
    "- hay que usar los datos de username para identificar a los usuarios (creo que los nombres son unicos). Hay que ver de alguna manera si dos personas pueden tener el mismo username.\r\n",
    "- El 2.7 porciento del dataset es de personas que hacen varias reviews (Hacer graficos con el numero de reviews que hace una persona)\r\n",
    "- La feature \"text\" puede servir para hacer un analisis de sentimiento\r\n",
    "- El numero de horas jugadas puede encodearse para utilizarlo como un suplente de rating"
   ],
   "metadata": {}
  },
  {
   "cell_type": "code",
   "execution_count": null,
   "source": [],
   "outputs": [],
   "metadata": {}
  },
  {
   "cell_type": "markdown",
   "source": [
    "# Graficos\r\n",
    "- Coger mas datos a la manera de acamica. \r\n",
    "Para hacer estos graficos necesitamos una dataset mas grande y representativo. Tendremos que usar la funcion que lee una row del dataset cada cierto numero de lines(la funcion que nos da acamica) para evitar solo coger datos de cierto tipo de juegos. Como las reviews estan en un orden, al usar la funcion de datos podriamo accidentalmente, y si las suerte no nos acompaña, escoger un tipo de juego que no represente la totalidad de los juegos, por ejemplog, que en los 1000 datos ordenas cojamos solo los juegod free-to-play, o los juegos indies, que posiblemente tengan reviews mas bajas que otros..\r\n",
    "\r\n",
    "\r\n",
    "- Hacer un grafico de las horas jugadas del juego #todo\r\n",
    "- Hacer un grafico de el numero de reviews que hace la gente #todo"
   ],
   "metadata": {}
  },
  {
   "cell_type": "markdown",
   "source": [
    "## PARA HACER\r\n",
    "- Podemos usar el target como la combinacion de el numero de horas jugadas combinado con el analisis de sentimiento de la review. (primero hacer con el encoding ) #todo"
   ],
   "metadata": {}
  },
  {
   "cell_type": "code",
   "execution_count": 27,
   "source": [
    "### borrar los nan en horas jugadas\r\n",
    "#df_rev.hours.isna().sum()\r\n",
    "df_rev.dropna(subset=['hours'], inplace=True)"
   ],
   "outputs": [],
   "metadata": {}
  },
  {
   "cell_type": "code",
   "execution_count": 28,
   "source": [
    "df_rev.hours.isna().sum()"
   ],
   "outputs": [
    {
     "output_type": "execute_result",
     "data": {
      "text/plain": [
       "0"
      ]
     },
     "metadata": {},
     "execution_count": 28
    }
   ],
   "metadata": {}
  },
  {
   "cell_type": "code",
   "execution_count": 29,
   "source": [
    "#### encoding de datos\r\n",
    "df_rev.hours\r\n",
    "plt.hist(x=df_rev.hours, bins=100, density=True, range=(0,100))\r\n",
    "plt.xlim([0,100])"
   ],
   "outputs": [
    {
     "output_type": "execute_result",
     "data": {
      "text/plain": [
       "(0.0, 100.0)"
      ]
     },
     "metadata": {},
     "execution_count": 29
    },
    {
     "output_type": "display_data",
     "data": {
      "text/plain": [
       "<Figure size 432x288 with 1 Axes>"
      ],
      "image/png": "[encoded data removed]"
     },
     "metadata": {
      "needs_background": "light"
     }
    }
   ],
   "metadata": {}
  },
  {
   "cell_type": "code",
   "execution_count": 30,
   "source": [
    "plt.hist(x=df_rev.hours, bins=100, density=True, range=(0,50))\r\n",
    "plt.xlim([0,50])"
   ],
   "outputs": [
    {
     "output_type": "execute_result",
     "data": {
      "text/plain": [
       "(0.0, 50.0)"
      ]
     },
     "metadata": {},
     "execution_count": 30
    },
    {
     "output_type": "display_data",
     "data": {
      "text/plain": [
       "<Figure size 432x288 with 1 Axes>"
      ],
      "image/png": "[encoded data removed]"
     },
     "metadata": {
      "needs_background": "light"
     }
    }
   ],
   "metadata": {}
  },
  {
   "cell_type": "code",
   "execution_count": 31,
   "source": [
    "## lo que tenemos aqui es sin duda una power law que vamos a encodear\r\n",
    "## de una manera especial.\r\n",
    "## normalizar con log\r\n",
    "df_rev['log_hours'] = np.log(df_rev.hours)"
   ],
   "outputs": [
    {
     "output_type": "stream",
     "name": "stderr",
     "text": [
      "C:\\Users\\andre\\.conda\\envs\\data2\\lib\\site-packages\\pandas\\core\\arraylike.py:364: RuntimeWarning: invalid value encountered in log\n",
      "  result = getattr(ufunc, method)(*inputs, **kwargs)\n"
     ]
    }
   ],
   "metadata": {}
  },
  {
   "cell_type": "code",
   "execution_count": 32,
   "source": [
    "## escalado logaritmico\r\n",
    "plt.hist(x=df_rev.log_hours, bins=100, density=True, range=(-10,10))\r\n",
    "plt.xlim([-10,10])"
   ],
   "outputs": [
    {
     "output_type": "execute_result",
     "data": {
      "text/plain": [
       "(-10.0, 10.0)"
      ]
     },
     "metadata": {},
     "execution_count": 32
    },
    {
     "output_type": "display_data",
     "data": {
      "text/plain": [
       "<Figure size 432x288 with 1 Axes>"
      ],
      "image/png": "[encoded data removed]"
     },
     "metadata": {
      "needs_background": "light"
     }
    }
   ],
   "metadata": {}
  },
  {
   "cell_type": "code",
   "execution_count": 33,
   "source": [
    "from sklearn.preprocessing import MinMaxScaler\r\n",
    "scaler = MinMaxScaler(feature_range=(0,10))\r\n",
    "dataset = scaler.fit_transform(np.asarray(df_rev.log_hours).reshape(-1, 1))"
   ],
   "outputs": [],
   "metadata": {}
  },
  {
   "cell_type": "code",
   "execution_count": 34,
   "source": [
    "df_rev['escalados'] = dataset"
   ],
   "outputs": [],
   "metadata": {}
  },
  {
   "cell_type": "code",
   "execution_count": 35,
   "source": [
    "# quedan raros los datos\r\n",
    "plt.hist(x=df_rev.escalados, bins=100)\r\n",
    "plt.show()"
   ],
   "outputs": [
    {
     "output_type": "display_data",
     "data": {
      "text/plain": [
       "<Figure size 432x288 with 1 Axes>"
      ],
      "image/png": "[encoded data removed]"
     },
     "metadata": {
      "needs_background": "light"
     }
    }
   ],
   "metadata": {}
  },
  {
   "cell_type": "code",
   "execution_count": 99,
   "source": [
    "#### meterlos al surprise\r\n",
    "# from surprise import Reader, Dataset, SVD, accuracy\r\n",
    "# from surprise.model_selection import cross_validate\r\n",
    "# columnas user; item; rating; timestamp\r\n",
    "# dataset  username; product_id; escalado; date\r\n",
    "df_reader = df_rev[['username', 'product_id', 'escalados']] #date lacking\r\n",
    "df_reader.dropna(inplace=True)"
   ],
   "outputs": [
    {
     "output_type": "stream",
     "name": "stderr",
     "text": [
      "C:\\Users\\andre\\.conda\\envs\\data2\\lib\\site-packages\\pandas\\util\\_decorators.py:311: SettingWithCopyWarning: \n",
      "A value is trying to be set on a copy of a slice from a DataFrame\n",
      "\n",
      "See the caveats in the documentation: https://pandas.pydata.org/pandas-docs/stable/user_guide/indexing.html#returning-a-view-versus-a-copy\n",
      "  return func(*args, **kwargs)\n"
     ]
    }
   ],
   "metadata": {}
  },
  {
   "cell_type": "code",
   "execution_count": 100,
   "source": [
    "array = df_reader.username.astype(str)"
   ],
   "outputs": [],
   "metadata": {}
  },
  {
   "cell_type": "code",
   "execution_count": 101,
   "source": [
    "### encoding the names\r\n",
    "from sklearn.preprocessing import OrdinalEncoder\r\n",
    "\r\n",
    "le = OrdinalEncoder()\r\n",
    "users = le.fit_transform(np.asarray(array).reshape(-1, 1))\r\n",
    "users = users.astype(int)\r\n",
    "df_reader.insert(0,'user', users)"
   ],
   "outputs": [],
   "metadata": {}
  },
  {
   "cell_type": "code",
   "execution_count": 103,
   "source": [
    "df_reader = df_reader.drop(columns=['username'])\r\n",
    "df_reader"
   ],
   "outputs": [
    {
     "output_type": "execute_result",
     "data": {
      "text/plain": [
       "         user product_id  escalados\n",
       "0        9915     725280   0.000000\n",
       "1       83213     328100   5.195230\n",
       "2       70080     328100   4.151611\n",
       "3       12199      35140   3.258925\n",
       "4       13355      35140   4.258560\n",
       "...       ...        ...        ...\n",
       "99996   34394     291550   4.619430\n",
       "99997   46184     291550   6.404132\n",
       "99998    5953     291550   4.233082\n",
       "99999   34931     233270   2.136740\n",
       "100000  20999     233270   3.639984\n",
       "\n",
       "[99793 rows x 3 columns]"
      ],
      "text/html": [
       "<div>\n",
       "<style scoped>\n",
       "    .dataframe tbody tr th:only-of-type {\n",
       "        vertical-align: middle;\n",
       "    }\n",
       "\n",
       "    .dataframe tbody tr th {\n",
       "        vertical-align: top;\n",
       "    }\n",
       "\n",
       "    .dataframe thead th {\n",
       "        text-align: right;\n",
       "    }\n",
       "</style>\n",
       "<table border=\"1\" class=\"dataframe\">\n",
       "  <thead>\n",
       "    <tr style=\"text-align: right;\">\n",
       "      <th></th>\n",
       "      <th>user</th>\n",
       "      <th>product_id</th>\n",
       "      <th>escalados</th>\n",
       "    </tr>\n",
       "  </thead>\n",
       "  <tbody>\n",
       "    <tr>\n",
       "      <th>0</th>\n",
       "      <td>9915</td>\n",
       "      <td>725280</td>\n",
       "      <td>0.000000</td>\n",
       "    </tr>\n",
       "    <tr>\n",
       "      <th>1</th>\n",
       "      <td>83213</td>\n",
       "      <td>328100</td>\n",
       "      <td>5.195230</td>\n",
       "    </tr>\n",
       "    <tr>\n",
       "      <th>2</th>\n",
       "      <td>70080</td>\n",
       "      <td>328100</td>\n",
       "      <td>4.151611</td>\n",
       "    </tr>\n",
       "    <tr>\n",
       "      <th>3</th>\n",
       "      <td>12199</td>\n",
       "      <td>35140</td>\n",
       "      <td>3.258925</td>\n",
       "    </tr>\n",
       "    <tr>\n",
       "      <th>4</th>\n",
       "      <td>13355</td>\n",
       "      <td>35140</td>\n",
       "      <td>4.258560</td>\n",
       "    </tr>\n",
       "    <tr>\n",
       "      <th>...</th>\n",
       "      <td>...</td>\n",
       "      <td>...</td>\n",
       "      <td>...</td>\n",
       "    </tr>\n",
       "    <tr>\n",
       "      <th>99996</th>\n",
       "      <td>34394</td>\n",
       "      <td>291550</td>\n",
       "      <td>4.619430</td>\n",
       "    </tr>\n",
       "    <tr>\n",
       "      <th>99997</th>\n",
       "      <td>46184</td>\n",
       "      <td>291550</td>\n",
       "      <td>6.404132</td>\n",
       "    </tr>\n",
       "    <tr>\n",
       "      <th>99998</th>\n",
       "      <td>5953</td>\n",
       "      <td>291550</td>\n",
       "      <td>4.233082</td>\n",
       "    </tr>\n",
       "    <tr>\n",
       "      <th>99999</th>\n",
       "      <td>34931</td>\n",
       "      <td>233270</td>\n",
       "      <td>2.136740</td>\n",
       "    </tr>\n",
       "    <tr>\n",
       "      <th>100000</th>\n",
       "      <td>20999</td>\n",
       "      <td>233270</td>\n",
       "      <td>3.639984</td>\n",
       "    </tr>\n",
       "  </tbody>\n",
       "</table>\n",
       "<p>99793 rows × 3 columns</p>\n",
       "</div>"
      ]
     },
     "metadata": {},
     "execution_count": 103
    }
   ],
   "metadata": {}
  },
  {
   "cell_type": "code",
   "execution_count": 104,
   "source": [
    "reader = Reader(rating_scale=(1,10), line_format='user item rating')\r\n",
    "data = Dataset.load_from_df(df_reader, reader=reader)"
   ],
   "outputs": [],
   "metadata": {}
  },
  {
   "cell_type": "code",
   "execution_count": 105,
   "source": [
    "from surprise.model_selection import train_test_split\r\n",
    "trainset, testset = train_test_split(data, test_size=.25)"
   ],
   "outputs": [],
   "metadata": {}
  },
  {
   "cell_type": "code",
   "execution_count": 107,
   "source": [
    "algo = SVD()\r\n",
    "# Train the algorithm on the trainset, and predict ratings for the testset\r\n",
    "# algo.fit(trainset)\r\n",
    "# predictions = algo.test(testset)\r\n",
    "\r\n",
    "# Then compute RMSE\r\n",
    "cross_validate(algo, data, measures=['RMSE', 'MAE'], cv=5, verbose=True)"
   ],
   "outputs": [
    {
     "output_type": "stream",
     "name": "stdout",
     "text": [
      "Evaluating RMSE, MAE of algorithm SVD on 5 split(s).\n",
      "\n",
      "                  Fold 1  Fold 2  Fold 3  Fold 4  Fold 5  Mean    Std     \n",
      "RMSE (testset)    1.2488  1.2604  1.2339  1.2497  1.2410  1.2468  0.0089  \n",
      "MAE (testset)     0.9279  0.9377  0.9187  0.9302  0.9243  0.9277  0.0063  \n",
      "Fit time          4.99    4.89    4.94    4.89    4.87    4.91    0.04    \n",
      "Test time         0.11    0.11    0.11    0.29    0.11    0.15    0.07    \n"
     ]
    },
    {
     "output_type": "execute_result",
     "data": {
      "text/plain": [
       "{'test_rmse': array([1.24882953, 1.26044983, 1.23387344, 1.24971265, 1.24101763]),\n",
       " 'test_mae': array([0.92788791, 0.93766794, 0.91873183, 0.93018529, 0.92426111]),\n",
       " 'fit_time': (4.986541032791138,\n",
       "  4.890384912490845,\n",
       "  4.939109563827515,\n",
       "  4.886096477508545,\n",
       "  4.865110397338867),\n",
       " 'test_time': (0.11059021949768066,\n",
       "  0.11102437973022461,\n",
       "  0.1090238094329834,\n",
       "  0.2850642204284668,\n",
       "  0.11022543907165527)}"
      ]
     },
     "metadata": {},
     "execution_count": 107
    }
   ],
   "metadata": {}
  },
  {
   "cell_type": "code",
   "execution_count": 108,
   "source": [
    "algo = SVD()\r\n",
    "# Train the algorithm on the trainset, and predict ratings for the testset\r\n",
    "algo.fit(trainset)\r\n",
    "predictions = algo.test(testset)"
   ],
   "outputs": [],
   "metadata": {}
  },
  {
   "cell_type": "code",
   "execution_count": 111,
   "source": [
    "predictions[2]"
   ],
   "outputs": [
    {
     "output_type": "execute_result",
     "data": {
      "text/plain": [
       "Prediction(uid=64039, iid='310370', r_ui=1.1548574711035533, est=1.1353366142866363, details={'was_impossible': False})"
      ]
     },
     "metadata": {},
     "execution_count": 111
    }
   ],
   "metadata": {}
  },
  {
   "cell_type": "code",
   "execution_count": 112,
   "source": [
    "algo.predict(9915, 35140)"
   ],
   "outputs": [
    {
     "output_type": "execute_result",
     "data": {
      "text/plain": [
       "Prediction(uid=9915, iid=35140, r_ui=None, est=3.669855386626867, details={'was_impossible': False})"
      ]
     },
     "metadata": {},
     "execution_count": 112
    }
   ],
   "metadata": {}
  }
 ],
 "metadata": {
  "kernelspec": {
   "name": "python3",
   "display_name": "Python 3.7.10 64-bit ('data2': conda)"
  },
  "language_info": {
   "codemirror_mode": {
    "name": "ipython",
    "version": 3
   },
   "file_extension": ".py",
   "mimetype": "text/x-python",
   "name": "python",
   "nbconvert_exporter": "python",
   "pygments_lexer": "ipython3",
   "version": "3.7.10"
  },
  "interpreter": {
   "hash": "9661aed0b3fdb0dcec1b39e6eeaaef4d253ac4cfb598271844c749af01c2717a"
  }
 },
 "nbformat": 4,
 "nbformat_minor": 5
}